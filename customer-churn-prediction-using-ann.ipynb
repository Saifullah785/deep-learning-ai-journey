{
 "cells": [
  {
   "cell_type": "code",
   "execution_count": 1,
   "id": "8c92c463",
   "metadata": {
    "_cell_guid": "b1076dfc-b9ad-4769-8c92-a6c4dae69d19",
    "_uuid": "8f2839f25d086af736a60e9eeb907d3b93b6e0e5",
    "execution": {
     "iopub.execute_input": "2025-03-16T06:10:08.611121Z",
     "iopub.status.busy": "2025-03-16T06:10:08.610731Z",
     "iopub.status.idle": "2025-03-16T06:10:09.744196Z",
     "shell.execute_reply": "2025-03-16T06:10:09.742742Z"
    },
    "papermill": {
     "duration": 1.155659,
     "end_time": "2025-03-16T06:10:09.746694",
     "exception": false,
     "start_time": "2025-03-16T06:10:08.591035",
     "status": "completed"
    },
    "tags": []
   },
   "outputs": [
    {
     "name": "stdout",
     "output_type": "stream",
     "text": [
      "/kaggle/input/credit-card-customer-churn-prediction/Churn_Modelling.csv\n"
     ]
    }
   ],
   "source": [
    "# This Python 3 environment comes with many helpful analytics libraries installed\n",
    "# It is defined by the kaggle/python Docker image: https://github.com/kaggle/docker-python\n",
    "# For example, here's several helpful packages to load\n",
    "\n",
    "import numpy as np # linear algebra\n",
    "import pandas as pd # data processing, CSV file I/O (e.g. pd.read_csv)\n",
    "\n",
    "# Input data files are available in the read-only \"../input/\" directory\n",
    "# For example, running this (by clicking run or pressing Shift+Enter) will list all files under the input directory\n",
    "\n",
    "import os\n",
    "for dirname, _, filenames in os.walk('/kaggle/input'):\n",
    "    for filename in filenames:\n",
    "        print(os.path.join(dirname, filename))\n",
    "\n",
    "# You can write up to 20GB to the current directory (/kaggle/working/) that gets preserved as output when you create a version using \"Save & Run All\" \n",
    "# You can also write temporary files to /kaggle/temp/, but they won't be saved outside of the current session"
   ]
  },
  {
   "cell_type": "code",
   "execution_count": 2,
   "id": "5404b14d",
   "metadata": {
    "execution": {
     "iopub.execute_input": "2025-03-16T06:10:09.763408Z",
     "iopub.status.busy": "2025-03-16T06:10:09.762697Z",
     "iopub.status.idle": "2025-03-16T06:10:09.841851Z",
     "shell.execute_reply": "2025-03-16T06:10:09.840554Z"
    },
    "papermill": {
     "duration": 0.089922,
     "end_time": "2025-03-16T06:10:09.844299",
     "exception": false,
     "start_time": "2025-03-16T06:10:09.754377",
     "status": "completed"
    },
    "tags": []
   },
   "outputs": [],
   "source": [
    "df = pd.read_csv(\"/kaggle/input/credit-card-customer-churn-prediction/Churn_Modelling.csv\")"
   ]
  },
  {
   "cell_type": "code",
   "execution_count": 3,
   "id": "83a49e88",
   "metadata": {
    "execution": {
     "iopub.execute_input": "2025-03-16T06:10:09.866741Z",
     "iopub.status.busy": "2025-03-16T06:10:09.866191Z",
     "iopub.status.idle": "2025-03-16T06:10:09.902395Z",
     "shell.execute_reply": "2025-03-16T06:10:09.901158Z"
    },
    "papermill": {
     "duration": 0.046234,
     "end_time": "2025-03-16T06:10:09.904366",
     "exception": false,
     "start_time": "2025-03-16T06:10:09.858132",
     "status": "completed"
    },
    "tags": []
   },
   "outputs": [
    {
     "data": {
      "text/html": [
       "<div>\n",
       "<style scoped>\n",
       "    .dataframe tbody tr th:only-of-type {\n",
       "        vertical-align: middle;\n",
       "    }\n",
       "\n",
       "    .dataframe tbody tr th {\n",
       "        vertical-align: top;\n",
       "    }\n",
       "\n",
       "    .dataframe thead th {\n",
       "        text-align: right;\n",
       "    }\n",
       "</style>\n",
       "<table border=\"1\" class=\"dataframe\">\n",
       "  <thead>\n",
       "    <tr style=\"text-align: right;\">\n",
       "      <th></th>\n",
       "      <th>RowNumber</th>\n",
       "      <th>CustomerId</th>\n",
       "      <th>Surname</th>\n",
       "      <th>CreditScore</th>\n",
       "      <th>Geography</th>\n",
       "      <th>Gender</th>\n",
       "      <th>Age</th>\n",
       "      <th>Tenure</th>\n",
       "      <th>Balance</th>\n",
       "      <th>NumOfProducts</th>\n",
       "      <th>HasCrCard</th>\n",
       "      <th>IsActiveMember</th>\n",
       "      <th>EstimatedSalary</th>\n",
       "      <th>Exited</th>\n",
       "    </tr>\n",
       "  </thead>\n",
       "  <tbody>\n",
       "    <tr>\n",
       "      <th>0</th>\n",
       "      <td>1</td>\n",
       "      <td>15634602</td>\n",
       "      <td>Hargrave</td>\n",
       "      <td>619</td>\n",
       "      <td>France</td>\n",
       "      <td>Female</td>\n",
       "      <td>42</td>\n",
       "      <td>2</td>\n",
       "      <td>0.00</td>\n",
       "      <td>1</td>\n",
       "      <td>1</td>\n",
       "      <td>1</td>\n",
       "      <td>101348.88</td>\n",
       "      <td>1</td>\n",
       "    </tr>\n",
       "    <tr>\n",
       "      <th>1</th>\n",
       "      <td>2</td>\n",
       "      <td>15647311</td>\n",
       "      <td>Hill</td>\n",
       "      <td>608</td>\n",
       "      <td>Spain</td>\n",
       "      <td>Female</td>\n",
       "      <td>41</td>\n",
       "      <td>1</td>\n",
       "      <td>83807.86</td>\n",
       "      <td>1</td>\n",
       "      <td>0</td>\n",
       "      <td>1</td>\n",
       "      <td>112542.58</td>\n",
       "      <td>0</td>\n",
       "    </tr>\n",
       "    <tr>\n",
       "      <th>2</th>\n",
       "      <td>3</td>\n",
       "      <td>15619304</td>\n",
       "      <td>Onio</td>\n",
       "      <td>502</td>\n",
       "      <td>France</td>\n",
       "      <td>Female</td>\n",
       "      <td>42</td>\n",
       "      <td>8</td>\n",
       "      <td>159660.80</td>\n",
       "      <td>3</td>\n",
       "      <td>1</td>\n",
       "      <td>0</td>\n",
       "      <td>113931.57</td>\n",
       "      <td>1</td>\n",
       "    </tr>\n",
       "    <tr>\n",
       "      <th>3</th>\n",
       "      <td>4</td>\n",
       "      <td>15701354</td>\n",
       "      <td>Boni</td>\n",
       "      <td>699</td>\n",
       "      <td>France</td>\n",
       "      <td>Female</td>\n",
       "      <td>39</td>\n",
       "      <td>1</td>\n",
       "      <td>0.00</td>\n",
       "      <td>2</td>\n",
       "      <td>0</td>\n",
       "      <td>0</td>\n",
       "      <td>93826.63</td>\n",
       "      <td>0</td>\n",
       "    </tr>\n",
       "    <tr>\n",
       "      <th>4</th>\n",
       "      <td>5</td>\n",
       "      <td>15737888</td>\n",
       "      <td>Mitchell</td>\n",
       "      <td>850</td>\n",
       "      <td>Spain</td>\n",
       "      <td>Female</td>\n",
       "      <td>43</td>\n",
       "      <td>2</td>\n",
       "      <td>125510.82</td>\n",
       "      <td>1</td>\n",
       "      <td>1</td>\n",
       "      <td>1</td>\n",
       "      <td>79084.10</td>\n",
       "      <td>0</td>\n",
       "    </tr>\n",
       "  </tbody>\n",
       "</table>\n",
       "</div>"
      ],
      "text/plain": [
       "   RowNumber  CustomerId   Surname  CreditScore Geography  Gender  Age  \\\n",
       "0          1    15634602  Hargrave          619    France  Female   42   \n",
       "1          2    15647311      Hill          608     Spain  Female   41   \n",
       "2          3    15619304      Onio          502    France  Female   42   \n",
       "3          4    15701354      Boni          699    France  Female   39   \n",
       "4          5    15737888  Mitchell          850     Spain  Female   43   \n",
       "\n",
       "   Tenure    Balance  NumOfProducts  HasCrCard  IsActiveMember  \\\n",
       "0       2       0.00              1          1               1   \n",
       "1       1   83807.86              1          0               1   \n",
       "2       8  159660.80              3          1               0   \n",
       "3       1       0.00              2          0               0   \n",
       "4       2  125510.82              1          1               1   \n",
       "\n",
       "   EstimatedSalary  Exited  \n",
       "0        101348.88       1  \n",
       "1        112542.58       0  \n",
       "2        113931.57       1  \n",
       "3         93826.63       0  \n",
       "4         79084.10       0  "
      ]
     },
     "execution_count": 3,
     "metadata": {},
     "output_type": "execute_result"
    }
   ],
   "source": [
    "df.head()"
   ]
  },
  {
   "cell_type": "code",
   "execution_count": 4,
   "id": "2d6d3605",
   "metadata": {
    "execution": {
     "iopub.execute_input": "2025-03-16T06:10:09.921857Z",
     "iopub.status.busy": "2025-03-16T06:10:09.921300Z",
     "iopub.status.idle": "2025-03-16T06:10:09.927888Z",
     "shell.execute_reply": "2025-03-16T06:10:09.926663Z"
    },
    "papermill": {
     "duration": 0.017606,
     "end_time": "2025-03-16T06:10:09.929743",
     "exception": false,
     "start_time": "2025-03-16T06:10:09.912137",
     "status": "completed"
    },
    "tags": []
   },
   "outputs": [
    {
     "name": "stdout",
     "output_type": "stream",
     "text": [
      "(10000, 14)\n"
     ]
    }
   ],
   "source": [
    "print(df.shape)"
   ]
  },
  {
   "cell_type": "code",
   "execution_count": 5,
   "id": "91584081",
   "metadata": {
    "execution": {
     "iopub.execute_input": "2025-03-16T06:10:09.946755Z",
     "iopub.status.busy": "2025-03-16T06:10:09.946189Z",
     "iopub.status.idle": "2025-03-16T06:10:09.986444Z",
     "shell.execute_reply": "2025-03-16T06:10:09.985271Z"
    },
    "papermill": {
     "duration": 0.051477,
     "end_time": "2025-03-16T06:10:09.988624",
     "exception": false,
     "start_time": "2025-03-16T06:10:09.937147",
     "status": "completed"
    },
    "tags": []
   },
   "outputs": [
    {
     "name": "stdout",
     "output_type": "stream",
     "text": [
      "<class 'pandas.core.frame.DataFrame'>\n",
      "RangeIndex: 10000 entries, 0 to 9999\n",
      "Data columns (total 14 columns):\n",
      " #   Column           Non-Null Count  Dtype  \n",
      "---  ------           --------------  -----  \n",
      " 0   RowNumber        10000 non-null  int64  \n",
      " 1   CustomerId       10000 non-null  int64  \n",
      " 2   Surname          10000 non-null  object \n",
      " 3   CreditScore      10000 non-null  int64  \n",
      " 4   Geography        10000 non-null  object \n",
      " 5   Gender           10000 non-null  object \n",
      " 6   Age              10000 non-null  int64  \n",
      " 7   Tenure           10000 non-null  int64  \n",
      " 8   Balance          10000 non-null  float64\n",
      " 9   NumOfProducts    10000 non-null  int64  \n",
      " 10  HasCrCard        10000 non-null  int64  \n",
      " 11  IsActiveMember   10000 non-null  int64  \n",
      " 12  EstimatedSalary  10000 non-null  float64\n",
      " 13  Exited           10000 non-null  int64  \n",
      "dtypes: float64(2), int64(9), object(3)\n",
      "memory usage: 1.1+ MB\n"
     ]
    }
   ],
   "source": [
    "df.info()"
   ]
  },
  {
   "cell_type": "code",
   "execution_count": 6,
   "id": "3b484785",
   "metadata": {
    "execution": {
     "iopub.execute_input": "2025-03-16T06:10:10.006638Z",
     "iopub.status.busy": "2025-03-16T06:10:10.006233Z",
     "iopub.status.idle": "2025-03-16T06:10:10.020847Z",
     "shell.execute_reply": "2025-03-16T06:10:10.019661Z"
    },
    "papermill": {
     "duration": 0.026316,
     "end_time": "2025-03-16T06:10:10.022776",
     "exception": false,
     "start_time": "2025-03-16T06:10:09.996460",
     "status": "completed"
    },
    "tags": []
   },
   "outputs": [
    {
     "data": {
      "text/plain": [
       "0"
      ]
     },
     "execution_count": 6,
     "metadata": {},
     "output_type": "execute_result"
    }
   ],
   "source": [
    "df.duplicated().sum()"
   ]
  },
  {
   "cell_type": "code",
   "execution_count": 7,
   "id": "c1c15da5",
   "metadata": {
    "execution": {
     "iopub.execute_input": "2025-03-16T06:10:10.039241Z",
     "iopub.status.busy": "2025-03-16T06:10:10.038835Z",
     "iopub.status.idle": "2025-03-16T06:10:10.053858Z",
     "shell.execute_reply": "2025-03-16T06:10:10.052867Z"
    },
    "papermill": {
     "duration": 0.025079,
     "end_time": "2025-03-16T06:10:10.055677",
     "exception": false,
     "start_time": "2025-03-16T06:10:10.030598",
     "status": "completed"
    },
    "tags": []
   },
   "outputs": [
    {
     "data": {
      "text/plain": [
       "Exited\n",
       "0    7963\n",
       "1    2037\n",
       "Name: count, dtype: int64"
      ]
     },
     "execution_count": 7,
     "metadata": {},
     "output_type": "execute_result"
    }
   ],
   "source": [
    "df[\"Exited\"].value_counts()"
   ]
  },
  {
   "cell_type": "code",
   "execution_count": 8,
   "id": "85bab5e0",
   "metadata": {
    "execution": {
     "iopub.execute_input": "2025-03-16T06:10:10.071879Z",
     "iopub.status.busy": "2025-03-16T06:10:10.071517Z",
     "iopub.status.idle": "2025-03-16T06:10:10.079841Z",
     "shell.execute_reply": "2025-03-16T06:10:10.078757Z"
    },
    "papermill": {
     "duration": 0.018338,
     "end_time": "2025-03-16T06:10:10.081637",
     "exception": false,
     "start_time": "2025-03-16T06:10:10.063299",
     "status": "completed"
    },
    "tags": []
   },
   "outputs": [
    {
     "data": {
      "text/plain": [
       "Geography\n",
       "France     5014\n",
       "Germany    2509\n",
       "Spain      2477\n",
       "Name: count, dtype: int64"
      ]
     },
     "execution_count": 8,
     "metadata": {},
     "output_type": "execute_result"
    }
   ],
   "source": [
    "df[\"Geography\"].value_counts()"
   ]
  },
  {
   "cell_type": "code",
   "execution_count": 9,
   "id": "bdfbf6d7",
   "metadata": {
    "execution": {
     "iopub.execute_input": "2025-03-16T06:10:10.098166Z",
     "iopub.status.busy": "2025-03-16T06:10:10.097780Z",
     "iopub.status.idle": "2025-03-16T06:10:10.106005Z",
     "shell.execute_reply": "2025-03-16T06:10:10.104881Z"
    },
    "papermill": {
     "duration": 0.018718,
     "end_time": "2025-03-16T06:10:10.107946",
     "exception": false,
     "start_time": "2025-03-16T06:10:10.089228",
     "status": "completed"
    },
    "tags": []
   },
   "outputs": [
    {
     "data": {
      "text/plain": [
       "Gender\n",
       "Male      5457\n",
       "Female    4543\n",
       "Name: count, dtype: int64"
      ]
     },
     "execution_count": 9,
     "metadata": {},
     "output_type": "execute_result"
    }
   ],
   "source": [
    "df[\"Gender\"].value_counts()"
   ]
  },
  {
   "cell_type": "code",
   "execution_count": 10,
   "id": "29655b75",
   "metadata": {
    "execution": {
     "iopub.execute_input": "2025-03-16T06:10:10.125185Z",
     "iopub.status.busy": "2025-03-16T06:10:10.124813Z",
     "iopub.status.idle": "2025-03-16T06:10:10.134406Z",
     "shell.execute_reply": "2025-03-16T06:10:10.133261Z"
    },
    "papermill": {
     "duration": 0.020581,
     "end_time": "2025-03-16T06:10:10.136734",
     "exception": false,
     "start_time": "2025-03-16T06:10:10.116153",
     "status": "completed"
    },
    "tags": []
   },
   "outputs": [],
   "source": [
    "df.drop(columns=['RowNumber','CustomerId','Surname'], inplace=True)"
   ]
  },
  {
   "cell_type": "code",
   "execution_count": 11,
   "id": "76256a3d",
   "metadata": {
    "execution": {
     "iopub.execute_input": "2025-03-16T06:10:10.154184Z",
     "iopub.status.busy": "2025-03-16T06:10:10.153703Z",
     "iopub.status.idle": "2025-03-16T06:10:10.168978Z",
     "shell.execute_reply": "2025-03-16T06:10:10.167739Z"
    },
    "papermill": {
     "duration": 0.026275,
     "end_time": "2025-03-16T06:10:10.170924",
     "exception": false,
     "start_time": "2025-03-16T06:10:10.144649",
     "status": "completed"
    },
    "tags": []
   },
   "outputs": [
    {
     "data": {
      "text/html": [
       "<div>\n",
       "<style scoped>\n",
       "    .dataframe tbody tr th:only-of-type {\n",
       "        vertical-align: middle;\n",
       "    }\n",
       "\n",
       "    .dataframe tbody tr th {\n",
       "        vertical-align: top;\n",
       "    }\n",
       "\n",
       "    .dataframe thead th {\n",
       "        text-align: right;\n",
       "    }\n",
       "</style>\n",
       "<table border=\"1\" class=\"dataframe\">\n",
       "  <thead>\n",
       "    <tr style=\"text-align: right;\">\n",
       "      <th></th>\n",
       "      <th>CreditScore</th>\n",
       "      <th>Geography</th>\n",
       "      <th>Gender</th>\n",
       "      <th>Age</th>\n",
       "      <th>Tenure</th>\n",
       "      <th>Balance</th>\n",
       "      <th>NumOfProducts</th>\n",
       "      <th>HasCrCard</th>\n",
       "      <th>IsActiveMember</th>\n",
       "      <th>EstimatedSalary</th>\n",
       "      <th>Exited</th>\n",
       "    </tr>\n",
       "  </thead>\n",
       "  <tbody>\n",
       "    <tr>\n",
       "      <th>0</th>\n",
       "      <td>619</td>\n",
       "      <td>France</td>\n",
       "      <td>Female</td>\n",
       "      <td>42</td>\n",
       "      <td>2</td>\n",
       "      <td>0.00</td>\n",
       "      <td>1</td>\n",
       "      <td>1</td>\n",
       "      <td>1</td>\n",
       "      <td>101348.88</td>\n",
       "      <td>1</td>\n",
       "    </tr>\n",
       "    <tr>\n",
       "      <th>1</th>\n",
       "      <td>608</td>\n",
       "      <td>Spain</td>\n",
       "      <td>Female</td>\n",
       "      <td>41</td>\n",
       "      <td>1</td>\n",
       "      <td>83807.86</td>\n",
       "      <td>1</td>\n",
       "      <td>0</td>\n",
       "      <td>1</td>\n",
       "      <td>112542.58</td>\n",
       "      <td>0</td>\n",
       "    </tr>\n",
       "    <tr>\n",
       "      <th>2</th>\n",
       "      <td>502</td>\n",
       "      <td>France</td>\n",
       "      <td>Female</td>\n",
       "      <td>42</td>\n",
       "      <td>8</td>\n",
       "      <td>159660.80</td>\n",
       "      <td>3</td>\n",
       "      <td>1</td>\n",
       "      <td>0</td>\n",
       "      <td>113931.57</td>\n",
       "      <td>1</td>\n",
       "    </tr>\n",
       "    <tr>\n",
       "      <th>3</th>\n",
       "      <td>699</td>\n",
       "      <td>France</td>\n",
       "      <td>Female</td>\n",
       "      <td>39</td>\n",
       "      <td>1</td>\n",
       "      <td>0.00</td>\n",
       "      <td>2</td>\n",
       "      <td>0</td>\n",
       "      <td>0</td>\n",
       "      <td>93826.63</td>\n",
       "      <td>0</td>\n",
       "    </tr>\n",
       "    <tr>\n",
       "      <th>4</th>\n",
       "      <td>850</td>\n",
       "      <td>Spain</td>\n",
       "      <td>Female</td>\n",
       "      <td>43</td>\n",
       "      <td>2</td>\n",
       "      <td>125510.82</td>\n",
       "      <td>1</td>\n",
       "      <td>1</td>\n",
       "      <td>1</td>\n",
       "      <td>79084.10</td>\n",
       "      <td>0</td>\n",
       "    </tr>\n",
       "  </tbody>\n",
       "</table>\n",
       "</div>"
      ],
      "text/plain": [
       "   CreditScore Geography  Gender  Age  Tenure    Balance  NumOfProducts  \\\n",
       "0          619    France  Female   42       2       0.00              1   \n",
       "1          608     Spain  Female   41       1   83807.86              1   \n",
       "2          502    France  Female   42       8  159660.80              3   \n",
       "3          699    France  Female   39       1       0.00              2   \n",
       "4          850     Spain  Female   43       2  125510.82              1   \n",
       "\n",
       "   HasCrCard  IsActiveMember  EstimatedSalary  Exited  \n",
       "0          1               1        101348.88       1  \n",
       "1          0               1        112542.58       0  \n",
       "2          1               0        113931.57       1  \n",
       "3          0               0         93826.63       0  \n",
       "4          1               1         79084.10       0  "
      ]
     },
     "execution_count": 11,
     "metadata": {},
     "output_type": "execute_result"
    }
   ],
   "source": [
    "df.head()"
   ]
  },
  {
   "cell_type": "markdown",
   "id": "18d5c4a9",
   "metadata": {
    "papermill": {
     "duration": 0.007592,
     "end_time": "2025-03-16T06:10:10.186564",
     "exception": false,
     "start_time": "2025-03-16T06:10:10.178972",
     "status": "completed"
    },
    "tags": []
   },
   "source": [
    "# One hot encoding"
   ]
  },
  {
   "cell_type": "code",
   "execution_count": 12,
   "id": "f4e50b29",
   "metadata": {
    "execution": {
     "iopub.execute_input": "2025-03-16T06:10:10.203295Z",
     "iopub.status.busy": "2025-03-16T06:10:10.202959Z",
     "iopub.status.idle": "2025-03-16T06:10:10.215005Z",
     "shell.execute_reply": "2025-03-16T06:10:10.213792Z"
    },
    "papermill": {
     "duration": 0.022831,
     "end_time": "2025-03-16T06:10:10.217101",
     "exception": false,
     "start_time": "2025-03-16T06:10:10.194270",
     "status": "completed"
    },
    "tags": []
   },
   "outputs": [],
   "source": [
    "df = pd.get_dummies(df,columns=['Geography','Gender'], drop_first=True)"
   ]
  },
  {
   "cell_type": "code",
   "execution_count": 13,
   "id": "31f1d0da",
   "metadata": {
    "execution": {
     "iopub.execute_input": "2025-03-16T06:10:10.235002Z",
     "iopub.status.busy": "2025-03-16T06:10:10.234625Z",
     "iopub.status.idle": "2025-03-16T06:10:10.254313Z",
     "shell.execute_reply": "2025-03-16T06:10:10.252886Z"
    },
    "papermill": {
     "duration": 0.031138,
     "end_time": "2025-03-16T06:10:10.256559",
     "exception": false,
     "start_time": "2025-03-16T06:10:10.225421",
     "status": "completed"
    },
    "tags": []
   },
   "outputs": [
    {
     "data": {
      "text/html": [
       "<div>\n",
       "<style scoped>\n",
       "    .dataframe tbody tr th:only-of-type {\n",
       "        vertical-align: middle;\n",
       "    }\n",
       "\n",
       "    .dataframe tbody tr th {\n",
       "        vertical-align: top;\n",
       "    }\n",
       "\n",
       "    .dataframe thead th {\n",
       "        text-align: right;\n",
       "    }\n",
       "</style>\n",
       "<table border=\"1\" class=\"dataframe\">\n",
       "  <thead>\n",
       "    <tr style=\"text-align: right;\">\n",
       "      <th></th>\n",
       "      <th>CreditScore</th>\n",
       "      <th>Age</th>\n",
       "      <th>Tenure</th>\n",
       "      <th>Balance</th>\n",
       "      <th>NumOfProducts</th>\n",
       "      <th>HasCrCard</th>\n",
       "      <th>IsActiveMember</th>\n",
       "      <th>EstimatedSalary</th>\n",
       "      <th>Exited</th>\n",
       "      <th>Geography_Germany</th>\n",
       "      <th>Geography_Spain</th>\n",
       "      <th>Gender_Male</th>\n",
       "    </tr>\n",
       "  </thead>\n",
       "  <tbody>\n",
       "    <tr>\n",
       "      <th>0</th>\n",
       "      <td>619</td>\n",
       "      <td>42</td>\n",
       "      <td>2</td>\n",
       "      <td>0.00</td>\n",
       "      <td>1</td>\n",
       "      <td>1</td>\n",
       "      <td>1</td>\n",
       "      <td>101348.88</td>\n",
       "      <td>1</td>\n",
       "      <td>False</td>\n",
       "      <td>False</td>\n",
       "      <td>False</td>\n",
       "    </tr>\n",
       "    <tr>\n",
       "      <th>1</th>\n",
       "      <td>608</td>\n",
       "      <td>41</td>\n",
       "      <td>1</td>\n",
       "      <td>83807.86</td>\n",
       "      <td>1</td>\n",
       "      <td>0</td>\n",
       "      <td>1</td>\n",
       "      <td>112542.58</td>\n",
       "      <td>0</td>\n",
       "      <td>False</td>\n",
       "      <td>True</td>\n",
       "      <td>False</td>\n",
       "    </tr>\n",
       "    <tr>\n",
       "      <th>2</th>\n",
       "      <td>502</td>\n",
       "      <td>42</td>\n",
       "      <td>8</td>\n",
       "      <td>159660.80</td>\n",
       "      <td>3</td>\n",
       "      <td>1</td>\n",
       "      <td>0</td>\n",
       "      <td>113931.57</td>\n",
       "      <td>1</td>\n",
       "      <td>False</td>\n",
       "      <td>False</td>\n",
       "      <td>False</td>\n",
       "    </tr>\n",
       "    <tr>\n",
       "      <th>3</th>\n",
       "      <td>699</td>\n",
       "      <td>39</td>\n",
       "      <td>1</td>\n",
       "      <td>0.00</td>\n",
       "      <td>2</td>\n",
       "      <td>0</td>\n",
       "      <td>0</td>\n",
       "      <td>93826.63</td>\n",
       "      <td>0</td>\n",
       "      <td>False</td>\n",
       "      <td>False</td>\n",
       "      <td>False</td>\n",
       "    </tr>\n",
       "    <tr>\n",
       "      <th>4</th>\n",
       "      <td>850</td>\n",
       "      <td>43</td>\n",
       "      <td>2</td>\n",
       "      <td>125510.82</td>\n",
       "      <td>1</td>\n",
       "      <td>1</td>\n",
       "      <td>1</td>\n",
       "      <td>79084.10</td>\n",
       "      <td>0</td>\n",
       "      <td>False</td>\n",
       "      <td>True</td>\n",
       "      <td>False</td>\n",
       "    </tr>\n",
       "    <tr>\n",
       "      <th>...</th>\n",
       "      <td>...</td>\n",
       "      <td>...</td>\n",
       "      <td>...</td>\n",
       "      <td>...</td>\n",
       "      <td>...</td>\n",
       "      <td>...</td>\n",
       "      <td>...</td>\n",
       "      <td>...</td>\n",
       "      <td>...</td>\n",
       "      <td>...</td>\n",
       "      <td>...</td>\n",
       "      <td>...</td>\n",
       "    </tr>\n",
       "    <tr>\n",
       "      <th>9995</th>\n",
       "      <td>771</td>\n",
       "      <td>39</td>\n",
       "      <td>5</td>\n",
       "      <td>0.00</td>\n",
       "      <td>2</td>\n",
       "      <td>1</td>\n",
       "      <td>0</td>\n",
       "      <td>96270.64</td>\n",
       "      <td>0</td>\n",
       "      <td>False</td>\n",
       "      <td>False</td>\n",
       "      <td>True</td>\n",
       "    </tr>\n",
       "    <tr>\n",
       "      <th>9996</th>\n",
       "      <td>516</td>\n",
       "      <td>35</td>\n",
       "      <td>10</td>\n",
       "      <td>57369.61</td>\n",
       "      <td>1</td>\n",
       "      <td>1</td>\n",
       "      <td>1</td>\n",
       "      <td>101699.77</td>\n",
       "      <td>0</td>\n",
       "      <td>False</td>\n",
       "      <td>False</td>\n",
       "      <td>True</td>\n",
       "    </tr>\n",
       "    <tr>\n",
       "      <th>9997</th>\n",
       "      <td>709</td>\n",
       "      <td>36</td>\n",
       "      <td>7</td>\n",
       "      <td>0.00</td>\n",
       "      <td>1</td>\n",
       "      <td>0</td>\n",
       "      <td>1</td>\n",
       "      <td>42085.58</td>\n",
       "      <td>1</td>\n",
       "      <td>False</td>\n",
       "      <td>False</td>\n",
       "      <td>False</td>\n",
       "    </tr>\n",
       "    <tr>\n",
       "      <th>9998</th>\n",
       "      <td>772</td>\n",
       "      <td>42</td>\n",
       "      <td>3</td>\n",
       "      <td>75075.31</td>\n",
       "      <td>2</td>\n",
       "      <td>1</td>\n",
       "      <td>0</td>\n",
       "      <td>92888.52</td>\n",
       "      <td>1</td>\n",
       "      <td>True</td>\n",
       "      <td>False</td>\n",
       "      <td>True</td>\n",
       "    </tr>\n",
       "    <tr>\n",
       "      <th>9999</th>\n",
       "      <td>792</td>\n",
       "      <td>28</td>\n",
       "      <td>4</td>\n",
       "      <td>130142.79</td>\n",
       "      <td>1</td>\n",
       "      <td>1</td>\n",
       "      <td>0</td>\n",
       "      <td>38190.78</td>\n",
       "      <td>0</td>\n",
       "      <td>False</td>\n",
       "      <td>False</td>\n",
       "      <td>False</td>\n",
       "    </tr>\n",
       "  </tbody>\n",
       "</table>\n",
       "<p>10000 rows × 12 columns</p>\n",
       "</div>"
      ],
      "text/plain": [
       "      CreditScore  Age  Tenure    Balance  NumOfProducts  HasCrCard  \\\n",
       "0             619   42       2       0.00              1          1   \n",
       "1             608   41       1   83807.86              1          0   \n",
       "2             502   42       8  159660.80              3          1   \n",
       "3             699   39       1       0.00              2          0   \n",
       "4             850   43       2  125510.82              1          1   \n",
       "...           ...  ...     ...        ...            ...        ...   \n",
       "9995          771   39       5       0.00              2          1   \n",
       "9996          516   35      10   57369.61              1          1   \n",
       "9997          709   36       7       0.00              1          0   \n",
       "9998          772   42       3   75075.31              2          1   \n",
       "9999          792   28       4  130142.79              1          1   \n",
       "\n",
       "      IsActiveMember  EstimatedSalary  Exited  Geography_Germany  \\\n",
       "0                  1        101348.88       1              False   \n",
       "1                  1        112542.58       0              False   \n",
       "2                  0        113931.57       1              False   \n",
       "3                  0         93826.63       0              False   \n",
       "4                  1         79084.10       0              False   \n",
       "...              ...              ...     ...                ...   \n",
       "9995               0         96270.64       0              False   \n",
       "9996               1        101699.77       0              False   \n",
       "9997               1         42085.58       1              False   \n",
       "9998               0         92888.52       1               True   \n",
       "9999               0         38190.78       0              False   \n",
       "\n",
       "      Geography_Spain  Gender_Male  \n",
       "0               False        False  \n",
       "1                True        False  \n",
       "2               False        False  \n",
       "3               False        False  \n",
       "4                True        False  \n",
       "...               ...          ...  \n",
       "9995            False         True  \n",
       "9996            False         True  \n",
       "9997            False        False  \n",
       "9998            False         True  \n",
       "9999            False        False  \n",
       "\n",
       "[10000 rows x 12 columns]"
      ]
     },
     "execution_count": 13,
     "metadata": {},
     "output_type": "execute_result"
    }
   ],
   "source": [
    "df"
   ]
  },
  {
   "cell_type": "code",
   "execution_count": 14,
   "id": "53eb0aca",
   "metadata": {
    "execution": {
     "iopub.execute_input": "2025-03-16T06:10:10.274854Z",
     "iopub.status.busy": "2025-03-16T06:10:10.274482Z",
     "iopub.status.idle": "2025-03-16T06:10:12.123529Z",
     "shell.execute_reply": "2025-03-16T06:10:12.122366Z"
    },
    "papermill": {
     "duration": 1.860713,
     "end_time": "2025-03-16T06:10:12.125747",
     "exception": false,
     "start_time": "2025-03-16T06:10:10.265034",
     "status": "completed"
    },
    "tags": []
   },
   "outputs": [],
   "source": [
    "X = df.drop(columns=['Exited'])\n",
    "Y = df['Exited']\n",
    "\n",
    "from sklearn.model_selection import train_test_split\n",
    "X_train,X_test,Y_train,Y_test = train_test_split(X,Y, test_size=0.2, random_state=1)"
   ]
  },
  {
   "cell_type": "code",
   "execution_count": 15,
   "id": "40630918",
   "metadata": {
    "execution": {
     "iopub.execute_input": "2025-03-16T06:10:12.144019Z",
     "iopub.status.busy": "2025-03-16T06:10:12.143449Z",
     "iopub.status.idle": "2025-03-16T06:10:12.151745Z",
     "shell.execute_reply": "2025-03-16T06:10:12.150385Z"
    },
    "papermill": {
     "duration": 0.019472,
     "end_time": "2025-03-16T06:10:12.153796",
     "exception": false,
     "start_time": "2025-03-16T06:10:12.134324",
     "status": "completed"
    },
    "tags": []
   },
   "outputs": [
    {
     "data": {
      "text/plain": [
       "(8000, 11)"
      ]
     },
     "execution_count": 15,
     "metadata": {},
     "output_type": "execute_result"
    }
   ],
   "source": [
    "X_train.shape"
   ]
  },
  {
   "cell_type": "markdown",
   "id": "1b5c5ade",
   "metadata": {
    "papermill": {
     "duration": 0.007997,
     "end_time": "2025-03-16T06:10:12.171612",
     "exception": false,
     "start_time": "2025-03-16T06:10:12.163615",
     "status": "completed"
    },
    "tags": []
   },
   "source": [
    "#  Scalling the Data"
   ]
  },
  {
   "cell_type": "code",
   "execution_count": 16,
   "id": "63a6827a",
   "metadata": {
    "execution": {
     "iopub.execute_input": "2025-03-16T06:10:12.189592Z",
     "iopub.status.busy": "2025-03-16T06:10:12.189152Z",
     "iopub.status.idle": "2025-03-16T06:10:12.235924Z",
     "shell.execute_reply": "2025-03-16T06:10:12.234531Z"
    },
    "papermill": {
     "duration": 0.05813,
     "end_time": "2025-03-16T06:10:12.237978",
     "exception": false,
     "start_time": "2025-03-16T06:10:12.179848",
     "status": "completed"
    },
    "tags": []
   },
   "outputs": [],
   "source": [
    "from sklearn.preprocessing import StandardScaler\n",
    "scaler = StandardScaler()\n",
    "\n",
    "X_train_scaled = scaler.fit_transform(X_train)\n",
    "X_test_scaled = scaler.transform(X_test)\n"
   ]
  },
  {
   "cell_type": "code",
   "execution_count": 17,
   "id": "7940b414",
   "metadata": {
    "execution": {
     "iopub.execute_input": "2025-03-16T06:10:12.256866Z",
     "iopub.status.busy": "2025-03-16T06:10:12.256518Z",
     "iopub.status.idle": "2025-03-16T06:10:12.262776Z",
     "shell.execute_reply": "2025-03-16T06:10:12.261210Z"
    },
    "papermill": {
     "duration": 0.018457,
     "end_time": "2025-03-16T06:10:12.264964",
     "exception": false,
     "start_time": "2025-03-16T06:10:12.246507",
     "status": "completed"
    },
    "tags": []
   },
   "outputs": [
    {
     "name": "stdout",
     "output_type": "stream",
     "text": [
      "[[-0.23082038 -0.94449979 -0.70174202 ...  1.71490137 -0.57273139\n",
      "   0.91509065]\n",
      " [-0.25150912 -0.94449979 -0.35520275 ... -0.58312392 -0.57273139\n",
      "  -1.09278791]\n",
      " [-0.3963303   0.77498705  0.33787579 ...  1.71490137 -0.57273139\n",
      "  -1.09278791]\n",
      " ...\n",
      " [ 0.22433188  0.58393295  1.3774936  ... -0.58312392 -0.57273139\n",
      "  -1.09278791]\n",
      " [ 0.13123255  0.01077067  1.03095433 ... -0.58312392 -0.57273139\n",
      "  -1.09278791]\n",
      " [ 1.1656695   0.29735181  0.33787579 ...  1.71490137 -0.57273139\n",
      "   0.91509065]]\n"
     ]
    }
   ],
   "source": [
    "print(X_train_scaled)"
   ]
  },
  {
   "cell_type": "markdown",
   "id": "ffed72e3",
   "metadata": {
    "papermill": {
     "duration": 0.008033,
     "end_time": "2025-03-16T06:10:12.281664",
     "exception": false,
     "start_time": "2025-03-16T06:10:12.273631",
     "status": "completed"
    },
    "tags": []
   },
   "source": [
    "# Apply Keras"
   ]
  },
  {
   "cell_type": "code",
   "execution_count": 18,
   "id": "90da3f87",
   "metadata": {
    "execution": {
     "iopub.execute_input": "2025-03-16T06:10:12.299783Z",
     "iopub.status.busy": "2025-03-16T06:10:12.299416Z",
     "iopub.status.idle": "2025-03-16T06:10:29.357031Z",
     "shell.execute_reply": "2025-03-16T06:10:29.355765Z"
    },
    "papermill": {
     "duration": 17.069164,
     "end_time": "2025-03-16T06:10:29.359072",
     "exception": false,
     "start_time": "2025-03-16T06:10:12.289908",
     "status": "completed"
    },
    "tags": []
   },
   "outputs": [],
   "source": [
    "import tensorflow\n",
    "from tensorflow import keras\n",
    "from tensorflow.keras import Sequential\n",
    "from tensorflow.keras.layers import Dense\n"
   ]
  },
  {
   "cell_type": "code",
   "execution_count": 19,
   "id": "dc5e3c94",
   "metadata": {
    "execution": {
     "iopub.execute_input": "2025-03-16T06:10:29.377479Z",
     "iopub.status.busy": "2025-03-16T06:10:29.376788Z",
     "iopub.status.idle": "2025-03-16T06:10:29.477836Z",
     "shell.execute_reply": "2025-03-16T06:10:29.476228Z"
    },
    "papermill": {
     "duration": 0.112319,
     "end_time": "2025-03-16T06:10:29.479898",
     "exception": false,
     "start_time": "2025-03-16T06:10:29.367579",
     "status": "completed"
    },
    "tags": []
   },
   "outputs": [
    {
     "name": "stderr",
     "output_type": "stream",
     "text": [
      "/usr/local/lib/python3.10/dist-packages/keras/src/layers/core/dense.py:87: UserWarning: Do not pass an `input_shape`/`input_dim` argument to a layer. When using Sequential models, prefer using an `Input(shape)` object as the first layer in the model instead.\n",
      "  super().__init__(activity_regularizer=activity_regularizer, **kwargs)\n"
     ]
    }
   ],
   "source": [
    "model = Sequential()\n",
    "\n",
    "# model.add(Dense(3,activation='sigmoid',input_dim=11))\n",
    "# model.add(Dense(1,activation='sigmoid'))\n",
    "\n",
    "model.add(Dense(11,activation='relu',input_dim=11))\n",
    "model.add(Dense(11,activation='relu'))\n",
    "model.add(Dense(1,activation='sigmoid'))\n"
   ]
  },
  {
   "cell_type": "code",
   "execution_count": 20,
   "id": "2eeae863",
   "metadata": {
    "execution": {
     "iopub.execute_input": "2025-03-16T06:10:29.498556Z",
     "iopub.status.busy": "2025-03-16T06:10:29.498088Z",
     "iopub.status.idle": "2025-03-16T06:10:29.518915Z",
     "shell.execute_reply": "2025-03-16T06:10:29.517592Z"
    },
    "papermill": {
     "duration": 0.032478,
     "end_time": "2025-03-16T06:10:29.520959",
     "exception": false,
     "start_time": "2025-03-16T06:10:29.488481",
     "status": "completed"
    },
    "tags": []
   },
   "outputs": [
    {
     "data": {
      "text/html": [
       "<pre style=\"white-space:pre;overflow-x:auto;line-height:normal;font-family:Menlo,'DejaVu Sans Mono',consolas,'Courier New',monospace\"><span style=\"font-weight: bold\">Model: \"sequential\"</span>\n",
       "</pre>\n"
      ],
      "text/plain": [
       "\u001b[1mModel: \"sequential\"\u001b[0m\n"
      ]
     },
     "metadata": {},
     "output_type": "display_data"
    },
    {
     "data": {
      "text/html": [
       "<pre style=\"white-space:pre;overflow-x:auto;line-height:normal;font-family:Menlo,'DejaVu Sans Mono',consolas,'Courier New',monospace\">┏━━━━━━━━━━━━━━━━━━━━━━━━━━━━━━━━━━━━━━┳━━━━━━━━━━━━━━━━━━━━━━━━━━━━━┳━━━━━━━━━━━━━━━━━┓\n",
       "┃<span style=\"font-weight: bold\"> Layer (type)                         </span>┃<span style=\"font-weight: bold\"> Output Shape                </span>┃<span style=\"font-weight: bold\">         Param # </span>┃\n",
       "┡━━━━━━━━━━━━━━━━━━━━━━━━━━━━━━━━━━━━━━╇━━━━━━━━━━━━━━━━━━━━━━━━━━━━━╇━━━━━━━━━━━━━━━━━┩\n",
       "│ dense (<span style=\"color: #0087ff; text-decoration-color: #0087ff\">Dense</span>)                        │ (<span style=\"color: #00d7ff; text-decoration-color: #00d7ff\">None</span>, <span style=\"color: #00af00; text-decoration-color: #00af00\">11</span>)                  │             <span style=\"color: #00af00; text-decoration-color: #00af00\">132</span> │\n",
       "├──────────────────────────────────────┼─────────────────────────────┼─────────────────┤\n",
       "│ dense_1 (<span style=\"color: #0087ff; text-decoration-color: #0087ff\">Dense</span>)                      │ (<span style=\"color: #00d7ff; text-decoration-color: #00d7ff\">None</span>, <span style=\"color: #00af00; text-decoration-color: #00af00\">11</span>)                  │             <span style=\"color: #00af00; text-decoration-color: #00af00\">132</span> │\n",
       "├──────────────────────────────────────┼─────────────────────────────┼─────────────────┤\n",
       "│ dense_2 (<span style=\"color: #0087ff; text-decoration-color: #0087ff\">Dense</span>)                      │ (<span style=\"color: #00d7ff; text-decoration-color: #00d7ff\">None</span>, <span style=\"color: #00af00; text-decoration-color: #00af00\">1</span>)                   │              <span style=\"color: #00af00; text-decoration-color: #00af00\">12</span> │\n",
       "└──────────────────────────────────────┴─────────────────────────────┴─────────────────┘\n",
       "</pre>\n"
      ],
      "text/plain": [
       "┏━━━━━━━━━━━━━━━━━━━━━━━━━━━━━━━━━━━━━━┳━━━━━━━━━━━━━━━━━━━━━━━━━━━━━┳━━━━━━━━━━━━━━━━━┓\n",
       "┃\u001b[1m \u001b[0m\u001b[1mLayer (type)                        \u001b[0m\u001b[1m \u001b[0m┃\u001b[1m \u001b[0m\u001b[1mOutput Shape               \u001b[0m\u001b[1m \u001b[0m┃\u001b[1m \u001b[0m\u001b[1m        Param #\u001b[0m\u001b[1m \u001b[0m┃\n",
       "┡━━━━━━━━━━━━━━━━━━━━━━━━━━━━━━━━━━━━━━╇━━━━━━━━━━━━━━━━━━━━━━━━━━━━━╇━━━━━━━━━━━━━━━━━┩\n",
       "│ dense (\u001b[38;5;33mDense\u001b[0m)                        │ (\u001b[38;5;45mNone\u001b[0m, \u001b[38;5;34m11\u001b[0m)                  │             \u001b[38;5;34m132\u001b[0m │\n",
       "├──────────────────────────────────────┼─────────────────────────────┼─────────────────┤\n",
       "│ dense_1 (\u001b[38;5;33mDense\u001b[0m)                      │ (\u001b[38;5;45mNone\u001b[0m, \u001b[38;5;34m11\u001b[0m)                  │             \u001b[38;5;34m132\u001b[0m │\n",
       "├──────────────────────────────────────┼─────────────────────────────┼─────────────────┤\n",
       "│ dense_2 (\u001b[38;5;33mDense\u001b[0m)                      │ (\u001b[38;5;45mNone\u001b[0m, \u001b[38;5;34m1\u001b[0m)                   │              \u001b[38;5;34m12\u001b[0m │\n",
       "└──────────────────────────────────────┴─────────────────────────────┴─────────────────┘\n"
      ]
     },
     "metadata": {},
     "output_type": "display_data"
    },
    {
     "data": {
      "text/html": [
       "<pre style=\"white-space:pre;overflow-x:auto;line-height:normal;font-family:Menlo,'DejaVu Sans Mono',consolas,'Courier New',monospace\"><span style=\"font-weight: bold\"> Total params: </span><span style=\"color: #00af00; text-decoration-color: #00af00\">276</span> (1.08 KB)\n",
       "</pre>\n"
      ],
      "text/plain": [
       "\u001b[1m Total params: \u001b[0m\u001b[38;5;34m276\u001b[0m (1.08 KB)\n"
      ]
     },
     "metadata": {},
     "output_type": "display_data"
    },
    {
     "data": {
      "text/html": [
       "<pre style=\"white-space:pre;overflow-x:auto;line-height:normal;font-family:Menlo,'DejaVu Sans Mono',consolas,'Courier New',monospace\"><span style=\"font-weight: bold\"> Trainable params: </span><span style=\"color: #00af00; text-decoration-color: #00af00\">276</span> (1.08 KB)\n",
       "</pre>\n"
      ],
      "text/plain": [
       "\u001b[1m Trainable params: \u001b[0m\u001b[38;5;34m276\u001b[0m (1.08 KB)\n"
      ]
     },
     "metadata": {},
     "output_type": "display_data"
    },
    {
     "data": {
      "text/html": [
       "<pre style=\"white-space:pre;overflow-x:auto;line-height:normal;font-family:Menlo,'DejaVu Sans Mono',consolas,'Courier New',monospace\"><span style=\"font-weight: bold\"> Non-trainable params: </span><span style=\"color: #00af00; text-decoration-color: #00af00\">0</span> (0.00 B)\n",
       "</pre>\n"
      ],
      "text/plain": [
       "\u001b[1m Non-trainable params: \u001b[0m\u001b[38;5;34m0\u001b[0m (0.00 B)\n"
      ]
     },
     "metadata": {},
     "output_type": "display_data"
    }
   ],
   "source": [
    "model.summary()"
   ]
  },
  {
   "cell_type": "markdown",
   "id": "91aa5c3d",
   "metadata": {
    "papermill": {
     "duration": 0.008927,
     "end_time": "2025-03-16T06:10:29.539205",
     "exception": false,
     "start_time": "2025-03-16T06:10:29.530278",
     "status": "completed"
    },
    "tags": []
   },
   "source": [
    "# Model Compilation "
   ]
  },
  {
   "cell_type": "code",
   "execution_count": 21,
   "id": "1f49523d",
   "metadata": {
    "execution": {
     "iopub.execute_input": "2025-03-16T06:10:29.558800Z",
     "iopub.status.busy": "2025-03-16T06:10:29.558419Z",
     "iopub.status.idle": "2025-03-16T06:10:29.573403Z",
     "shell.execute_reply": "2025-03-16T06:10:29.572174Z"
    },
    "papermill": {
     "duration": 0.027004,
     "end_time": "2025-03-16T06:10:29.575409",
     "exception": false,
     "start_time": "2025-03-16T06:10:29.548405",
     "status": "completed"
    },
    "tags": []
   },
   "outputs": [],
   "source": [
    "model.compile(loss='binary_crossentropy',optimizer='Adam',metrics=['accuracy'])\n"
   ]
  },
  {
   "cell_type": "code",
   "execution_count": 22,
   "id": "242b73be",
   "metadata": {
    "execution": {
     "iopub.execute_input": "2025-03-16T06:10:29.595481Z",
     "iopub.status.busy": "2025-03-16T06:10:29.595065Z",
     "iopub.status.idle": "2025-03-16T06:11:09.371137Z",
     "shell.execute_reply": "2025-03-16T06:11:09.369987Z"
    },
    "papermill": {
     "duration": 39.78842,
     "end_time": "2025-03-16T06:11:09.373104",
     "exception": false,
     "start_time": "2025-03-16T06:10:29.584684",
     "status": "completed"
    },
    "tags": []
   },
   "outputs": [
    {
     "name": "stdout",
     "output_type": "stream",
     "text": [
      "Epoch 1/100\n",
      "\u001b[1m200/200\u001b[0m \u001b[32m━━━━━━━━━━━━━━━━━━━━\u001b[0m\u001b[37m\u001b[0m \u001b[1m2s\u001b[0m 3ms/step - accuracy: 0.5550 - loss: 0.7219 - val_accuracy: 0.7962 - val_loss: 0.5215\n",
      "Epoch 2/100\n",
      "\u001b[1m200/200\u001b[0m \u001b[32m━━━━━━━━━━━━━━━━━━━━\u001b[0m\u001b[37m\u001b[0m \u001b[1m0s\u001b[0m 2ms/step - accuracy: 0.7921 - loss: 0.4958 - val_accuracy: 0.8006 - val_loss: 0.4711\n",
      "Epoch 3/100\n",
      "\u001b[1m200/200\u001b[0m \u001b[32m━━━━━━━━━━━━━━━━━━━━\u001b[0m\u001b[37m\u001b[0m \u001b[1m0s\u001b[0m 2ms/step - accuracy: 0.8082 - loss: 0.4489 - val_accuracy: 0.8094 - val_loss: 0.4499\n",
      "Epoch 4/100\n",
      "\u001b[1m200/200\u001b[0m \u001b[32m━━━━━━━━━━━━━━━━━━━━\u001b[0m\u001b[37m\u001b[0m \u001b[1m0s\u001b[0m 2ms/step - accuracy: 0.8136 - loss: 0.4356 - val_accuracy: 0.8119 - val_loss: 0.4387\n",
      "Epoch 5/100\n",
      "\u001b[1m200/200\u001b[0m \u001b[32m━━━━━━━━━━━━━━━━━━━━\u001b[0m\u001b[37m\u001b[0m \u001b[1m0s\u001b[0m 2ms/step - accuracy: 0.8245 - loss: 0.4215 - val_accuracy: 0.8175 - val_loss: 0.4307\n",
      "Epoch 6/100\n",
      "\u001b[1m200/200\u001b[0m \u001b[32m━━━━━━━━━━━━━━━━━━━━\u001b[0m\u001b[37m\u001b[0m \u001b[1m0s\u001b[0m 2ms/step - accuracy: 0.8196 - loss: 0.4197 - val_accuracy: 0.8200 - val_loss: 0.4221\n",
      "Epoch 7/100\n",
      "\u001b[1m200/200\u001b[0m \u001b[32m━━━━━━━━━━━━━━━━━━━━\u001b[0m\u001b[37m\u001b[0m \u001b[1m0s\u001b[0m 2ms/step - accuracy: 0.8320 - loss: 0.4129 - val_accuracy: 0.8294 - val_loss: 0.4126\n",
      "Epoch 8/100\n",
      "\u001b[1m200/200\u001b[0m \u001b[32m━━━━━━━━━━━━━━━━━━━━\u001b[0m\u001b[37m\u001b[0m \u001b[1m0s\u001b[0m 2ms/step - accuracy: 0.8337 - loss: 0.4005 - val_accuracy: 0.8313 - val_loss: 0.4009\n",
      "Epoch 9/100\n",
      "\u001b[1m200/200\u001b[0m \u001b[32m━━━━━━━━━━━━━━━━━━━━\u001b[0m\u001b[37m\u001b[0m \u001b[1m0s\u001b[0m 2ms/step - accuracy: 0.8401 - loss: 0.3972 - val_accuracy: 0.8394 - val_loss: 0.3846\n",
      "Epoch 10/100\n",
      "\u001b[1m200/200\u001b[0m \u001b[32m━━━━━━━━━━━━━━━━━━━━\u001b[0m\u001b[37m\u001b[0m \u001b[1m0s\u001b[0m 2ms/step - accuracy: 0.8447 - loss: 0.3739 - val_accuracy: 0.8431 - val_loss: 0.3711\n",
      "Epoch 11/100\n",
      "\u001b[1m200/200\u001b[0m \u001b[32m━━━━━━━━━━━━━━━━━━━━\u001b[0m\u001b[37m\u001b[0m \u001b[1m0s\u001b[0m 2ms/step - accuracy: 0.8536 - loss: 0.3655 - val_accuracy: 0.8512 - val_loss: 0.3631\n",
      "Epoch 12/100\n",
      "\u001b[1m200/200\u001b[0m \u001b[32m━━━━━━━━━━━━━━━━━━━━\u001b[0m\u001b[37m\u001b[0m \u001b[1m0s\u001b[0m 2ms/step - accuracy: 0.8527 - loss: 0.3603 - val_accuracy: 0.8487 - val_loss: 0.3579\n",
      "Epoch 13/100\n",
      "\u001b[1m200/200\u001b[0m \u001b[32m━━━━━━━━━━━━━━━━━━━━\u001b[0m\u001b[37m\u001b[0m \u001b[1m0s\u001b[0m 2ms/step - accuracy: 0.8534 - loss: 0.3579 - val_accuracy: 0.8450 - val_loss: 0.3572\n",
      "Epoch 14/100\n",
      "\u001b[1m200/200\u001b[0m \u001b[32m━━━━━━━━━━━━━━━━━━━━\u001b[0m\u001b[37m\u001b[0m \u001b[1m0s\u001b[0m 2ms/step - accuracy: 0.8660 - loss: 0.3369 - val_accuracy: 0.8506 - val_loss: 0.3515\n",
      "Epoch 15/100\n",
      "\u001b[1m200/200\u001b[0m \u001b[32m━━━━━━━━━━━━━━━━━━━━\u001b[0m\u001b[37m\u001b[0m \u001b[1m0s\u001b[0m 2ms/step - accuracy: 0.8559 - loss: 0.3539 - val_accuracy: 0.8462 - val_loss: 0.3531\n",
      "Epoch 16/100\n",
      "\u001b[1m200/200\u001b[0m \u001b[32m━━━━━━━━━━━━━━━━━━━━\u001b[0m\u001b[37m\u001b[0m \u001b[1m0s\u001b[0m 2ms/step - accuracy: 0.8581 - loss: 0.3534 - val_accuracy: 0.8487 - val_loss: 0.3502\n",
      "Epoch 17/100\n",
      "\u001b[1m200/200\u001b[0m \u001b[32m━━━━━━━━━━━━━━━━━━━━\u001b[0m\u001b[37m\u001b[0m \u001b[1m0s\u001b[0m 2ms/step - accuracy: 0.8538 - loss: 0.3500 - val_accuracy: 0.8494 - val_loss: 0.3494\n",
      "Epoch 18/100\n",
      "\u001b[1m200/200\u001b[0m \u001b[32m━━━━━━━━━━━━━━━━━━━━\u001b[0m\u001b[37m\u001b[0m \u001b[1m0s\u001b[0m 2ms/step - accuracy: 0.8616 - loss: 0.3386 - val_accuracy: 0.8487 - val_loss: 0.3502\n",
      "Epoch 19/100\n",
      "\u001b[1m200/200\u001b[0m \u001b[32m━━━━━━━━━━━━━━━━━━━━\u001b[0m\u001b[37m\u001b[0m \u001b[1m0s\u001b[0m 2ms/step - accuracy: 0.8598 - loss: 0.3416 - val_accuracy: 0.8519 - val_loss: 0.3493\n",
      "Epoch 20/100\n",
      "\u001b[1m200/200\u001b[0m \u001b[32m━━━━━━━━━━━━━━━━━━━━\u001b[0m\u001b[37m\u001b[0m \u001b[1m0s\u001b[0m 2ms/step - accuracy: 0.8638 - loss: 0.3375 - val_accuracy: 0.8481 - val_loss: 0.3511\n",
      "Epoch 21/100\n",
      "\u001b[1m200/200\u001b[0m \u001b[32m━━━━━━━━━━━━━━━━━━━━\u001b[0m\u001b[37m\u001b[0m \u001b[1m0s\u001b[0m 2ms/step - accuracy: 0.8554 - loss: 0.3498 - val_accuracy: 0.8512 - val_loss: 0.3497\n",
      "Epoch 22/100\n",
      "\u001b[1m200/200\u001b[0m \u001b[32m━━━━━━━━━━━━━━━━━━━━\u001b[0m\u001b[37m\u001b[0m \u001b[1m0s\u001b[0m 2ms/step - accuracy: 0.8621 - loss: 0.3426 - val_accuracy: 0.8481 - val_loss: 0.3503\n",
      "Epoch 23/100\n",
      "\u001b[1m200/200\u001b[0m \u001b[32m━━━━━━━━━━━━━━━━━━━━\u001b[0m\u001b[37m\u001b[0m \u001b[1m0s\u001b[0m 2ms/step - accuracy: 0.8622 - loss: 0.3360 - val_accuracy: 0.8481 - val_loss: 0.3494\n",
      "Epoch 24/100\n",
      "\u001b[1m200/200\u001b[0m \u001b[32m━━━━━━━━━━━━━━━━━━━━\u001b[0m\u001b[37m\u001b[0m \u001b[1m0s\u001b[0m 2ms/step - accuracy: 0.8616 - loss: 0.3385 - val_accuracy: 0.8481 - val_loss: 0.3496\n",
      "Epoch 25/100\n",
      "\u001b[1m200/200\u001b[0m \u001b[32m━━━━━━━━━━━━━━━━━━━━\u001b[0m\u001b[37m\u001b[0m \u001b[1m0s\u001b[0m 2ms/step - accuracy: 0.8630 - loss: 0.3387 - val_accuracy: 0.8487 - val_loss: 0.3483\n",
      "Epoch 26/100\n",
      "\u001b[1m200/200\u001b[0m \u001b[32m━━━━━━━━━━━━━━━━━━━━\u001b[0m\u001b[37m\u001b[0m \u001b[1m0s\u001b[0m 2ms/step - accuracy: 0.8592 - loss: 0.3358 - val_accuracy: 0.8469 - val_loss: 0.3498\n",
      "Epoch 27/100\n",
      "\u001b[1m200/200\u001b[0m \u001b[32m━━━━━━━━━━━━━━━━━━━━\u001b[0m\u001b[37m\u001b[0m \u001b[1m0s\u001b[0m 2ms/step - accuracy: 0.8702 - loss: 0.3225 - val_accuracy: 0.8487 - val_loss: 0.3490\n",
      "Epoch 28/100\n",
      "\u001b[1m200/200\u001b[0m \u001b[32m━━━━━━━━━━━━━━━━━━━━\u001b[0m\u001b[37m\u001b[0m \u001b[1m0s\u001b[0m 2ms/step - accuracy: 0.8650 - loss: 0.3340 - val_accuracy: 0.8525 - val_loss: 0.3484\n",
      "Epoch 29/100\n",
      "\u001b[1m200/200\u001b[0m \u001b[32m━━━━━━━━━━━━━━━━━━━━\u001b[0m\u001b[37m\u001b[0m \u001b[1m0s\u001b[0m 2ms/step - accuracy: 0.8671 - loss: 0.3296 - val_accuracy: 0.8487 - val_loss: 0.3496\n",
      "Epoch 30/100\n",
      "\u001b[1m200/200\u001b[0m \u001b[32m━━━━━━━━━━━━━━━━━━━━\u001b[0m\u001b[37m\u001b[0m \u001b[1m0s\u001b[0m 2ms/step - accuracy: 0.8630 - loss: 0.3287 - val_accuracy: 0.8481 - val_loss: 0.3470\n",
      "Epoch 31/100\n",
      "\u001b[1m200/200\u001b[0m \u001b[32m━━━━━━━━━━━━━━━━━━━━\u001b[0m\u001b[37m\u001b[0m \u001b[1m0s\u001b[0m 2ms/step - accuracy: 0.8583 - loss: 0.3473 - val_accuracy: 0.8475 - val_loss: 0.3488\n",
      "Epoch 32/100\n",
      "\u001b[1m200/200\u001b[0m \u001b[32m━━━━━━━━━━━━━━━━━━━━\u001b[0m\u001b[37m\u001b[0m \u001b[1m0s\u001b[0m 2ms/step - accuracy: 0.8679 - loss: 0.3293 - val_accuracy: 0.8487 - val_loss: 0.3477\n",
      "Epoch 33/100\n",
      "\u001b[1m200/200\u001b[0m \u001b[32m━━━━━━━━━━━━━━━━━━━━\u001b[0m\u001b[37m\u001b[0m \u001b[1m0s\u001b[0m 2ms/step - accuracy: 0.8663 - loss: 0.3232 - val_accuracy: 0.8481 - val_loss: 0.3476\n",
      "Epoch 34/100\n",
      "\u001b[1m200/200\u001b[0m \u001b[32m━━━━━━━━━━━━━━━━━━━━\u001b[0m\u001b[37m\u001b[0m \u001b[1m0s\u001b[0m 2ms/step - accuracy: 0.8678 - loss: 0.3292 - val_accuracy: 0.8519 - val_loss: 0.3470\n",
      "Epoch 35/100\n",
      "\u001b[1m200/200\u001b[0m \u001b[32m━━━━━━━━━━━━━━━━━━━━\u001b[0m\u001b[37m\u001b[0m \u001b[1m0s\u001b[0m 2ms/step - accuracy: 0.8663 - loss: 0.3390 - val_accuracy: 0.8475 - val_loss: 0.3474\n",
      "Epoch 36/100\n",
      "\u001b[1m200/200\u001b[0m \u001b[32m━━━━━━━━━━━━━━━━━━━━\u001b[0m\u001b[37m\u001b[0m \u001b[1m0s\u001b[0m 2ms/step - accuracy: 0.8613 - loss: 0.3272 - val_accuracy: 0.8537 - val_loss: 0.3465\n",
      "Epoch 37/100\n",
      "\u001b[1m200/200\u001b[0m \u001b[32m━━━━━━━━━━━━━━━━━━━━\u001b[0m\u001b[37m\u001b[0m \u001b[1m0s\u001b[0m 2ms/step - accuracy: 0.8621 - loss: 0.3300 - val_accuracy: 0.8469 - val_loss: 0.3476\n",
      "Epoch 38/100\n",
      "\u001b[1m200/200\u001b[0m \u001b[32m━━━━━━━━━━━━━━━━━━━━\u001b[0m\u001b[37m\u001b[0m \u001b[1m0s\u001b[0m 2ms/step - accuracy: 0.8629 - loss: 0.3280 - val_accuracy: 0.8456 - val_loss: 0.3469\n",
      "Epoch 39/100\n",
      "\u001b[1m200/200\u001b[0m \u001b[32m━━━━━━━━━━━━━━━━━━━━\u001b[0m\u001b[37m\u001b[0m \u001b[1m0s\u001b[0m 2ms/step - accuracy: 0.8563 - loss: 0.3397 - val_accuracy: 0.8525 - val_loss: 0.3456\n",
      "Epoch 40/100\n",
      "\u001b[1m200/200\u001b[0m \u001b[32m━━━━━━━━━━━━━━━━━━━━\u001b[0m\u001b[37m\u001b[0m \u001b[1m0s\u001b[0m 2ms/step - accuracy: 0.8591 - loss: 0.3358 - val_accuracy: 0.8531 - val_loss: 0.3467\n",
      "Epoch 41/100\n",
      "\u001b[1m200/200\u001b[0m \u001b[32m━━━━━━━━━━━━━━━━━━━━\u001b[0m\u001b[37m\u001b[0m \u001b[1m0s\u001b[0m 2ms/step - accuracy: 0.8561 - loss: 0.3380 - val_accuracy: 0.8506 - val_loss: 0.3458\n",
      "Epoch 42/100\n",
      "\u001b[1m200/200\u001b[0m \u001b[32m━━━━━━━━━━━━━━━━━━━━\u001b[0m\u001b[37m\u001b[0m \u001b[1m0s\u001b[0m 2ms/step - accuracy: 0.8759 - loss: 0.3130 - val_accuracy: 0.8475 - val_loss: 0.3469\n",
      "Epoch 43/100\n",
      "\u001b[1m200/200\u001b[0m \u001b[32m━━━━━━━━━━━━━━━━━━━━\u001b[0m\u001b[37m\u001b[0m \u001b[1m0s\u001b[0m 2ms/step - accuracy: 0.8690 - loss: 0.3284 - val_accuracy: 0.8494 - val_loss: 0.3462\n",
      "Epoch 44/100\n",
      "\u001b[1m200/200\u001b[0m \u001b[32m━━━━━━━━━━━━━━━━━━━━\u001b[0m\u001b[37m\u001b[0m \u001b[1m0s\u001b[0m 2ms/step - accuracy: 0.8604 - loss: 0.3326 - val_accuracy: 0.8462 - val_loss: 0.3479\n",
      "Epoch 45/100\n",
      "\u001b[1m200/200\u001b[0m \u001b[32m━━━━━━━━━━━━━━━━━━━━\u001b[0m\u001b[37m\u001b[0m \u001b[1m0s\u001b[0m 2ms/step - accuracy: 0.8696 - loss: 0.3191 - val_accuracy: 0.8475 - val_loss: 0.3464\n",
      "Epoch 46/100\n",
      "\u001b[1m200/200\u001b[0m \u001b[32m━━━━━━━━━━━━━━━━━━━━\u001b[0m\u001b[37m\u001b[0m \u001b[1m0s\u001b[0m 2ms/step - accuracy: 0.8674 - loss: 0.3210 - val_accuracy: 0.8487 - val_loss: 0.3457\n",
      "Epoch 47/100\n",
      "\u001b[1m200/200\u001b[0m \u001b[32m━━━━━━━━━━━━━━━━━━━━\u001b[0m\u001b[37m\u001b[0m \u001b[1m0s\u001b[0m 2ms/step - accuracy: 0.8685 - loss: 0.3215 - val_accuracy: 0.8469 - val_loss: 0.3474\n",
      "Epoch 48/100\n",
      "\u001b[1m200/200\u001b[0m \u001b[32m━━━━━━━━━━━━━━━━━━━━\u001b[0m\u001b[37m\u001b[0m \u001b[1m0s\u001b[0m 2ms/step - accuracy: 0.8637 - loss: 0.3356 - val_accuracy: 0.8469 - val_loss: 0.3484\n",
      "Epoch 49/100\n",
      "\u001b[1m200/200\u001b[0m \u001b[32m━━━━━━━━━━━━━━━━━━━━\u001b[0m\u001b[37m\u001b[0m \u001b[1m0s\u001b[0m 2ms/step - accuracy: 0.8731 - loss: 0.3160 - val_accuracy: 0.8469 - val_loss: 0.3477\n",
      "Epoch 50/100\n",
      "\u001b[1m200/200\u001b[0m \u001b[32m━━━━━━━━━━━━━━━━━━━━\u001b[0m\u001b[37m\u001b[0m \u001b[1m0s\u001b[0m 2ms/step - accuracy: 0.8750 - loss: 0.3081 - val_accuracy: 0.8487 - val_loss: 0.3496\n",
      "Epoch 51/100\n",
      "\u001b[1m200/200\u001b[0m \u001b[32m━━━━━━━━━━━━━━━━━━━━\u001b[0m\u001b[37m\u001b[0m \u001b[1m0s\u001b[0m 2ms/step - accuracy: 0.8678 - loss: 0.3262 - val_accuracy: 0.8481 - val_loss: 0.3464\n",
      "Epoch 52/100\n",
      "\u001b[1m200/200\u001b[0m \u001b[32m━━━━━━━━━━━━━━━━━━━━\u001b[0m\u001b[37m\u001b[0m \u001b[1m0s\u001b[0m 2ms/step - accuracy: 0.8686 - loss: 0.3280 - val_accuracy: 0.8481 - val_loss: 0.3468\n",
      "Epoch 53/100\n",
      "\u001b[1m200/200\u001b[0m \u001b[32m━━━━━━━━━━━━━━━━━━━━\u001b[0m\u001b[37m\u001b[0m \u001b[1m0s\u001b[0m 2ms/step - accuracy: 0.8650 - loss: 0.3235 - val_accuracy: 0.8525 - val_loss: 0.3446\n",
      "Epoch 54/100\n",
      "\u001b[1m200/200\u001b[0m \u001b[32m━━━━━━━━━━━━━━━━━━━━\u001b[0m\u001b[37m\u001b[0m \u001b[1m0s\u001b[0m 2ms/step - accuracy: 0.8705 - loss: 0.3224 - val_accuracy: 0.8481 - val_loss: 0.3498\n",
      "Epoch 55/100\n",
      "\u001b[1m200/200\u001b[0m \u001b[32m━━━━━━━━━━━━━━━━━━━━\u001b[0m\u001b[37m\u001b[0m \u001b[1m0s\u001b[0m 2ms/step - accuracy: 0.8715 - loss: 0.3127 - val_accuracy: 0.8487 - val_loss: 0.3465\n",
      "Epoch 56/100\n",
      "\u001b[1m200/200\u001b[0m \u001b[32m━━━━━━━━━━━━━━━━━━━━\u001b[0m\u001b[37m\u001b[0m \u001b[1m0s\u001b[0m 2ms/step - accuracy: 0.8778 - loss: 0.3081 - val_accuracy: 0.8469 - val_loss: 0.3481\n",
      "Epoch 57/100\n",
      "\u001b[1m200/200\u001b[0m \u001b[32m━━━━━━━━━━━━━━━━━━━━\u001b[0m\u001b[37m\u001b[0m \u001b[1m0s\u001b[0m 2ms/step - accuracy: 0.8657 - loss: 0.3252 - val_accuracy: 0.8494 - val_loss: 0.3457\n",
      "Epoch 58/100\n",
      "\u001b[1m200/200\u001b[0m \u001b[32m━━━━━━━━━━━━━━━━━━━━\u001b[0m\u001b[37m\u001b[0m \u001b[1m0s\u001b[0m 2ms/step - accuracy: 0.8650 - loss: 0.3251 - val_accuracy: 0.8481 - val_loss: 0.3483\n",
      "Epoch 59/100\n",
      "\u001b[1m200/200\u001b[0m \u001b[32m━━━━━━━━━━━━━━━━━━━━\u001b[0m\u001b[37m\u001b[0m \u001b[1m0s\u001b[0m 2ms/step - accuracy: 0.8692 - loss: 0.3343 - val_accuracy: 0.8450 - val_loss: 0.3491\n",
      "Epoch 60/100\n",
      "\u001b[1m200/200\u001b[0m \u001b[32m━━━━━━━━━━━━━━━━━━━━\u001b[0m\u001b[37m\u001b[0m \u001b[1m0s\u001b[0m 2ms/step - accuracy: 0.8651 - loss: 0.3223 - val_accuracy: 0.8469 - val_loss: 0.3478\n",
      "Epoch 61/100\n",
      "\u001b[1m200/200\u001b[0m \u001b[32m━━━━━━━━━━━━━━━━━━━━\u001b[0m\u001b[37m\u001b[0m \u001b[1m0s\u001b[0m 2ms/step - accuracy: 0.8633 - loss: 0.3279 - val_accuracy: 0.8462 - val_loss: 0.3486\n",
      "Epoch 62/100\n",
      "\u001b[1m200/200\u001b[0m \u001b[32m━━━━━━━━━━━━━━━━━━━━\u001b[0m\u001b[37m\u001b[0m \u001b[1m0s\u001b[0m 2ms/step - accuracy: 0.8686 - loss: 0.3197 - val_accuracy: 0.8450 - val_loss: 0.3495\n",
      "Epoch 63/100\n",
      "\u001b[1m200/200\u001b[0m \u001b[32m━━━━━━━━━━━━━━━━━━━━\u001b[0m\u001b[37m\u001b[0m \u001b[1m0s\u001b[0m 2ms/step - accuracy: 0.8679 - loss: 0.3106 - val_accuracy: 0.8500 - val_loss: 0.3469\n",
      "Epoch 64/100\n",
      "\u001b[1m200/200\u001b[0m \u001b[32m━━━━━━━━━━━━━━━━━━━━\u001b[0m\u001b[37m\u001b[0m \u001b[1m0s\u001b[0m 2ms/step - accuracy: 0.8618 - loss: 0.3322 - val_accuracy: 0.8494 - val_loss: 0.3473\n",
      "Epoch 65/100\n",
      "\u001b[1m200/200\u001b[0m \u001b[32m━━━━━━━━━━━━━━━━━━━━\u001b[0m\u001b[37m\u001b[0m \u001b[1m0s\u001b[0m 2ms/step - accuracy: 0.8722 - loss: 0.3120 - val_accuracy: 0.8462 - val_loss: 0.3490\n",
      "Epoch 66/100\n",
      "\u001b[1m200/200\u001b[0m \u001b[32m━━━━━━━━━━━━━━━━━━━━\u001b[0m\u001b[37m\u001b[0m \u001b[1m0s\u001b[0m 2ms/step - accuracy: 0.8698 - loss: 0.3258 - val_accuracy: 0.8487 - val_loss: 0.3481\n",
      "Epoch 67/100\n",
      "\u001b[1m200/200\u001b[0m \u001b[32m━━━━━━━━━━━━━━━━━━━━\u001b[0m\u001b[37m\u001b[0m \u001b[1m0s\u001b[0m 2ms/step - accuracy: 0.8628 - loss: 0.3253 - val_accuracy: 0.8475 - val_loss: 0.3498\n",
      "Epoch 68/100\n",
      "\u001b[1m200/200\u001b[0m \u001b[32m━━━━━━━━━━━━━━━━━━━━\u001b[0m\u001b[37m\u001b[0m \u001b[1m0s\u001b[0m 2ms/step - accuracy: 0.8642 - loss: 0.3223 - val_accuracy: 0.8500 - val_loss: 0.3506\n",
      "Epoch 69/100\n",
      "\u001b[1m200/200\u001b[0m \u001b[32m━━━━━━━━━━━━━━━━━━━━\u001b[0m\u001b[37m\u001b[0m \u001b[1m0s\u001b[0m 2ms/step - accuracy: 0.8739 - loss: 0.3127 - val_accuracy: 0.8475 - val_loss: 0.3516\n",
      "Epoch 70/100\n",
      "\u001b[1m200/200\u001b[0m \u001b[32m━━━━━━━━━━━━━━━━━━━━\u001b[0m\u001b[37m\u001b[0m \u001b[1m0s\u001b[0m 2ms/step - accuracy: 0.8701 - loss: 0.3209 - val_accuracy: 0.8469 - val_loss: 0.3503\n",
      "Epoch 71/100\n",
      "\u001b[1m200/200\u001b[0m \u001b[32m━━━━━━━━━━━━━━━━━━━━\u001b[0m\u001b[37m\u001b[0m \u001b[1m0s\u001b[0m 2ms/step - accuracy: 0.8672 - loss: 0.3250 - val_accuracy: 0.8512 - val_loss: 0.3494\n",
      "Epoch 72/100\n",
      "\u001b[1m200/200\u001b[0m \u001b[32m━━━━━━━━━━━━━━━━━━━━\u001b[0m\u001b[37m\u001b[0m \u001b[1m0s\u001b[0m 2ms/step - accuracy: 0.8706 - loss: 0.3144 - val_accuracy: 0.8469 - val_loss: 0.3496\n",
      "Epoch 73/100\n",
      "\u001b[1m200/200\u001b[0m \u001b[32m━━━━━━━━━━━━━━━━━━━━\u001b[0m\u001b[37m\u001b[0m \u001b[1m0s\u001b[0m 2ms/step - accuracy: 0.8649 - loss: 0.3285 - val_accuracy: 0.8494 - val_loss: 0.3498\n",
      "Epoch 74/100\n",
      "\u001b[1m200/200\u001b[0m \u001b[32m━━━━━━━━━━━━━━━━━━━━\u001b[0m\u001b[37m\u001b[0m \u001b[1m0s\u001b[0m 2ms/step - accuracy: 0.8734 - loss: 0.3079 - val_accuracy: 0.8444 - val_loss: 0.3503\n",
      "Epoch 75/100\n",
      "\u001b[1m200/200\u001b[0m \u001b[32m━━━━━━━━━━━━━━━━━━━━\u001b[0m\u001b[37m\u001b[0m \u001b[1m0s\u001b[0m 2ms/step - accuracy: 0.8614 - loss: 0.3344 - val_accuracy: 0.8469 - val_loss: 0.3473\n",
      "Epoch 76/100\n",
      "\u001b[1m200/200\u001b[0m \u001b[32m━━━━━━━━━━━━━━━━━━━━\u001b[0m\u001b[37m\u001b[0m \u001b[1m0s\u001b[0m 2ms/step - accuracy: 0.8722 - loss: 0.3101 - val_accuracy: 0.8462 - val_loss: 0.3502\n",
      "Epoch 77/100\n",
      "\u001b[1m200/200\u001b[0m \u001b[32m━━━━━━━━━━━━━━━━━━━━\u001b[0m\u001b[37m\u001b[0m \u001b[1m0s\u001b[0m 2ms/step - accuracy: 0.8690 - loss: 0.3219 - val_accuracy: 0.8475 - val_loss: 0.3499\n",
      "Epoch 78/100\n",
      "\u001b[1m200/200\u001b[0m \u001b[32m━━━━━━━━━━━━━━━━━━━━\u001b[0m\u001b[37m\u001b[0m \u001b[1m0s\u001b[0m 2ms/step - accuracy: 0.8701 - loss: 0.3145 - val_accuracy: 0.8481 - val_loss: 0.3486\n",
      "Epoch 79/100\n",
      "\u001b[1m200/200\u001b[0m \u001b[32m━━━━━━━━━━━━━━━━━━━━\u001b[0m\u001b[37m\u001b[0m \u001b[1m0s\u001b[0m 2ms/step - accuracy: 0.8684 - loss: 0.3178 - val_accuracy: 0.8475 - val_loss: 0.3524\n",
      "Epoch 80/100\n",
      "\u001b[1m200/200\u001b[0m \u001b[32m━━━━━━━━━━━━━━━━━━━━\u001b[0m\u001b[37m\u001b[0m \u001b[1m0s\u001b[0m 2ms/step - accuracy: 0.8664 - loss: 0.3197 - val_accuracy: 0.8487 - val_loss: 0.3491\n",
      "Epoch 81/100\n",
      "\u001b[1m200/200\u001b[0m \u001b[32m━━━━━━━━━━━━━━━━━━━━\u001b[0m\u001b[37m\u001b[0m \u001b[1m0s\u001b[0m 2ms/step - accuracy: 0.8689 - loss: 0.3125 - val_accuracy: 0.8456 - val_loss: 0.3500\n",
      "Epoch 82/100\n",
      "\u001b[1m200/200\u001b[0m \u001b[32m━━━━━━━━━━━━━━━━━━━━\u001b[0m\u001b[37m\u001b[0m \u001b[1m0s\u001b[0m 2ms/step - accuracy: 0.8719 - loss: 0.3172 - val_accuracy: 0.8481 - val_loss: 0.3491\n",
      "Epoch 83/100\n",
      "\u001b[1m200/200\u001b[0m \u001b[32m━━━━━━━━━━━━━━━━━━━━\u001b[0m\u001b[37m\u001b[0m \u001b[1m0s\u001b[0m 2ms/step - accuracy: 0.8641 - loss: 0.3281 - val_accuracy: 0.8481 - val_loss: 0.3501\n",
      "Epoch 84/100\n",
      "\u001b[1m200/200\u001b[0m \u001b[32m━━━━━━━━━━━━━━━━━━━━\u001b[0m\u001b[37m\u001b[0m \u001b[1m0s\u001b[0m 2ms/step - accuracy: 0.8654 - loss: 0.3215 - val_accuracy: 0.8469 - val_loss: 0.3494\n",
      "Epoch 85/100\n",
      "\u001b[1m200/200\u001b[0m \u001b[32m━━━━━━━━━━━━━━━━━━━━\u001b[0m\u001b[37m\u001b[0m \u001b[1m0s\u001b[0m 2ms/step - accuracy: 0.8657 - loss: 0.3146 - val_accuracy: 0.8481 - val_loss: 0.3478\n",
      "Epoch 86/100\n",
      "\u001b[1m200/200\u001b[0m \u001b[32m━━━━━━━━━━━━━━━━━━━━\u001b[0m\u001b[37m\u001b[0m \u001b[1m0s\u001b[0m 2ms/step - accuracy: 0.8668 - loss: 0.3231 - val_accuracy: 0.8481 - val_loss: 0.3491\n",
      "Epoch 87/100\n",
      "\u001b[1m200/200\u001b[0m \u001b[32m━━━━━━━━━━━━━━━━━━━━\u001b[0m\u001b[37m\u001b[0m \u001b[1m0s\u001b[0m 2ms/step - accuracy: 0.8667 - loss: 0.3131 - val_accuracy: 0.8456 - val_loss: 0.3519\n",
      "Epoch 88/100\n",
      "\u001b[1m200/200\u001b[0m \u001b[32m━━━━━━━━━━━━━━━━━━━━\u001b[0m\u001b[37m\u001b[0m \u001b[1m0s\u001b[0m 2ms/step - accuracy: 0.8678 - loss: 0.3159 - val_accuracy: 0.8469 - val_loss: 0.3499\n",
      "Epoch 89/100\n",
      "\u001b[1m200/200\u001b[0m \u001b[32m━━━━━━━━━━━━━━━━━━━━\u001b[0m\u001b[37m\u001b[0m \u001b[1m0s\u001b[0m 2ms/step - accuracy: 0.8657 - loss: 0.3156 - val_accuracy: 0.8475 - val_loss: 0.3504\n",
      "Epoch 90/100\n",
      "\u001b[1m200/200\u001b[0m \u001b[32m━━━━━━━━━━━━━━━━━━━━\u001b[0m\u001b[37m\u001b[0m \u001b[1m0s\u001b[0m 2ms/step - accuracy: 0.8695 - loss: 0.3162 - val_accuracy: 0.8431 - val_loss: 0.3530\n",
      "Epoch 91/100\n",
      "\u001b[1m200/200\u001b[0m \u001b[32m━━━━━━━━━━━━━━━━━━━━\u001b[0m\u001b[37m\u001b[0m \u001b[1m0s\u001b[0m 2ms/step - accuracy: 0.8654 - loss: 0.3187 - val_accuracy: 0.8487 - val_loss: 0.3491\n",
      "Epoch 92/100\n",
      "\u001b[1m200/200\u001b[0m \u001b[32m━━━━━━━━━━━━━━━━━━━━\u001b[0m\u001b[37m\u001b[0m \u001b[1m0s\u001b[0m 2ms/step - accuracy: 0.8710 - loss: 0.3141 - val_accuracy: 0.8481 - val_loss: 0.3500\n",
      "Epoch 93/100\n",
      "\u001b[1m200/200\u001b[0m \u001b[32m━━━━━━━━━━━━━━━━━━━━\u001b[0m\u001b[37m\u001b[0m \u001b[1m0s\u001b[0m 2ms/step - accuracy: 0.8726 - loss: 0.3136 - val_accuracy: 0.8500 - val_loss: 0.3480\n",
      "Epoch 94/100\n",
      "\u001b[1m200/200\u001b[0m \u001b[32m━━━━━━━━━━━━━━━━━━━━\u001b[0m\u001b[37m\u001b[0m \u001b[1m0s\u001b[0m 2ms/step - accuracy: 0.8622 - loss: 0.3215 - val_accuracy: 0.8506 - val_loss: 0.3475\n",
      "Epoch 95/100\n",
      "\u001b[1m200/200\u001b[0m \u001b[32m━━━━━━━━━━━━━━━━━━━━\u001b[0m\u001b[37m\u001b[0m \u001b[1m0s\u001b[0m 2ms/step - accuracy: 0.8701 - loss: 0.3147 - val_accuracy: 0.8462 - val_loss: 0.3506\n",
      "Epoch 96/100\n",
      "\u001b[1m200/200\u001b[0m \u001b[32m━━━━━━━━━━━━━━━━━━━━\u001b[0m\u001b[37m\u001b[0m \u001b[1m0s\u001b[0m 2ms/step - accuracy: 0.8701 - loss: 0.3137 - val_accuracy: 0.8494 - val_loss: 0.3494\n",
      "Epoch 97/100\n",
      "\u001b[1m200/200\u001b[0m \u001b[32m━━━━━━━━━━━━━━━━━━━━\u001b[0m\u001b[37m\u001b[0m \u001b[1m0s\u001b[0m 2ms/step - accuracy: 0.8639 - loss: 0.3286 - val_accuracy: 0.8481 - val_loss: 0.3490\n",
      "Epoch 98/100\n",
      "\u001b[1m200/200\u001b[0m \u001b[32m━━━━━━━━━━━━━━━━━━━━\u001b[0m\u001b[37m\u001b[0m \u001b[1m0s\u001b[0m 2ms/step - accuracy: 0.8689 - loss: 0.3168 - val_accuracy: 0.8462 - val_loss: 0.3489\n",
      "Epoch 99/100\n",
      "\u001b[1m200/200\u001b[0m \u001b[32m━━━━━━━━━━━━━━━━━━━━\u001b[0m\u001b[37m\u001b[0m \u001b[1m0s\u001b[0m 2ms/step - accuracy: 0.8679 - loss: 0.3159 - val_accuracy: 0.8475 - val_loss: 0.3503\n",
      "Epoch 100/100\n",
      "\u001b[1m200/200\u001b[0m \u001b[32m━━━━━━━━━━━━━━━━━━━━\u001b[0m\u001b[37m\u001b[0m \u001b[1m0s\u001b[0m 2ms/step - accuracy: 0.8650 - loss: 0.3245 - val_accuracy: 0.8431 - val_loss: 0.3496\n"
     ]
    }
   ],
   "source": [
    "history = model.fit(X_train_scaled,Y_train,epochs=100,validation_split=0.2)"
   ]
  },
  {
   "cell_type": "code",
   "execution_count": 23,
   "id": "13d06999",
   "metadata": {
    "execution": {
     "iopub.execute_input": "2025-03-16T06:11:09.490408Z",
     "iopub.status.busy": "2025-03-16T06:11:09.489991Z",
     "iopub.status.idle": "2025-03-16T06:11:09.501624Z",
     "shell.execute_reply": "2025-03-16T06:11:09.500235Z"
    },
    "papermill": {
     "duration": 0.071273,
     "end_time": "2025-03-16T06:11:09.503490",
     "exception": false,
     "start_time": "2025-03-16T06:11:09.432217",
     "status": "completed"
    },
    "tags": []
   },
   "outputs": [
    {
     "data": {
      "text/plain": [
       "[array([[-0.7749645 ],\n",
       "        [ 0.6836189 ],\n",
       "        [ 1.1095378 ],\n",
       "        [-0.65358585],\n",
       "        [-0.8887846 ],\n",
       "        [-0.28734317],\n",
       "        [ 1.0503615 ],\n",
       "        [ 0.69168603],\n",
       "        [-0.7357702 ],\n",
       "        [ 0.70216256],\n",
       "        [ 1.0239321 ]], dtype=float32),\n",
       " array([-0.3139576], dtype=float32)]"
      ]
     },
     "execution_count": 23,
     "metadata": {},
     "output_type": "execute_result"
    }
   ],
   "source": [
    "model.layers[2].get_weights()"
   ]
  },
  {
   "cell_type": "code",
   "execution_count": 24,
   "id": "9d6b067f",
   "metadata": {
    "execution": {
     "iopub.execute_input": "2025-03-16T06:11:09.620141Z",
     "iopub.status.busy": "2025-03-16T06:11:09.619776Z",
     "iopub.status.idle": "2025-03-16T06:11:09.892978Z",
     "shell.execute_reply": "2025-03-16T06:11:09.891803Z"
    },
    "papermill": {
     "duration": 0.333545,
     "end_time": "2025-03-16T06:11:09.895025",
     "exception": false,
     "start_time": "2025-03-16T06:11:09.561480",
     "status": "completed"
    },
    "tags": []
   },
   "outputs": [
    {
     "name": "stdout",
     "output_type": "stream",
     "text": [
      "\u001b[1m63/63\u001b[0m \u001b[32m━━━━━━━━━━━━━━━━━━━━\u001b[0m\u001b[37m\u001b[0m \u001b[1m0s\u001b[0m 2ms/step\n"
     ]
    }
   ],
   "source": [
    "y_log = model.predict(X_test_scaled)"
   ]
  },
  {
   "cell_type": "code",
   "execution_count": 25,
   "id": "107a5068",
   "metadata": {
    "execution": {
     "iopub.execute_input": "2025-03-16T06:11:10.011941Z",
     "iopub.status.busy": "2025-03-16T06:11:10.011526Z",
     "iopub.status.idle": "2025-03-16T06:11:10.016316Z",
     "shell.execute_reply": "2025-03-16T06:11:10.015173Z"
    },
    "papermill": {
     "duration": 0.065083,
     "end_time": "2025-03-16T06:11:10.018391",
     "exception": false,
     "start_time": "2025-03-16T06:11:09.953308",
     "status": "completed"
    },
    "tags": []
   },
   "outputs": [],
   "source": [
    "y_pred = np.where(y_log>0.5,1,0)"
   ]
  },
  {
   "cell_type": "code",
   "execution_count": 26,
   "id": "42ed1de6",
   "metadata": {
    "execution": {
     "iopub.execute_input": "2025-03-16T06:11:10.135421Z",
     "iopub.status.busy": "2025-03-16T06:11:10.135020Z",
     "iopub.status.idle": "2025-03-16T06:11:10.143635Z",
     "shell.execute_reply": "2025-03-16T06:11:10.142359Z"
    },
    "papermill": {
     "duration": 0.069203,
     "end_time": "2025-03-16T06:11:10.145678",
     "exception": false,
     "start_time": "2025-03-16T06:11:10.076475",
     "status": "completed"
    },
    "tags": []
   },
   "outputs": [
    {
     "data": {
      "text/plain": [
       "0.8625"
      ]
     },
     "execution_count": 26,
     "metadata": {},
     "output_type": "execute_result"
    }
   ],
   "source": [
    "from sklearn.metrics import accuracy_score\n",
    "accuracy_score(Y_test,y_pred)"
   ]
  },
  {
   "cell_type": "code",
   "execution_count": 27,
   "id": "006405cc",
   "metadata": {
    "execution": {
     "iopub.execute_input": "2025-03-16T06:11:10.314905Z",
     "iopub.status.busy": "2025-03-16T06:11:10.314553Z",
     "iopub.status.idle": "2025-03-16T06:11:10.319351Z",
     "shell.execute_reply": "2025-03-16T06:11:10.318162Z"
    },
    "papermill": {
     "duration": 0.118061,
     "end_time": "2025-03-16T06:11:10.321259",
     "exception": false,
     "start_time": "2025-03-16T06:11:10.203198",
     "status": "completed"
    },
    "tags": []
   },
   "outputs": [],
   "source": [
    "import matplotlib.pyplot as plt"
   ]
  },
  {
   "cell_type": "code",
   "execution_count": 28,
   "id": "965488c7",
   "metadata": {
    "execution": {
     "iopub.execute_input": "2025-03-16T06:11:10.441124Z",
     "iopub.status.busy": "2025-03-16T06:11:10.440740Z",
     "iopub.status.idle": "2025-03-16T06:11:10.451665Z",
     "shell.execute_reply": "2025-03-16T06:11:10.450221Z"
    },
    "papermill": {
     "duration": 0.072247,
     "end_time": "2025-03-16T06:11:10.453464",
     "exception": false,
     "start_time": "2025-03-16T06:11:10.381217",
     "status": "completed"
    },
    "tags": []
   },
   "outputs": [
    {
     "data": {
      "text/plain": [
       "{'accuracy': [0.6948437690734863,\n",
       "  0.7979687452316284,\n",
       "  0.8067187666893005,\n",
       "  0.8151562213897705,\n",
       "  0.8226562738418579,\n",
       "  0.827343761920929,\n",
       "  0.8321874737739563,\n",
       "  0.8360937237739563,\n",
       "  0.8446875214576721,\n",
       "  0.8482812643051147,\n",
       "  0.8545312285423279,\n",
       "  0.8556249737739563,\n",
       "  0.8589062690734863,\n",
       "  0.8620312213897705,\n",
       "  0.8612499833106995,\n",
       "  0.8620312213897705,\n",
       "  0.8614062666893005,\n",
       "  0.8628125190734863,\n",
       "  0.8621875047683716,\n",
       "  0.8635937571525574,\n",
       "  0.860156238079071,\n",
       "  0.8606250286102295,\n",
       "  0.8646875023841858,\n",
       "  0.8620312213897705,\n",
       "  0.86328125,\n",
       "  0.8629687428474426,\n",
       "  0.8626562356948853,\n",
       "  0.8650000095367432,\n",
       "  0.86328125,\n",
       "  0.8629687428474426,\n",
       "  0.8643749952316284,\n",
       "  0.8650000095367432,\n",
       "  0.8642187714576721,\n",
       "  0.8639062643051147,\n",
       "  0.864062488079071,\n",
       "  0.8642187714576721,\n",
       "  0.8639062643051147,\n",
       "  0.8634374737739563,\n",
       "  0.8628125190734863,\n",
       "  0.8618749976158142,\n",
       "  0.864062488079071,\n",
       "  0.8646875023841858,\n",
       "  0.8656250238418579,\n",
       "  0.8648437261581421,\n",
       "  0.8639062643051147,\n",
       "  0.8646875023841858,\n",
       "  0.8653125166893005,\n",
       "  0.8668749928474426,\n",
       "  0.8656250238418579,\n",
       "  0.8665624856948853,\n",
       "  0.8660937547683716,\n",
       "  0.8659374713897705,\n",
       "  0.8662499785423279,\n",
       "  0.8678125143051147,\n",
       "  0.8673437237739563,\n",
       "  0.8665624856948853,\n",
       "  0.8653125166893005,\n",
       "  0.8656250238418579,\n",
       "  0.8684375286102295,\n",
       "  0.8657812476158142,\n",
       "  0.8671875,\n",
       "  0.8657812476158142,\n",
       "  0.8648437261581421,\n",
       "  0.8654687404632568,\n",
       "  0.8660937547683716,\n",
       "  0.8676562309265137,\n",
       "  0.8662499785423279,\n",
       "  0.8678125143051147,\n",
       "  0.8665624856948853,\n",
       "  0.8681250214576721,\n",
       "  0.867968738079071,\n",
       "  0.867968738079071,\n",
       "  0.866406261920929,\n",
       "  0.8670312762260437,\n",
       "  0.8693749904632568,\n",
       "  0.866406261920929,\n",
       "  0.8675000071525574,\n",
       "  0.866406261920929,\n",
       "  0.8656250238418579,\n",
       "  0.8676562309265137,\n",
       "  0.866406261920929,\n",
       "  0.8689062595367432,\n",
       "  0.8681250214576721,\n",
       "  0.8668749928474426,\n",
       "  0.8685937523841858,\n",
       "  0.8667187690734863,\n",
       "  0.8673437237739563,\n",
       "  0.8657812476158142,\n",
       "  0.8665624856948853,\n",
       "  0.8670312762260437,\n",
       "  0.8668749928474426,\n",
       "  0.8678125143051147,\n",
       "  0.8665624856948853,\n",
       "  0.8670312762260437,\n",
       "  0.8682812452316284,\n",
       "  0.8690624833106995,\n",
       "  0.8681250214576721,\n",
       "  0.8659374713897705,\n",
       "  0.8684375286102295,\n",
       "  0.8667187690734863],\n",
       " 'loss': [0.6215354800224304,\n",
       "  0.4812140166759491,\n",
       "  0.44683167338371277,\n",
       "  0.43291571736335754,\n",
       "  0.4237389862537384,\n",
       "  0.4157017469406128,\n",
       "  0.40719929337501526,\n",
       "  0.39659345149993896,\n",
       "  0.3849606215953827,\n",
       "  0.3723985552787781,\n",
       "  0.3619464635848999,\n",
       "  0.3540007472038269,\n",
       "  0.3492681086063385,\n",
       "  0.3468265235424042,\n",
       "  0.3443608582019806,\n",
       "  0.34322667121887207,\n",
       "  0.3414704203605652,\n",
       "  0.3406256437301636,\n",
       "  0.33947086334228516,\n",
       "  0.3389880657196045,\n",
       "  0.3387622535228729,\n",
       "  0.3380899727344513,\n",
       "  0.3373430371284485,\n",
       "  0.3367477059364319,\n",
       "  0.3361532688140869,\n",
       "  0.335477739572525,\n",
       "  0.3349091410636902,\n",
       "  0.334489643573761,\n",
       "  0.334077388048172,\n",
       "  0.33369553089141846,\n",
       "  0.3331862986087799,\n",
       "  0.3330729603767395,\n",
       "  0.33232417702674866,\n",
       "  0.3315194845199585,\n",
       "  0.3316659927368164,\n",
       "  0.33176466822624207,\n",
       "  0.3308802545070648,\n",
       "  0.3303319215774536,\n",
       "  0.3300216794013977,\n",
       "  0.32997503876686096,\n",
       "  0.32946041226387024,\n",
       "  0.32949307560920715,\n",
       "  0.3288209140300751,\n",
       "  0.32869598269462585,\n",
       "  0.32886672019958496,\n",
       "  0.3279188573360443,\n",
       "  0.32727086544036865,\n",
       "  0.3273402452468872,\n",
       "  0.3266299068927765,\n",
       "  0.3260456323623657,\n",
       "  0.32642990350723267,\n",
       "  0.32596355676651,\n",
       "  0.3257378041744232,\n",
       "  0.32559651136398315,\n",
       "  0.32550689578056335,\n",
       "  0.325226366519928,\n",
       "  0.32465240359306335,\n",
       "  0.32438772916793823,\n",
       "  0.323802649974823,\n",
       "  0.3240000009536743,\n",
       "  0.3234887719154358,\n",
       "  0.3233908414840698,\n",
       "  0.32273808121681213,\n",
       "  0.32310935854911804,\n",
       "  0.32274478673934937,\n",
       "  0.3228481709957123,\n",
       "  0.32204195857048035,\n",
       "  0.32204604148864746,\n",
       "  0.32233956456184387,\n",
       "  0.32249394059181213,\n",
       "  0.3218921720981598,\n",
       "  0.32141876220703125,\n",
       "  0.3215518593788147,\n",
       "  0.3215867280960083,\n",
       "  0.3213782012462616,\n",
       "  0.32116812467575073,\n",
       "  0.320537269115448,\n",
       "  0.3204200267791748,\n",
       "  0.32017192244529724,\n",
       "  0.32061463594436646,\n",
       "  0.32042381167411804,\n",
       "  0.32055723667144775,\n",
       "  0.3204556703567505,\n",
       "  0.3195403218269348,\n",
       "  0.3200867772102356,\n",
       "  0.31999319791793823,\n",
       "  0.31972557306289673,\n",
       "  0.31934985518455505,\n",
       "  0.3200359046459198,\n",
       "  0.31899887323379517,\n",
       "  0.31977730989456177,\n",
       "  0.3189282715320587,\n",
       "  0.3186166286468506,\n",
       "  0.3188779056072235,\n",
       "  0.31839802861213684,\n",
       "  0.31898292899131775,\n",
       "  0.31880882382392883,\n",
       "  0.3188519775867462,\n",
       "  0.3188144564628601,\n",
       "  0.3179484009742737],\n",
       " 'val_accuracy': [0.7962499856948853,\n",
       "  0.8006250262260437,\n",
       "  0.809374988079071,\n",
       "  0.8118749856948853,\n",
       "  0.8174999952316284,\n",
       "  0.8199999928474426,\n",
       "  0.8293750286102295,\n",
       "  0.831250011920929,\n",
       "  0.8393750190734863,\n",
       "  0.8431249856948853,\n",
       "  0.8512499928474426,\n",
       "  0.8487499952316284,\n",
       "  0.8450000286102295,\n",
       "  0.8506249785423279,\n",
       "  0.8462499976158142,\n",
       "  0.8487499952316284,\n",
       "  0.8493750095367432,\n",
       "  0.8487499952316284,\n",
       "  0.8518750071525574,\n",
       "  0.8481249809265137,\n",
       "  0.8512499928474426,\n",
       "  0.8481249809265137,\n",
       "  0.8481249809265137,\n",
       "  0.8481249809265137,\n",
       "  0.8487499952316284,\n",
       "  0.846875011920929,\n",
       "  0.8487499952316284,\n",
       "  0.8525000214576721,\n",
       "  0.8487499952316284,\n",
       "  0.8481249809265137,\n",
       "  0.8475000262260437,\n",
       "  0.8487499952316284,\n",
       "  0.8481249809265137,\n",
       "  0.8518750071525574,\n",
       "  0.8475000262260437,\n",
       "  0.8537499904632568,\n",
       "  0.846875011920929,\n",
       "  0.8456249833106995,\n",
       "  0.8525000214576721,\n",
       "  0.8531249761581421,\n",
       "  0.8506249785423279,\n",
       "  0.8475000262260437,\n",
       "  0.8493750095367432,\n",
       "  0.8462499976158142,\n",
       "  0.8475000262260437,\n",
       "  0.8487499952316284,\n",
       "  0.846875011920929,\n",
       "  0.846875011920929,\n",
       "  0.846875011920929,\n",
       "  0.8487499952316284,\n",
       "  0.8481249809265137,\n",
       "  0.8481249809265137,\n",
       "  0.8525000214576721,\n",
       "  0.8481249809265137,\n",
       "  0.8487499952316284,\n",
       "  0.846875011920929,\n",
       "  0.8493750095367432,\n",
       "  0.8481249809265137,\n",
       "  0.8450000286102295,\n",
       "  0.846875011920929,\n",
       "  0.8462499976158142,\n",
       "  0.8450000286102295,\n",
       "  0.8500000238418579,\n",
       "  0.8493750095367432,\n",
       "  0.8462499976158142,\n",
       "  0.8487499952316284,\n",
       "  0.8475000262260437,\n",
       "  0.8500000238418579,\n",
       "  0.8475000262260437,\n",
       "  0.846875011920929,\n",
       "  0.8512499928474426,\n",
       "  0.846875011920929,\n",
       "  0.8493750095367432,\n",
       "  0.8443750143051147,\n",
       "  0.846875011920929,\n",
       "  0.8462499976158142,\n",
       "  0.8475000262260437,\n",
       "  0.8481249809265137,\n",
       "  0.8475000262260437,\n",
       "  0.8487499952316284,\n",
       "  0.8456249833106995,\n",
       "  0.8481249809265137,\n",
       "  0.8481249809265137,\n",
       "  0.846875011920929,\n",
       "  0.8481249809265137,\n",
       "  0.8481249809265137,\n",
       "  0.8456249833106995,\n",
       "  0.846875011920929,\n",
       "  0.8475000262260437,\n",
       "  0.8431249856948853,\n",
       "  0.8487499952316284,\n",
       "  0.8481249809265137,\n",
       "  0.8500000238418579,\n",
       "  0.8506249785423279,\n",
       "  0.8462499976158142,\n",
       "  0.8493750095367432,\n",
       "  0.8481249809265137,\n",
       "  0.8462499976158142,\n",
       "  0.8475000262260437,\n",
       "  0.8431249856948853],\n",
       " 'val_loss': [0.5214825868606567,\n",
       "  0.47106555104255676,\n",
       "  0.4498690068721771,\n",
       "  0.43870365619659424,\n",
       "  0.4306778013706207,\n",
       "  0.42212122678756714,\n",
       "  0.41264548897743225,\n",
       "  0.40086063742637634,\n",
       "  0.38460880517959595,\n",
       "  0.3710550367832184,\n",
       "  0.3631092309951782,\n",
       "  0.3578835427761078,\n",
       "  0.35717540979385376,\n",
       "  0.35152313113212585,\n",
       "  0.35305485129356384,\n",
       "  0.35015928745269775,\n",
       "  0.3494423031806946,\n",
       "  0.3501744866371155,\n",
       "  0.34925729036331177,\n",
       "  0.3510701358318329,\n",
       "  0.34969985485076904,\n",
       "  0.3502744734287262,\n",
       "  0.34941428899765015,\n",
       "  0.349599152803421,\n",
       "  0.3483210802078247,\n",
       "  0.34979817271232605,\n",
       "  0.34904929995536804,\n",
       "  0.3484453558921814,\n",
       "  0.3496137261390686,\n",
       "  0.3470090925693512,\n",
       "  0.3488290011882782,\n",
       "  0.3477182388305664,\n",
       "  0.3476206064224243,\n",
       "  0.34699252247810364,\n",
       "  0.3473657965660095,\n",
       "  0.34646931290626526,\n",
       "  0.34764960408210754,\n",
       "  0.34687870740890503,\n",
       "  0.345572829246521,\n",
       "  0.34671157598495483,\n",
       "  0.34577587246894836,\n",
       "  0.3468949496746063,\n",
       "  0.34622427821159363,\n",
       "  0.34790322184562683,\n",
       "  0.3463655710220337,\n",
       "  0.34567877650260925,\n",
       "  0.3473547101020813,\n",
       "  0.34837979078292847,\n",
       "  0.34766674041748047,\n",
       "  0.3495824337005615,\n",
       "  0.3463532626628876,\n",
       "  0.34676554799079895,\n",
       "  0.34457024931907654,\n",
       "  0.34977173805236816,\n",
       "  0.3464786112308502,\n",
       "  0.34809166193008423,\n",
       "  0.34568408131599426,\n",
       "  0.3482949137687683,\n",
       "  0.349059522151947,\n",
       "  0.34783935546875,\n",
       "  0.3485506474971771,\n",
       "  0.34953463077545166,\n",
       "  0.34694087505340576,\n",
       "  0.3472578525543213,\n",
       "  0.34900084137916565,\n",
       "  0.3481007516384125,\n",
       "  0.3498475253582001,\n",
       "  0.3505686819553375,\n",
       "  0.3516273498535156,\n",
       "  0.3503239154815674,\n",
       "  0.3493868112564087,\n",
       "  0.34960639476776123,\n",
       "  0.349822998046875,\n",
       "  0.3503393232822418,\n",
       "  0.3473462760448456,\n",
       "  0.35019299387931824,\n",
       "  0.3499114513397217,\n",
       "  0.3485657870769501,\n",
       "  0.3523632287979126,\n",
       "  0.3490740656852722,\n",
       "  0.3500002324581146,\n",
       "  0.34913399815559387,\n",
       "  0.3500994145870209,\n",
       "  0.34935715794563293,\n",
       "  0.3478032350540161,\n",
       "  0.3490787744522095,\n",
       "  0.3518975079059601,\n",
       "  0.3499077558517456,\n",
       "  0.35044369101524353,\n",
       "  0.3529975414276123,\n",
       "  0.34913063049316406,\n",
       "  0.34997260570526123,\n",
       "  0.348025918006897,\n",
       "  0.34754252433776855,\n",
       "  0.35062623023986816,\n",
       "  0.3494308888912201,\n",
       "  0.34898868203163147,\n",
       "  0.3488888144493103,\n",
       "  0.3502933382987976,\n",
       "  0.3496023416519165]}"
      ]
     },
     "execution_count": 28,
     "metadata": {},
     "output_type": "execute_result"
    }
   ],
   "source": [
    "history.history"
   ]
  },
  {
   "cell_type": "code",
   "execution_count": 29,
   "id": "388a383d",
   "metadata": {
    "execution": {
     "iopub.execute_input": "2025-03-16T06:11:10.572261Z",
     "iopub.status.busy": "2025-03-16T06:11:10.571898Z",
     "iopub.status.idle": "2025-03-16T06:11:10.872605Z",
     "shell.execute_reply": "2025-03-16T06:11:10.871312Z"
    },
    "papermill": {
     "duration": 0.363221,
     "end_time": "2025-03-16T06:11:10.874688",
     "exception": false,
     "start_time": "2025-03-16T06:11:10.511467",
     "status": "completed"
    },
    "tags": []
   },
   "outputs": [
    {
     "data": {
      "text/plain": [
       "[<matplotlib.lines.Line2D at 0x7be15858fca0>]"
      ]
     },
     "execution_count": 29,
     "metadata": {},
     "output_type": "execute_result"
    },
    {
     "data": {
      "image/png": "[encoded data removed]",
      "text/plain": [
       "<Figure size 640x480 with 1 Axes>"
      ]
     },
     "metadata": {},
     "output_type": "display_data"
    }
   ],
   "source": [
    "plt.plot(history.history['loss'])\n",
    "plt.plot(history.history['val_loss'])"
   ]
  },
  {
   "cell_type": "code",
   "execution_count": 30,
   "id": "98ce86e3",
   "metadata": {
    "execution": {
     "iopub.execute_input": "2025-03-16T06:11:10.995288Z",
     "iopub.status.busy": "2025-03-16T06:11:10.994914Z",
     "iopub.status.idle": "2025-03-16T06:11:11.193712Z",
     "shell.execute_reply": "2025-03-16T06:11:11.192461Z"
    },
    "papermill": {
     "duration": 0.260793,
     "end_time": "2025-03-16T06:11:11.195694",
     "exception": false,
     "start_time": "2025-03-16T06:11:10.934901",
     "status": "completed"
    },
    "tags": []
   },
   "outputs": [
    {
     "data": {
      "text/plain": [
       "[<matplotlib.lines.Line2D at 0x7be0d4586620>]"
      ]
     },
     "execution_count": 30,
     "metadata": {},
     "output_type": "execute_result"
    },
    {
     "data": {
      "image/png": "[encoded data removed]",
      "text/plain": [
       "<Figure size 640x480 with 1 Axes>"
      ]
     },
     "metadata": {},
     "output_type": "display_data"
    }
   ],
   "source": [
    "plt.plot(history.history['accuracy'])\n",
    "plt.plot(history.history['val_accuracy'])"
   ]
  }
 ],
 "metadata": {
  "kaggle": {
   "accelerator": "none",
   "dataSources": [
    {
     "datasetId": 869651,
     "sourceId": 1481789,
     "sourceType": "datasetVersion"
    }
   ],
   "dockerImageVersionId": 30918,
   "isGpuEnabled": false,
   "isInternetEnabled": true,
   "language": "python",
   "sourceType": "notebook"
  },
  "kernelspec": {
   "display_name": "Python 3",
   "language": "python",
   "name": "python3"
  },
  "language_info": {
   "codemirror_mode": {
    "name": "ipython",
    "version": 3
   },
   "file_extension": ".py",
   "mimetype": "text/x-python",
   "name": "python",
   "nbconvert_exporter": "python",
   "pygments_lexer": "ipython3",
   "version": "3.10.12"
  },
  "papermill": {
   "default_parameters": {},
   "duration": 67.336667,
   "end_time": "2025-03-16T06:11:12.779944",
   "environment_variables": {},
   "exception": null,
   "input_path": "__notebook__.ipynb",
   "output_path": "__notebook__.ipynb",
   "parameters": {},
   "start_time": "2025-03-16T06:10:05.443277",
   "version": "2.6.0"
  }
 },
 "nbformat": 4,
 "nbformat_minor": 5
}
