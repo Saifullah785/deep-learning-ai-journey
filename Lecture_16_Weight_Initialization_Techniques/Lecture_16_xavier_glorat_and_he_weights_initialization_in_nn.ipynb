{
  "nbformat": 4,
  "nbformat_minor": 0,
  "metadata": {
    "colab": {
      "provenance": [],
      "mount_file_id": "1VfQCXdDvUDmlVCDfHnahO6n53B2g9aea",
      "authorship_tag": "ABX9TyNv4yLTj9Dr8taDBDZazNBa",
      "include_colab_link": true
    },
    "kernelspec": {
      "name": "python3",
      "display_name": "Python 3"
    },
    "language_info": {
      "name": "python"
    }
  },
  "cells": [
    {
      "cell_type": "markdown",
      "metadata": {
        "id": "view-in-github",
        "colab_type": "text"
      },
      "source": [
        "<a href=\"https://colab.research.google.com/github/Saifullah785/deep-learning-ai-journey/blob/main/Lecture_16_Weight_Initialization_Techniques/Lecture_16_xavier_glorat_and_he_weights_initialization_in_nn.ipynb\" target=\"_parent\"><img src=\"https://colab.research.google.com/assets/colab-badge.svg\" alt=\"Open In Colab\"/></a>"
      ]
    },
    {
      "cell_type": "markdown",
      "source": [
        "# Neural Network for Binary Classification\n",
        "\n",
        "This notebook demonstrates the process of building and training a simple neural network for binary classification using TensorFlow and Keras. The dataset used is the 'ushape.csv', which contains 2D data points belonging to two classes, forming a 'U' shape.\n",
        "\n",
        "The notebook covers the following steps:\n",
        "\n",
        "1.  **Data Loading and Exploration**: Loading the dataset and visualizing it to understand the data distribution.\n",
        "2.  **Data Preparation**: Separating features and the target variable.\n",
        "3.  **Model Definition (tanh activation)**: Building a sequential neural network model with multiple dense layers using the 'tanh' activation function.\n",
        "4.  **Weight Initialization**: Manually initializing the weights of the model's layers using a method similar to He initialization.\n",
        "5.  **Model Compilation and Training (tanh activation)**: Compiling the model with binary cross-entropy loss and the Adam optimizer, then training it on the dataset.\n",
        "6.  **Decision Boundary Visualization (tanh activation)**: Visualizing the decision boundary learned by the trained model.\n",
        "7.  **Model Definition (relu activation)**: Building a new sequential neural network model with multiple dense layers using the 'relu' activation function and 'he_normal' kernel initializer.\n",
        "8.  **Model Compilation and Training (relu activation)**: Compiling and training the new model.\n",
        "9.  **Decision Boundary Visualization (relu activation)**: Visualizing the decision boundary learned by the new trained model.\n",
        "\n",
        "This notebook allows for comparison of the model performance and decision boundaries when using different activation functions and weight initialization strategies."
      ],
      "metadata": {
        "id": "Qhb_6jqgq_k1"
      }
    },
    {
      "cell_type": "code",
      "execution_count": 25,
      "metadata": {
        "id": "awcbf5zX3cuJ"
      },
      "outputs": [],
      "source": [
        "# Import necessary libraries\n",
        "import numpy as np\n",
        "import pandas as pd\n",
        "import matplotlib.pyplot as plt"
      ]
    },
    {
      "cell_type": "code",
      "source": [
        "# Load the dataset from a CSV file into a pandas DataFrame\n",
        "df = pd.read_csv('/content/ushape.csv')"
      ],
      "metadata": {
        "id": "jue8gtbj3xno"
      },
      "execution_count": 26,
      "outputs": []
    },
    {
      "cell_type": "code",
      "source": [
        "# Display the first 5 rows of the DataFrame to inspect the data\n",
        "df.head()"
      ],
      "metadata": {
        "colab": {
          "base_uri": "https://localhost:8080/",
          "height": 206
        },
        "id": "IfhYhQWF6e8P",
        "outputId": "9c19b4ab-283d-458f-dfb5-851769901e73"
      },
      "execution_count": 27,
      "outputs": [
        {
          "output_type": "execute_result",
          "data": {
            "text/plain": [
              "          X         Y  class\n",
              "0  0.031595  0.986988    0.0\n",
              "1  2.115098 -0.046244    1.0\n",
              "2  0.882490 -0.075756    0.0\n",
              "3 -0.055144 -0.037332    1.0\n",
              "4  0.829545 -0.539321    1.0"
            ],
            "text/html": [
              "\n",
              "  <div id=\"df-f2ccb21a-8a21-4a0c-87cf-1394b2411199\" class=\"colab-df-container\">\n",
              "    <div>\n",
              "<style scoped>\n",
              "    .dataframe tbody tr th:only-of-type {\n",
              "        vertical-align: middle;\n",
              "    }\n",
              "\n",
              "    .dataframe tbody tr th {\n",
              "        vertical-align: top;\n",
              "    }\n",
              "\n",
              "    .dataframe thead th {\n",
              "        text-align: right;\n",
              "    }\n",
              "</style>\n",
              "<table border=\"1\" class=\"dataframe\">\n",
              "  <thead>\n",
              "    <tr style=\"text-align: right;\">\n",
              "      <th></th>\n",
              "      <th>X</th>\n",
              "      <th>Y</th>\n",
              "      <th>class</th>\n",
              "    </tr>\n",
              "  </thead>\n",
              "  <tbody>\n",
              "    <tr>\n",
              "      <th>0</th>\n",
              "      <td>0.031595</td>\n",
              "      <td>0.986988</td>\n",
              "      <td>0.0</td>\n",
              "    </tr>\n",
              "    <tr>\n",
              "      <th>1</th>\n",
              "      <td>2.115098</td>\n",
              "      <td>-0.046244</td>\n",
              "      <td>1.0</td>\n",
              "    </tr>\n",
              "    <tr>\n",
              "      <th>2</th>\n",
              "      <td>0.882490</td>\n",
              "      <td>-0.075756</td>\n",
              "      <td>0.0</td>\n",
              "    </tr>\n",
              "    <tr>\n",
              "      <th>3</th>\n",
              "      <td>-0.055144</td>\n",
              "      <td>-0.037332</td>\n",
              "      <td>1.0</td>\n",
              "    </tr>\n",
              "    <tr>\n",
              "      <th>4</th>\n",
              "      <td>0.829545</td>\n",
              "      <td>-0.539321</td>\n",
              "      <td>1.0</td>\n",
              "    </tr>\n",
              "  </tbody>\n",
              "</table>\n",
              "</div>\n",
              "    <div class=\"colab-df-buttons\">\n",
              "\n",
              "  <div class=\"colab-df-container\">\n",
              "    <button class=\"colab-df-convert\" onclick=\"convertToInteractive('df-f2ccb21a-8a21-4a0c-87cf-1394b2411199')\"\n",
              "            title=\"Convert this dataframe to an interactive table.\"\n",
              "            style=\"display:none;\">\n",
              "\n",
              "  <svg xmlns=\"http://www.w3.org/2000/svg\" height=\"24px\" viewBox=\"0 -960 960 960\">\n",
              "    <path d=\"M120-120v-720h720v720H120Zm60-500h600v-160H180v160Zm220 220h160v-160H400v160Zm0 220h160v-160H400v160ZM180-400h160v-160H180v160Zm440 0h160v-160H620v160ZM180-180h160v-160H180v160Zm440 0h160v-160H620v160Z\"/>\n",
              "  </svg>\n",
              "    </button>\n",
              "\n",
              "  <style>\n",
              "    .colab-df-container {\n",
              "      display:flex;\n",
              "      gap: 12px;\n",
              "    }\n",
              "\n",
              "    .colab-df-convert {\n",
              "      background-color: #E8F0FE;\n",
              "      border: none;\n",
              "      border-radius: 50%;\n",
              "      cursor: pointer;\n",
              "      display: none;\n",
              "      fill: #1967D2;\n",
              "      height: 32px;\n",
              "      padding: 0 0 0 0;\n",
              "      width: 32px;\n",
              "    }\n",
              "\n",
              "    .colab-df-convert:hover {\n",
              "      background-color: #E2EBFA;\n",
              "      box-shadow: 0px 1px 2px rgba(60, 64, 67, 0.3), 0px 1px 3px 1px rgba(60, 64, 67, 0.15);\n",
              "      fill: #174EA6;\n",
              "    }\n",
              "\n",
              "    .colab-df-buttons div {\n",
              "      margin-bottom: 4px;\n",
              "    }\n",
              "\n",
              "    [theme=dark] .colab-df-convert {\n",
              "      background-color: #3B4455;\n",
              "      fill: #D2E3FC;\n",
              "    }\n",
              "\n",
              "    [theme=dark] .colab-df-convert:hover {\n",
              "      background-color: #434B5C;\n",
              "      box-shadow: 0px 1px 3px 1px rgba(0, 0, 0, 0.15);\n",
              "      filter: drop-shadow(0px 1px 2px rgba(0, 0, 0, 0.3));\n",
              "      fill: #FFFFFF;\n",
              "    }\n",
              "  </style>\n",
              "\n",
              "    <script>\n",
              "      const buttonEl =\n",
              "        document.querySelector('#df-f2ccb21a-8a21-4a0c-87cf-1394b2411199 button.colab-df-convert');\n",
              "      buttonEl.style.display =\n",
              "        google.colab.kernel.accessAllowed ? 'block' : 'none';\n",
              "\n",
              "      async function convertToInteractive(key) {\n",
              "        const element = document.querySelector('#df-f2ccb21a-8a21-4a0c-87cf-1394b2411199');\n",
              "        const dataTable =\n",
              "          await google.colab.kernel.invokeFunction('convertToInteractive',\n",
              "                                                    [key], {});\n",
              "        if (!dataTable) return;\n",
              "\n",
              "        const docLinkHtml = 'Like what you see? Visit the ' +\n",
              "          '<a target=\"_blank\" href=https://colab.research.google.com/notebooks/data_table.ipynb>data table notebook</a>'\n",
              "          + ' to learn more about interactive tables.';\n",
              "        element.innerHTML = '';\n",
              "        dataTable['output_type'] = 'display_data';\n",
              "        await google.colab.output.renderOutput(dataTable, element);\n",
              "        const docLink = document.createElement('div');\n",
              "        docLink.innerHTML = docLinkHtml;\n",
              "        element.appendChild(docLink);\n",
              "      }\n",
              "    </script>\n",
              "  </div>\n",
              "\n",
              "\n",
              "    <div id=\"df-df050c8e-43b9-4928-9b18-04c53e22d097\">\n",
              "      <button class=\"colab-df-quickchart\" onclick=\"quickchart('df-df050c8e-43b9-4928-9b18-04c53e22d097')\"\n",
              "                title=\"Suggest charts\"\n",
              "                style=\"display:none;\">\n",
              "\n",
              "<svg xmlns=\"http://www.w3.org/2000/svg\" height=\"24px\"viewBox=\"0 0 24 24\"\n",
              "     width=\"24px\">\n",
              "    <g>\n",
              "        <path d=\"M19 3H5c-1.1 0-2 .9-2 2v14c0 1.1.9 2 2 2h14c1.1 0 2-.9 2-2V5c0-1.1-.9-2-2-2zM9 17H7v-7h2v7zm4 0h-2V7h2v10zm4 0h-2v-4h2v4z\"/>\n",
              "    </g>\n",
              "</svg>\n",
              "      </button>\n",
              "\n",
              "<style>\n",
              "  .colab-df-quickchart {\n",
              "      --bg-color: #E8F0FE;\n",
              "      --fill-color: #1967D2;\n",
              "      --hover-bg-color: #E2EBFA;\n",
              "      --hover-fill-color: #174EA6;\n",
              "      --disabled-fill-color: #AAA;\n",
              "      --disabled-bg-color: #DDD;\n",
              "  }\n",
              "\n",
              "  [theme=dark] .colab-df-quickchart {\n",
              "      --bg-color: #3B4455;\n",
              "      --fill-color: #D2E3FC;\n",
              "      --hover-bg-color: #434B5C;\n",
              "      --hover-fill-color: #FFFFFF;\n",
              "      --disabled-bg-color: #3B4455;\n",
              "      --disabled-fill-color: #666;\n",
              "  }\n",
              "\n",
              "  .colab-df-quickchart {\n",
              "    background-color: var(--bg-color);\n",
              "    border: none;\n",
              "    border-radius: 50%;\n",
              "    cursor: pointer;\n",
              "    display: none;\n",
              "    fill: var(--fill-color);\n",
              "    height: 32px;\n",
              "    padding: 0;\n",
              "    width: 32px;\n",
              "  }\n",
              "\n",
              "  .colab-df-quickchart:hover {\n",
              "    background-color: var(--hover-bg-color);\n",
              "    box-shadow: 0 1px 2px rgba(60, 64, 67, 0.3), 0 1px 3px 1px rgba(60, 64, 67, 0.15);\n",
              "    fill: var(--button-hover-fill-color);\n",
              "  }\n",
              "\n",
              "  .colab-df-quickchart-complete:disabled,\n",
              "  .colab-df-quickchart-complete:disabled:hover {\n",
              "    background-color: var(--disabled-bg-color);\n",
              "    fill: var(--disabled-fill-color);\n",
              "    box-shadow: none;\n",
              "  }\n",
              "\n",
              "  .colab-df-spinner {\n",
              "    border: 2px solid var(--fill-color);\n",
              "    border-color: transparent;\n",
              "    border-bottom-color: var(--fill-color);\n",
              "    animation:\n",
              "      spin 1s steps(1) infinite;\n",
              "  }\n",
              "\n",
              "  @keyframes spin {\n",
              "    0% {\n",
              "      border-color: transparent;\n",
              "      border-bottom-color: var(--fill-color);\n",
              "      border-left-color: var(--fill-color);\n",
              "    }\n",
              "    20% {\n",
              "      border-color: transparent;\n",
              "      border-left-color: var(--fill-color);\n",
              "      border-top-color: var(--fill-color);\n",
              "    }\n",
              "    30% {\n",
              "      border-color: transparent;\n",
              "      border-left-color: var(--fill-color);\n",
              "      border-top-color: var(--fill-color);\n",
              "      border-right-color: var(--fill-color);\n",
              "    }\n",
              "    40% {\n",
              "      border-color: transparent;\n",
              "      border-right-color: var(--fill-color);\n",
              "      border-top-color: var(--fill-color);\n",
              "    }\n",
              "    60% {\n",
              "      border-color: transparent;\n",
              "      border-right-color: var(--fill-color);\n",
              "    }\n",
              "    80% {\n",
              "      border-color: transparent;\n",
              "      border-right-color: var(--fill-color);\n",
              "      border-bottom-color: var(--fill-color);\n",
              "    }\n",
              "    90% {\n",
              "      border-color: transparent;\n",
              "      border-bottom-color: var(--fill-color);\n",
              "    }\n",
              "  }\n",
              "</style>\n",
              "\n",
              "      <script>\n",
              "        async function quickchart(key) {\n",
              "          const quickchartButtonEl =\n",
              "            document.querySelector('#' + key + ' button');\n",
              "          quickchartButtonEl.disabled = true;  // To prevent multiple clicks.\n",
              "          quickchartButtonEl.classList.add('colab-df-spinner');\n",
              "          try {\n",
              "            const charts = await google.colab.kernel.invokeFunction(\n",
              "                'suggestCharts', [key], {});\n",
              "          } catch (error) {\n",
              "            console.error('Error during call to suggestCharts:', error);\n",
              "          }\n",
              "          quickchartButtonEl.classList.remove('colab-df-spinner');\n",
              "          quickchartButtonEl.classList.add('colab-df-quickchart-complete');\n",
              "        }\n",
              "        (() => {\n",
              "          let quickchartButtonEl =\n",
              "            document.querySelector('#df-df050c8e-43b9-4928-9b18-04c53e22d097 button');\n",
              "          quickchartButtonEl.style.display =\n",
              "            google.colab.kernel.accessAllowed ? 'block' : 'none';\n",
              "        })();\n",
              "      </script>\n",
              "    </div>\n",
              "\n",
              "    </div>\n",
              "  </div>\n"
            ],
            "application/vnd.google.colaboratory.intrinsic+json": {
              "type": "dataframe",
              "variable_name": "df",
              "summary": "{\n  \"name\": \"df\",\n  \"rows\": 100,\n  \"fields\": [\n    {\n      \"column\": \"X\",\n      \"properties\": {\n        \"dtype\": \"number\",\n        \"std\": 0.8910441577790993,\n        \"min\": -1.318500344394381,\n        \"max\": 2.181371683049025,\n        \"num_unique_values\": 100,\n        \"samples\": [\n          -0.8753936535485005,\n          -0.5134668595395712,\n          0.2457559354815964\n        ],\n        \"semantic_type\": \"\",\n        \"description\": \"\"\n      }\n    },\n    {\n      \"column\": \"Y\",\n      \"properties\": {\n        \"dtype\": \"number\",\n        \"std\": 0.5928850846536865,\n        \"min\": -1.0357020680498332,\n        \"max\": 1.5718993127141032,\n        \"num_unique_values\": 100,\n        \"samples\": [\n          0.5054342299267167,\n          0.6786909545326081,\n          0.8496383011786973\n        ],\n        \"semantic_type\": \"\",\n        \"description\": \"\"\n      }\n    },\n    {\n      \"column\": \"class\",\n      \"properties\": {\n        \"dtype\": \"number\",\n        \"std\": 0.502518907629606,\n        \"min\": 0.0,\n        \"max\": 1.0,\n        \"num_unique_values\": 2,\n        \"samples\": [\n          1.0,\n          0.0\n        ],\n        \"semantic_type\": \"\",\n        \"description\": \"\"\n      }\n    }\n  ]\n}"
            }
          },
          "metadata": {},
          "execution_count": 27
        }
      ]
    },
    {
      "cell_type": "code",
      "source": [
        "# Create a scatter plot of the data points, colored by their class\n",
        "plt.scatter(df['X'],df['Y'],c=df['class'])\n",
        "# Show the plot\n",
        "plt.show()"
      ],
      "metadata": {
        "colab": {
          "base_uri": "https://localhost:8080/",
          "height": 430
        },
        "id": "bJo3vPPx6ucA",
        "outputId": "48bb4b54-b92b-4de5-e5f0-62d731264051"
      },
      "execution_count": 28,
      "outputs": [
        {
          "output_type": "display_data",
          "data": {
            "text/plain": [
              "<Figure size 640x480 with 1 Axes>"
            ],
            "image/png": "[encoded data removed]"
          },
          "metadata": {}
        }
      ]
    },
    {
      "cell_type": "code",
      "source": [
        "# Separate the features (X) and the target variable (y)\n",
        "# X includes the first two columns ('X' and 'Y')\n",
        "x = df.iloc[:,0:2].values\n",
        "# y includes the last column ('class')\n",
        "y = df.iloc[:, -1].values"
      ],
      "metadata": {
        "id": "-5eUFw6K7EYU"
      },
      "execution_count": 29,
      "outputs": []
    },
    {
      "cell_type": "code",
      "source": [
        "# Import TensorFlow and Keras for building the neural network\n",
        "import tensorflow\n",
        "from tensorflow import keras\n",
        "from keras import Sequential\n",
        "from keras.layers import Dense"
      ],
      "metadata": {
        "id": "RPN6XSk67WrX"
      },
      "execution_count": 30,
      "outputs": []
    },
    {
      "cell_type": "code",
      "source": [
        "# Create a Sequential model, which is a linear stack of layers\n",
        "model = Sequential()\n",
        "\n",
        "# Add a Dense (fully connected) layer with 10 neurons and 'tanh' activation\n",
        "# input_dim=2 specifies the input shape (2 features) for the first layer\n",
        "model.add(Dense(10, activation='tanh', input_dim=2))\n",
        "# Add another Dense layer with 10 neurons and 'tanh' activation\n",
        "model.add(Dense(10, activation='tanh'))\n",
        "# Add another Dense layer with 10 neurons and 'tanh' activation\n",
        "model.add(Dense(10, activation='tanh'))\n",
        "# Add another Dense layer with 10 neurons and 'tanh' activation\n",
        "model.add(Dense(10, activation='tanh'))\n",
        "\n",
        "# Add the output layer with 1 neuron and 'sigmoid' activation for binary classification\n",
        "model.add(Dense(1, activation='sigmoid'))\n",
        "\n",
        "# Display a summary of the model architecture, including the number of parameters\n",
        "model.summary()"
      ],
      "metadata": {
        "colab": {
          "base_uri": "https://localhost:8080/",
          "height": 345
        },
        "id": "csIrQORq7uf8",
        "outputId": "f5524431-bec6-4845-e142-f7be06e1d5f3"
      },
      "execution_count": 31,
      "outputs": [
        {
          "output_type": "stream",
          "name": "stderr",
          "text": [
            "/usr/local/lib/python3.11/dist-packages/keras/src/layers/core/dense.py:87: UserWarning: Do not pass an `input_shape`/`input_dim` argument to a layer. When using Sequential models, prefer using an `Input(shape)` object as the first layer in the model instead.\n",
            "  super().__init__(activity_regularizer=activity_regularizer, **kwargs)\n"
          ]
        },
        {
          "output_type": "display_data",
          "data": {
            "text/plain": [
              "\u001b[1mModel: \"sequential_2\"\u001b[0m\n"
            ],
            "text/html": [
              "<pre style=\"white-space:pre;overflow-x:auto;line-height:normal;font-family:Menlo,'DejaVu Sans Mono',consolas,'Courier New',monospace\"><span style=\"font-weight: bold\">Model: \"sequential_2\"</span>\n",
              "</pre>\n"
            ]
          },
          "metadata": {}
        },
        {
          "output_type": "display_data",
          "data": {
            "text/plain": [
              "┏━━━━━━━━━━━━━━━━━━━━━━━━━━━━━━━━━┳━━━━━━━━━━━━━━━━━━━━━━━━┳━━━━━━━━━━━━━━━┓\n",
              "┃\u001b[1m \u001b[0m\u001b[1mLayer (type)                   \u001b[0m\u001b[1m \u001b[0m┃\u001b[1m \u001b[0m\u001b[1mOutput Shape          \u001b[0m\u001b[1m \u001b[0m┃\u001b[1m \u001b[0m\u001b[1m      Param #\u001b[0m\u001b[1m \u001b[0m┃\n",
              "┡━━━━━━━━━━━━━━━━━━━━━━━━━━━━━━━━━╇━━━━━━━━━━━━━━━━━━━━━━━━╇━━━━━━━━━━━━━━━┩\n",
              "│ dense_10 (\u001b[38;5;33mDense\u001b[0m)                │ (\u001b[38;5;45mNone\u001b[0m, \u001b[38;5;34m10\u001b[0m)             │            \u001b[38;5;34m30\u001b[0m │\n",
              "├─────────────────────────────────┼────────────────────────┼───────────────┤\n",
              "│ dense_11 (\u001b[38;5;33mDense\u001b[0m)                │ (\u001b[38;5;45mNone\u001b[0m, \u001b[38;5;34m10\u001b[0m)             │           \u001b[38;5;34m110\u001b[0m │\n",
              "├─────────────────────────────────┼────────────────────────┼───────────────┤\n",
              "│ dense_12 (\u001b[38;5;33mDense\u001b[0m)                │ (\u001b[38;5;45mNone\u001b[0m, \u001b[38;5;34m10\u001b[0m)             │           \u001b[38;5;34m110\u001b[0m │\n",
              "├─────────────────────────────────┼────────────────────────┼───────────────┤\n",
              "│ dense_13 (\u001b[38;5;33mDense\u001b[0m)                │ (\u001b[38;5;45mNone\u001b[0m, \u001b[38;5;34m10\u001b[0m)             │           \u001b[38;5;34m110\u001b[0m │\n",
              "├─────────────────────────────────┼────────────────────────┼───────────────┤\n",
              "│ dense_14 (\u001b[38;5;33mDense\u001b[0m)                │ (\u001b[38;5;45mNone\u001b[0m, \u001b[38;5;34m1\u001b[0m)              │            \u001b[38;5;34m11\u001b[0m │\n",
              "└─────────────────────────────────┴────────────────────────┴───────────────┘\n"
            ],
            "text/html": [
              "<pre style=\"white-space:pre;overflow-x:auto;line-height:normal;font-family:Menlo,'DejaVu Sans Mono',consolas,'Courier New',monospace\">┏━━━━━━━━━━━━━━━━━━━━━━━━━━━━━━━━━┳━━━━━━━━━━━━━━━━━━━━━━━━┳━━━━━━━━━━━━━━━┓\n",
              "┃<span style=\"font-weight: bold\"> Layer (type)                    </span>┃<span style=\"font-weight: bold\"> Output Shape           </span>┃<span style=\"font-weight: bold\">       Param # </span>┃\n",
              "┡━━━━━━━━━━━━━━━━━━━━━━━━━━━━━━━━━╇━━━━━━━━━━━━━━━━━━━━━━━━╇━━━━━━━━━━━━━━━┩\n",
              "│ dense_10 (<span style=\"color: #0087ff; text-decoration-color: #0087ff\">Dense</span>)                │ (<span style=\"color: #00d7ff; text-decoration-color: #00d7ff\">None</span>, <span style=\"color: #00af00; text-decoration-color: #00af00\">10</span>)             │            <span style=\"color: #00af00; text-decoration-color: #00af00\">30</span> │\n",
              "├─────────────────────────────────┼────────────────────────┼───────────────┤\n",
              "│ dense_11 (<span style=\"color: #0087ff; text-decoration-color: #0087ff\">Dense</span>)                │ (<span style=\"color: #00d7ff; text-decoration-color: #00d7ff\">None</span>, <span style=\"color: #00af00; text-decoration-color: #00af00\">10</span>)             │           <span style=\"color: #00af00; text-decoration-color: #00af00\">110</span> │\n",
              "├─────────────────────────────────┼────────────────────────┼───────────────┤\n",
              "│ dense_12 (<span style=\"color: #0087ff; text-decoration-color: #0087ff\">Dense</span>)                │ (<span style=\"color: #00d7ff; text-decoration-color: #00d7ff\">None</span>, <span style=\"color: #00af00; text-decoration-color: #00af00\">10</span>)             │           <span style=\"color: #00af00; text-decoration-color: #00af00\">110</span> │\n",
              "├─────────────────────────────────┼────────────────────────┼───────────────┤\n",
              "│ dense_13 (<span style=\"color: #0087ff; text-decoration-color: #0087ff\">Dense</span>)                │ (<span style=\"color: #00d7ff; text-decoration-color: #00d7ff\">None</span>, <span style=\"color: #00af00; text-decoration-color: #00af00\">10</span>)             │           <span style=\"color: #00af00; text-decoration-color: #00af00\">110</span> │\n",
              "├─────────────────────────────────┼────────────────────────┼───────────────┤\n",
              "│ dense_14 (<span style=\"color: #0087ff; text-decoration-color: #0087ff\">Dense</span>)                │ (<span style=\"color: #00d7ff; text-decoration-color: #00d7ff\">None</span>, <span style=\"color: #00af00; text-decoration-color: #00af00\">1</span>)              │            <span style=\"color: #00af00; text-decoration-color: #00af00\">11</span> │\n",
              "└─────────────────────────────────┴────────────────────────┴───────────────┘\n",
              "</pre>\n"
            ]
          },
          "metadata": {}
        },
        {
          "output_type": "display_data",
          "data": {
            "text/plain": [
              "\u001b[1m Total params: \u001b[0m\u001b[38;5;34m371\u001b[0m (1.45 KB)\n"
            ],
            "text/html": [
              "<pre style=\"white-space:pre;overflow-x:auto;line-height:normal;font-family:Menlo,'DejaVu Sans Mono',consolas,'Courier New',monospace\"><span style=\"font-weight: bold\"> Total params: </span><span style=\"color: #00af00; text-decoration-color: #00af00\">371</span> (1.45 KB)\n",
              "</pre>\n"
            ]
          },
          "metadata": {}
        },
        {
          "output_type": "display_data",
          "data": {
            "text/plain": [
              "\u001b[1m Trainable params: \u001b[0m\u001b[38;5;34m371\u001b[0m (1.45 KB)\n"
            ],
            "text/html": [
              "<pre style=\"white-space:pre;overflow-x:auto;line-height:normal;font-family:Menlo,'DejaVu Sans Mono',consolas,'Courier New',monospace\"><span style=\"font-weight: bold\"> Trainable params: </span><span style=\"color: #00af00; text-decoration-color: #00af00\">371</span> (1.45 KB)\n",
              "</pre>\n"
            ]
          },
          "metadata": {}
        },
        {
          "output_type": "display_data",
          "data": {
            "text/plain": [
              "\u001b[1m Non-trainable params: \u001b[0m\u001b[38;5;34m0\u001b[0m (0.00 B)\n"
            ],
            "text/html": [
              "<pre style=\"white-space:pre;overflow-x:auto;line-height:normal;font-family:Menlo,'DejaVu Sans Mono',consolas,'Courier New',monospace\"><span style=\"font-weight: bold\"> Non-trainable params: </span><span style=\"color: #00af00; text-decoration-color: #00af00\">0</span> (0.00 B)\n",
              "</pre>\n"
            ]
          },
          "metadata": {}
        }
      ]
    },
    {
      "cell_type": "code",
      "source": [],
      "metadata": {
        "id": "BBBidMk5jFsO"
      },
      "execution_count": null,
      "outputs": []
    },
    {
      "cell_type": "code",
      "source": [
        "# Get the initial weights of the model's layers\n",
        "model.get_weights()"
      ],
      "metadata": {
        "id": "ikRNMBxo85rK",
        "colab": {
          "base_uri": "https://localhost:8080/"
        },
        "outputId": "d5b08caa-ba41-4371-c63c-2bad86475577"
      },
      "execution_count": 32,
      "outputs": [
        {
          "output_type": "execute_result",
          "data": {
            "text/plain": [
              "[array([[-0.06746495, -0.15671277, -0.09391159,  0.36294383, -0.6107861 ,\n",
              "         -0.2857403 , -0.48474252,  0.21983713,  0.27486992, -0.3875455 ],\n",
              "        [ 0.16517264, -0.5495772 ,  0.47074753,  0.5005017 ,  0.6154719 ,\n",
              "         -0.0774489 ,  0.33448344,  0.3201173 ,  0.06321943,  0.20420992]],\n",
              "       dtype=float32),\n",
              " array([0., 0., 0., 0., 0., 0., 0., 0., 0., 0.], dtype=float32),\n",
              " array([[ 0.08917373, -0.14701876,  0.16443074,  0.36563748, -0.5395533 ,\n",
              "          0.01984835,  0.432571  ,  0.10237843, -0.12573084,  0.38253284],\n",
              "        [-0.2914638 ,  0.5389242 , -0.14848489,  0.41687626, -0.2637003 ,\n",
              "          0.10136259, -0.43584418, -0.32109863, -0.14835572,  0.2668754 ],\n",
              "        [-0.2425291 ,  0.44774514, -0.06717473,  0.4392389 , -0.39186043,\n",
              "         -0.53127694,  0.05195439, -0.19557333,  0.26852512,  0.02659464],\n",
              "        [-0.240204  ,  0.46380866,  0.45445347,  0.25154877,  0.18649149,\n",
              "          0.3929153 ,  0.5125359 ,  0.09768999,  0.13924909, -0.36455244],\n",
              "        [-0.0138185 ,  0.09345371,  0.24399221,  0.1502772 , -0.23837003,\n",
              "          0.02931803, -0.24556851,  0.23217338, -0.3803185 ,  0.4674244 ],\n",
              "        [-0.34305137, -0.2904212 ,  0.17939067,  0.5191337 ,  0.06992686,\n",
              "         -0.29172823, -0.31174308, -0.34483585,  0.41283107,  0.11665308],\n",
              "        [ 0.43959266,  0.2669993 ,  0.0016796 , -0.34976956, -0.04292715,\n",
              "         -0.01820558, -0.06705785,  0.07455176,  0.5076685 ,  0.13716072],\n",
              "        [ 0.25385582,  0.15056628, -0.02553475, -0.01782203, -0.11241081,\n",
              "          0.07199734,  0.2255243 , -0.47123945,  0.09631264,  0.40643984],\n",
              "        [ 0.4129244 ,  0.16694665, -0.40569222,  0.16600394,  0.15019137,\n",
              "          0.03096706, -0.24348107,  0.10300589, -0.44117096, -0.5319359 ],\n",
              "        [ 0.29176295,  0.269005  , -0.2852028 , -0.00762737,  0.0367952 ,\n",
              "         -0.03820318,  0.43799925, -0.4675202 , -0.14895537, -0.0689579 ]],\n",
              "       dtype=float32),\n",
              " array([0., 0., 0., 0., 0., 0., 0., 0., 0., 0.], dtype=float32),\n",
              " array([[ 0.40537137, -0.2669058 ,  0.22808617,  0.42984837, -0.11270487,\n",
              "         -0.04993093, -0.31051987, -0.24248469,  0.38986558,  0.53590095],\n",
              "        [-0.16091168,  0.06205624, -0.47692406,  0.50958025, -0.1410051 ,\n",
              "         -0.01307559, -0.44068244,  0.52765954,  0.21088922,  0.2971233 ],\n",
              "        [ 0.05426502, -0.24734673, -0.23666781,  0.14767826,  0.44172633,\n",
              "         -0.3119194 , -0.36242765,  0.08743143, -0.18188936, -0.01292437],\n",
              "        [ 0.16655618, -0.04826179,  0.521845  ,  0.10003573, -0.17539173,\n",
              "          0.0420512 , -0.14872971, -0.03877801, -0.01813895, -0.10333082],\n",
              "        [-0.08289742,  0.47070992,  0.354033  , -0.07205844, -0.01424575,\n",
              "          0.52501094,  0.13974273,  0.50635767,  0.3628245 , -0.19253287],\n",
              "        [ 0.27925205, -0.4161118 , -0.18755382,  0.42859215,  0.2160852 ,\n",
              "         -0.24890149, -0.39646745,  0.19631743,  0.01246494,  0.2522593 ],\n",
              "        [-0.13422343,  0.4620968 ,  0.26290268,  0.09053248,  0.47921145,\n",
              "          0.27800637,  0.44567937,  0.5320258 ,  0.40883392, -0.31606537],\n",
              "        [-0.23279434,  0.16856998, -0.4795166 , -0.2208417 ,  0.24326873,\n",
              "          0.16910183,  0.45797193,  0.23041284, -0.01785976, -0.16716537],\n",
              "        [-0.12237123,  0.04129446,  0.07446009,  0.25359505,  0.50974584,\n",
              "          0.21097517,  0.09035748, -0.0367555 , -0.35875255, -0.0878801 ],\n",
              "        [-0.52275336, -0.38592488,  0.54343176,  0.5240978 , -0.40735188,\n",
              "         -0.12430209, -0.23905703,  0.5031948 ,  0.37725544, -0.3021512 ]],\n",
              "       dtype=float32),\n",
              " array([0., 0., 0., 0., 0., 0., 0., 0., 0., 0.], dtype=float32),\n",
              " array([[ 0.00724757, -0.5261633 , -0.16091755,  0.09102494, -0.545699  ,\n",
              "          0.34635693,  0.06254739,  0.49415958, -0.44016856,  0.45086968],\n",
              "        [ 0.34259093, -0.16289961,  0.5401058 ,  0.36871386,  0.4276027 ,\n",
              "         -0.03440464,  0.14042854, -0.2697768 , -0.3213919 , -0.02084643],\n",
              "        [ 0.54315996,  0.505226  , -0.09173781,  0.50977504,  0.28912944,\n",
              "         -0.3099535 , -0.36561188, -0.42880827, -0.0036068 ,  0.3470539 ],\n",
              "        [-0.5067746 , -0.07876435,  0.45351052, -0.51529413, -0.38660628,\n",
              "          0.36514962,  0.3103292 , -0.07048172,  0.5402216 , -0.3729091 ],\n",
              "        [-0.03228366, -0.5167572 , -0.3919853 , -0.09641922,  0.3486336 ,\n",
              "          0.07395166,  0.03603321, -0.24957141,  0.05929261, -0.5118457 ],\n",
              "        [-0.37574467,  0.06463635, -0.50262195,  0.05501246, -0.07177845,\n",
              "         -0.40979007,  0.01057613,  0.06224495,  0.399063  ,  0.3059296 ],\n",
              "        [ 0.43382335, -0.48226494,  0.06461471,  0.1118682 ,  0.04191732,\n",
              "          0.53978825, -0.00785065,  0.08044642, -0.10329947, -0.18175131],\n",
              "        [ 0.38387334,  0.17861551, -0.2460244 , -0.22190845, -0.35872185,\n",
              "          0.26640826,  0.29326564,  0.39535797, -0.3915491 , -0.26982287],\n",
              "        [-0.50244695,  0.5082089 , -0.52336115, -0.250783  , -0.07941076,\n",
              "          0.31237197, -0.41163513, -0.47116724,  0.1467439 , -0.12466589],\n",
              "        [-0.04189044, -0.11676091,  0.15556085, -0.2376262 ,  0.01535118,\n",
              "         -0.26270497, -0.15173167, -0.485197  , -0.23149982, -0.40269253]],\n",
              "       dtype=float32),\n",
              " array([0., 0., 0., 0., 0., 0., 0., 0., 0., 0.], dtype=float32),\n",
              " array([[ 0.38785833],\n",
              "        [-0.5541309 ],\n",
              "        [-0.6128813 ],\n",
              "        [-0.40878487],\n",
              "        [-0.48026642],\n",
              "        [-0.36969796],\n",
              "        [-0.44425112],\n",
              "        [-0.09179056],\n",
              "        [-0.54310703],\n",
              "        [-0.5667753 ]], dtype=float32),\n",
              " array([0.], dtype=float32)]"
            ]
          },
          "metadata": {},
          "execution_count": 32
        }
      ]
    },
    {
      "cell_type": "code",
      "source": [
        "# Store the initial weights in a variable\n",
        "initial_weights = model.get_weights()"
      ],
      "metadata": {
        "id": "JBGcOIP-9MI0"
      },
      "execution_count": 33,
      "outputs": []
    },
    {
      "cell_type": "code",
      "source": [
        "# Manually initialize the weights and biases for each layer\n",
        "# The weights are initialized using a normal distribution with a scaling factor (He initialization)\n",
        "# The biases are initialized to zeros\n",
        "initial_weights[0] = np.random.randn(2,10)*np.sqrt(1/2)\n",
        "initial_weights[1] = np.zeros(model.get_weights()[1].shape)\n",
        "initial_weights[2] = np.random.randn(10,10)*np.sqrt(1/10)\n",
        "initial_weights[3] = np.zeros(model.get_weights()[3].shape)\n",
        "initial_weights[4] = np.random.randn(10,10)*np.sqrt(1/10)\n",
        "initial_weights[5] = np.zeros(model.get_weights()[5].shape)\n",
        "initial_weights[6] = np.random.randn(10,10)*np.sqrt(1/10)\n",
        "initial_weights[7] = np.zeros(model.get_weights()[7].shape)\n",
        "initial_weights[8] = np.random.randn(10,1)*np.sqrt(1/10)\n",
        "initial_weights[9] = np.zeros(model.get_weights()[9].shape)"
      ],
      "metadata": {
        "id": "N7ZgeR6P9UE_"
      },
      "execution_count": 34,
      "outputs": []
    },
    {
      "cell_type": "code",
      "source": [
        "# Set the model's weights to the manually initialized weights\n",
        "model.set_weights(initial_weights)"
      ],
      "metadata": {
        "id": "Sykd3OLi91Rt"
      },
      "execution_count": 35,
      "outputs": []
    },
    {
      "cell_type": "code",
      "source": [
        "# Mount Google Drive to access files stored in Drive (if needed)\n",
        "from google.colab import drive\n",
        "drive.mount('/content/drive')"
      ],
      "metadata": {
        "colab": {
          "base_uri": "https://localhost:8080/"
        },
        "id": "b3uuJpT9Gs-1",
        "outputId": "278f01b4-8f1a-4e9b-ddd5-3f3185f1206c"
      },
      "execution_count": 36,
      "outputs": [
        {
          "output_type": "stream",
          "name": "stdout",
          "text": [
            "Drive already mounted at /content/drive; to attempt to forcibly remount, call drive.mount(\"/content/drive\", force_remount=True).\n"
          ]
        }
      ]
    },
    {
      "cell_type": "code",
      "source": [
        "# Get the weights of the model after setting them (to verify the initialization)\n",
        "model.get_weights()"
      ],
      "metadata": {
        "colab": {
          "base_uri": "https://localhost:8080/"
        },
        "id": "tB71cHgH-LZ8",
        "outputId": "0e544adb-5047-4c19-b327-361d69e25782"
      },
      "execution_count": 37,
      "outputs": [
        {
          "output_type": "execute_result",
          "data": {
            "text/plain": [
              "[array([[ 0.81589174, -0.5286663 , -0.31982   , -0.6359621 ,  0.92054904,\n",
              "         -0.7266424 , -0.11563774,  0.69253594, -0.92094636, -0.12926286],\n",
              "        [-1.1551396 , -1.102832  , -0.18036449,  2.19514   , -1.2718959 ,\n",
              "          1.3267162 , -0.3148051 , -0.07675064, -0.4111377 ,  0.03587632]],\n",
              "       dtype=float32),\n",
              " array([0., 0., 0., 0., 0., 0., 0., 0., 0., 0.], dtype=float32),\n",
              " array([[-0.44926158, -0.04623441, -0.09565648, -0.50183773,  0.02218346,\n",
              "         -0.09663232,  0.1888994 , -0.28251967,  0.09380242, -0.10474498],\n",
              "        [ 0.43505284,  0.32324114, -0.48141563,  0.5291347 ,  0.28411236,\n",
              "          0.16282244,  0.03558705,  0.19375938, -0.5124272 , -0.26816693],\n",
              "        [ 0.41865125, -0.2074033 , -0.03496823,  0.15753753,  0.02726919,\n",
              "         -0.2787261 ,  0.33613852, -0.0197979 , -0.3349947 ,  0.05156909],\n",
              "        [-0.17668477, -0.12287713,  0.49118957, -0.76294625,  0.02502498,\n",
              "         -0.31277677, -0.16274628,  0.30037954, -0.23530726, -0.00640067],\n",
              "        [ 0.01282873,  0.01155875,  0.68075144,  0.23752943,  0.17653748,\n",
              "          0.43046087,  0.49131218, -0.02077911,  0.3797272 , -0.03722551],\n",
              "        [-0.3601799 ,  0.05441394,  0.16518839, -0.29120857,  0.42740053,\n",
              "         -0.06305126,  0.6039256 , -0.2005777 , -0.6154604 , -0.01103947],\n",
              "        [ 0.13718618,  0.24595639, -0.01632834,  0.38877222,  0.2288157 ,\n",
              "         -0.17099813, -0.32840836, -0.27924705,  0.21420518, -0.2696105 ],\n",
              "        [-0.19748352,  0.33258134,  0.05829837, -0.24017599,  0.45301524,\n",
              "         -0.4035303 , -0.39926293,  0.1451479 , -0.34099063,  0.30980676],\n",
              "        [ 0.13734838, -0.27717984,  0.05252096,  0.37698442, -0.44277617,\n",
              "          0.05555195,  0.24787864,  0.00708389, -0.19801974,  0.40144208],\n",
              "        [ 0.40949383, -0.01638452,  0.03497915, -0.17315833, -0.33494362,\n",
              "          0.03314164,  0.29824433,  0.02518703, -0.12322555, -0.6388964 ]],\n",
              "       dtype=float32),\n",
              " array([0., 0., 0., 0., 0., 0., 0., 0., 0., 0.], dtype=float32),\n",
              " array([[ 0.13112605, -0.3133153 ,  0.31669727, -0.22945079, -0.2202153 ,\n",
              "          0.22766232, -0.54603285,  0.5471412 , -0.13231494,  0.7236542 ],\n",
              "        [ 0.21909852,  0.02525236,  0.09635284, -0.16765068, -0.30411702,\n",
              "          0.23556007,  0.3396478 , -0.12359627,  0.05898461,  0.22202604],\n",
              "        [-0.2625346 ,  0.29807273,  0.08398111,  0.14792709,  0.38291174,\n",
              "          0.06242102,  0.41280892,  0.4449604 , -0.3798693 ,  0.3750025 ],\n",
              "        [ 0.4352486 , -0.26869035,  0.41302714, -0.04116144, -0.8076412 ,\n",
              "          0.08431154,  0.49290586, -0.35775852,  0.46679968, -0.04945331],\n",
              "        [ 0.14176065,  0.15952381, -0.38972172, -0.47268963, -0.45986825,\n",
              "          0.25874394, -0.13141114,  0.3386176 ,  0.19118083,  0.4340787 ],\n",
              "        [ 0.24346188,  0.03409561,  0.20647213, -0.17591551, -0.11373586,\n",
              "         -0.22125614, -0.2526367 , -0.24686936, -0.12889396,  0.1290819 ],\n",
              "        [-0.00233765,  0.00584967, -0.1910696 ,  0.32775494, -0.05589924,\n",
              "         -0.35318545, -0.41168118,  0.17204858,  0.43482825, -0.01621556],\n",
              "        [ 0.37248543, -0.10555647,  0.00255535, -0.32823086, -0.15043536,\n",
              "          0.8438598 , -0.08023787, -0.49432147,  0.02489504,  0.14781435],\n",
              "        [-0.03944646, -0.60170346,  0.08495644, -0.21115507,  0.3338453 ,\n",
              "         -0.0016044 ,  0.05979695, -0.17070612,  0.57717127, -0.23901331],\n",
              "        [-0.15706939,  0.45394465, -0.01434277,  0.27722386,  0.02134015,\n",
              "          0.4769565 ,  0.42528877,  0.05010383, -0.00825454, -0.19881335]],\n",
              "       dtype=float32),\n",
              " array([0., 0., 0., 0., 0., 0., 0., 0., 0., 0.], dtype=float32),\n",
              " array([[-0.0730395 , -0.19294931,  0.13347499,  0.0145848 ,  0.5054581 ,\n",
              "         -0.5064104 ,  0.3141236 , -0.14958715,  0.2267704 ,  0.00497239],\n",
              "        [-0.0331575 ,  0.26941854, -0.16769414,  0.09222991, -0.30516312,\n",
              "          0.19713126,  0.00122156, -0.6292117 ,  0.01241133,  0.37647134],\n",
              "        [ 0.13792047,  0.318495  , -0.47834563, -0.4494981 ,  0.29355982,\n",
              "         -0.39093265,  0.14805897,  0.12212934,  0.04059786, -0.14391673],\n",
              "        [ 0.01897527,  0.38357958, -0.2963581 ,  0.17601125, -0.05920215,\n",
              "          0.20531508,  0.06458133,  0.77521414, -0.37213778,  0.03686588],\n",
              "        [ 0.08550552, -0.13558295, -0.12359805, -0.43422645, -0.17113024,\n",
              "         -0.38610846, -0.25950855, -0.04667681,  0.07259834, -0.39796165],\n",
              "        [-0.7201024 , -0.141068  , -0.1356873 , -0.1072243 ,  0.70993483,\n",
              "         -0.3021122 , -0.09475379,  0.1347987 ,  0.01983401,  0.17973287],\n",
              "        [-0.25782183,  0.07080859, -0.17840569,  0.27790892,  0.4549922 ,\n",
              "          0.06870396,  0.33386618,  0.1154248 ,  0.13036112,  0.3603742 ],\n",
              "        [-0.05692924,  0.11156355,  0.3482847 , -0.06026517, -0.17759478,\n",
              "         -0.17842278,  0.26035613, -0.088695  , -0.1830136 ,  0.10614024],\n",
              "        [-0.33106053,  0.1680448 ,  0.13013256,  0.26296106,  0.38092446,\n",
              "         -0.07262083,  0.07731739, -0.1659729 ,  0.46216622, -0.1141072 ],\n",
              "        [-0.02826916,  0.22329271,  0.4090652 , -0.33362406, -0.0845829 ,\n",
              "         -0.06269153,  0.03723023,  0.12073981, -0.00622579,  0.01479436]],\n",
              "       dtype=float32),\n",
              " array([0., 0., 0., 0., 0., 0., 0., 0., 0., 0.], dtype=float32),\n",
              " array([[ 0.32305506],\n",
              "        [-0.25685292],\n",
              "        [-0.01154791],\n",
              "        [ 0.522587  ],\n",
              "        [-0.7670652 ],\n",
              "        [ 0.3821643 ],\n",
              "        [-0.0848882 ],\n",
              "        [-0.197369  ],\n",
              "        [-0.71783036],\n",
              "        [ 0.37645525]], dtype=float32),\n",
              " array([0.], dtype=float32)]"
            ]
          },
          "metadata": {},
          "execution_count": 37
        }
      ]
    },
    {
      "cell_type": "code",
      "source": [
        "# Compile the model\n",
        "# Use 'binary_crossentropy' as the loss function for binary classification\n",
        "# Use 'Adam' as the optimizer\n",
        "# Track 'accuracy' as a metric\n",
        "model.compile(loss='binary_crossentropy', optimizer='Adam', metrics=['accuracy'])"
      ],
      "metadata": {
        "id": "Kx2kGRkG-mWd"
      },
      "execution_count": 38,
      "outputs": []
    },
    {
      "cell_type": "code",
      "source": [
        "# Train the model using the training data (x, y)\n",
        "# Train for 100 epochs (iterations over the entire dataset)\n",
        "# Use 20% of the data for validation during training\n",
        "history = model.fit(x,y, epochs=100, validation_split=0.2)"
      ],
      "metadata": {
        "colab": {
          "base_uri": "https://localhost:8080/"
        },
        "id": "xcRnTNxi-wgt",
        "outputId": "a2da0452-88c1-4ff5-8bd3-a2638a1d3424"
      },
      "execution_count": 39,
      "outputs": [
        {
          "output_type": "stream",
          "name": "stdout",
          "text": [
            "Epoch 1/100\n",
            "\u001b[1m3/3\u001b[0m \u001b[32m━━━━━━━━━━━━━━━━━━━━\u001b[0m\u001b[37m\u001b[0m \u001b[1m3s\u001b[0m 209ms/step - accuracy: 0.2523 - loss: 1.0085 - val_accuracy: 0.1500 - val_loss: 0.9860\n",
            "Epoch 2/100\n",
            "\u001b[1m3/3\u001b[0m \u001b[32m━━━━━━━━━━━━━━━━━━━━\u001b[0m\u001b[37m\u001b[0m \u001b[1m0s\u001b[0m 63ms/step - accuracy: 0.2875 - loss: 0.9421 - val_accuracy: 0.1500 - val_loss: 0.9404\n",
            "Epoch 3/100\n",
            "\u001b[1m3/3\u001b[0m \u001b[32m━━━━━━━━━━━━━━━━━━━━\u001b[0m\u001b[37m\u001b[0m \u001b[1m0s\u001b[0m 64ms/step - accuracy: 0.2656 - loss: 0.9166 - val_accuracy: 0.2000 - val_loss: 0.8970\n",
            "Epoch 4/100\n",
            "\u001b[1m3/3\u001b[0m \u001b[32m━━━━━━━━━━━━━━━━━━━━\u001b[0m\u001b[37m\u001b[0m \u001b[1m0s\u001b[0m 52ms/step - accuracy: 0.2688 - loss: 0.9000 - val_accuracy: 0.2500 - val_loss: 0.8553\n",
            "Epoch 5/100\n",
            "\u001b[1m3/3\u001b[0m \u001b[32m━━━━━━━━━━━━━━━━━━━━\u001b[0m\u001b[37m\u001b[0m \u001b[1m0s\u001b[0m 139ms/step - accuracy: 0.3008 - loss: 0.8609 - val_accuracy: 0.3000 - val_loss: 0.8159\n",
            "Epoch 6/100\n",
            "\u001b[1m3/3\u001b[0m \u001b[32m━━━━━━━━━━━━━━━━━━━━\u001b[0m\u001b[37m\u001b[0m \u001b[1m0s\u001b[0m 55ms/step - accuracy: 0.2930 - loss: 0.8286 - val_accuracy: 0.3500 - val_loss: 0.7793\n",
            "Epoch 7/100\n",
            "\u001b[1m3/3\u001b[0m \u001b[32m━━━━━━━━━━━━━━━━━━━━\u001b[0m\u001b[37m\u001b[0m \u001b[1m0s\u001b[0m 52ms/step - accuracy: 0.3305 - loss: 0.7859 - val_accuracy: 0.4000 - val_loss: 0.7449\n",
            "Epoch 8/100\n",
            "\u001b[1m3/3\u001b[0m \u001b[32m━━━━━━━━━━━━━━━━━━━━\u001b[0m\u001b[37m\u001b[0m \u001b[1m0s\u001b[0m 33ms/step - accuracy: 0.3469 - loss: 0.7592 - val_accuracy: 0.4000 - val_loss: 0.7125\n",
            "Epoch 9/100\n",
            "\u001b[1m3/3\u001b[0m \u001b[32m━━━━━━━━━━━━━━━━━━━━\u001b[0m\u001b[37m\u001b[0m \u001b[1m0s\u001b[0m 33ms/step - accuracy: 0.3453 - loss: 0.7326 - val_accuracy: 0.5500 - val_loss: 0.6824\n",
            "Epoch 10/100\n",
            "\u001b[1m3/3\u001b[0m \u001b[32m━━━━━━━━━━━━━━━━━━━━\u001b[0m\u001b[37m\u001b[0m \u001b[1m0s\u001b[0m 34ms/step - accuracy: 0.3844 - loss: 0.6971 - val_accuracy: 0.6500 - val_loss: 0.6533\n",
            "Epoch 11/100\n",
            "\u001b[1m3/3\u001b[0m \u001b[32m━━━━━━━━━━━━━━━━━━━━\u001b[0m\u001b[37m\u001b[0m \u001b[1m0s\u001b[0m 33ms/step - accuracy: 0.4359 - loss: 0.6754 - val_accuracy: 0.6000 - val_loss: 0.6262\n",
            "Epoch 12/100\n",
            "\u001b[1m3/3\u001b[0m \u001b[32m━━━━━━━━━━━━━━━━━━━━\u001b[0m\u001b[37m\u001b[0m \u001b[1m0s\u001b[0m 33ms/step - accuracy: 0.6219 - loss: 0.6518 - val_accuracy: 0.8000 - val_loss: 0.6008\n",
            "Epoch 13/100\n",
            "\u001b[1m3/3\u001b[0m \u001b[32m━━━━━━━━━━━━━━━━━━━━\u001b[0m\u001b[37m\u001b[0m \u001b[1m0s\u001b[0m 34ms/step - accuracy: 0.7367 - loss: 0.6334 - val_accuracy: 0.8500 - val_loss: 0.5772\n",
            "Epoch 14/100\n",
            "\u001b[1m3/3\u001b[0m \u001b[32m━━━━━━━━━━━━━━━━━━━━\u001b[0m\u001b[37m\u001b[0m \u001b[1m0s\u001b[0m 34ms/step - accuracy: 0.7883 - loss: 0.6126 - val_accuracy: 0.9000 - val_loss: 0.5546\n",
            "Epoch 15/100\n",
            "\u001b[1m3/3\u001b[0m \u001b[32m━━━━━━━━━━━━━━━━━━━━\u001b[0m\u001b[37m\u001b[0m \u001b[1m0s\u001b[0m 35ms/step - accuracy: 0.8297 - loss: 0.5796 - val_accuracy: 0.9000 - val_loss: 0.5334\n",
            "Epoch 16/100\n",
            "\u001b[1m3/3\u001b[0m \u001b[32m━━━━━━━━━━━━━━━━━━━━\u001b[0m\u001b[37m\u001b[0m \u001b[1m0s\u001b[0m 42ms/step - accuracy: 0.8188 - loss: 0.5732 - val_accuracy: 0.9000 - val_loss: 0.5143\n",
            "Epoch 17/100\n",
            "\u001b[1m3/3\u001b[0m \u001b[32m━━━━━━━━━━━━━━━━━━━━\u001b[0m\u001b[37m\u001b[0m \u001b[1m0s\u001b[0m 34ms/step - accuracy: 0.8148 - loss: 0.5519 - val_accuracy: 0.9000 - val_loss: 0.4961\n",
            "Epoch 18/100\n",
            "\u001b[1m3/3\u001b[0m \u001b[32m━━━━━━━━━━━━━━━━━━━━\u001b[0m\u001b[37m\u001b[0m \u001b[1m0s\u001b[0m 34ms/step - accuracy: 0.7992 - loss: 0.5474 - val_accuracy: 0.9000 - val_loss: 0.4795\n",
            "Epoch 19/100\n",
            "\u001b[1m3/3\u001b[0m \u001b[32m━━━━━━━━━━━━━━━━━━━━\u001b[0m\u001b[37m\u001b[0m \u001b[1m0s\u001b[0m 36ms/step - accuracy: 0.8445 - loss: 0.5230 - val_accuracy: 0.9000 - val_loss: 0.4639\n",
            "Epoch 20/100\n",
            "\u001b[1m3/3\u001b[0m \u001b[32m━━━━━━━━━━━━━━━━━━━━\u001b[0m\u001b[37m\u001b[0m \u001b[1m0s\u001b[0m 62ms/step - accuracy: 0.8289 - loss: 0.5204 - val_accuracy: 0.9000 - val_loss: 0.4492\n",
            "Epoch 21/100\n",
            "\u001b[1m3/3\u001b[0m \u001b[32m━━━━━━━━━━━━━━━━━━━━\u001b[0m\u001b[37m\u001b[0m \u001b[1m0s\u001b[0m 35ms/step - accuracy: 0.8250 - loss: 0.4986 - val_accuracy: 0.9000 - val_loss: 0.4352\n",
            "Epoch 22/100\n",
            "\u001b[1m3/3\u001b[0m \u001b[32m━━━━━━━━━━━━━━━━━━━━\u001b[0m\u001b[37m\u001b[0m \u001b[1m0s\u001b[0m 35ms/step - accuracy: 0.8211 - loss: 0.4957 - val_accuracy: 0.9000 - val_loss: 0.4220\n",
            "Epoch 23/100\n",
            "\u001b[1m3/3\u001b[0m \u001b[32m━━━━━━━━━━━━━━━━━━━━\u001b[0m\u001b[37m\u001b[0m \u001b[1m0s\u001b[0m 34ms/step - accuracy: 0.8602 - loss: 0.4768 - val_accuracy: 0.9000 - val_loss: 0.4097\n",
            "Epoch 24/100\n",
            "\u001b[1m3/3\u001b[0m \u001b[32m━━━━━━━━━━━━━━━━━━━━\u001b[0m\u001b[37m\u001b[0m \u001b[1m0s\u001b[0m 35ms/step - accuracy: 0.8367 - loss: 0.4752 - val_accuracy: 0.9000 - val_loss: 0.3985\n",
            "Epoch 25/100\n",
            "\u001b[1m3/3\u001b[0m \u001b[32m━━━━━━━━━━━━━━━━━━━━\u001b[0m\u001b[37m\u001b[0m \u001b[1m0s\u001b[0m 36ms/step - accuracy: 0.8469 - loss: 0.4733 - val_accuracy: 0.9000 - val_loss: 0.3884\n",
            "Epoch 26/100\n",
            "\u001b[1m3/3\u001b[0m \u001b[32m━━━━━━━━━━━━━━━━━━━━\u001b[0m\u001b[37m\u001b[0m \u001b[1m0s\u001b[0m 36ms/step - accuracy: 0.8625 - loss: 0.4515 - val_accuracy: 0.9000 - val_loss: 0.3786\n",
            "Epoch 27/100\n",
            "\u001b[1m3/3\u001b[0m \u001b[32m━━━━━━━━━━━━━━━━━━━━\u001b[0m\u001b[37m\u001b[0m \u001b[1m0s\u001b[0m 75ms/step - accuracy: 0.8687 - loss: 0.4453 - val_accuracy: 0.8500 - val_loss: 0.3693\n",
            "Epoch 28/100\n",
            "\u001b[1m3/3\u001b[0m \u001b[32m━━━━━━━━━━━━━━━━━━━━\u001b[0m\u001b[37m\u001b[0m \u001b[1m0s\u001b[0m 36ms/step - accuracy: 0.8430 - loss: 0.4526 - val_accuracy: 0.8500 - val_loss: 0.3607\n",
            "Epoch 29/100\n",
            "\u001b[1m3/3\u001b[0m \u001b[32m━━━━━━━━━━━━━━━━━━━━\u001b[0m\u001b[37m\u001b[0m \u001b[1m0s\u001b[0m 93ms/step - accuracy: 0.8781 - loss: 0.4057 - val_accuracy: 0.8500 - val_loss: 0.3525\n",
            "Epoch 30/100\n",
            "\u001b[1m3/3\u001b[0m \u001b[32m━━━━━━━━━━━━━━━━━━━━\u001b[0m\u001b[37m\u001b[0m \u001b[1m0s\u001b[0m 34ms/step - accuracy: 0.8625 - loss: 0.4280 - val_accuracy: 0.8500 - val_loss: 0.3455\n",
            "Epoch 31/100\n",
            "\u001b[1m3/3\u001b[0m \u001b[32m━━━━━━━━━━━━━━━━━━━━\u001b[0m\u001b[37m\u001b[0m \u001b[1m0s\u001b[0m 34ms/step - accuracy: 0.8586 - loss: 0.4187 - val_accuracy: 0.8500 - val_loss: 0.3388\n",
            "Epoch 32/100\n",
            "\u001b[1m3/3\u001b[0m \u001b[32m━━━━━━━━━━━━━━━━━━━━\u001b[0m\u001b[37m\u001b[0m \u001b[1m0s\u001b[0m 35ms/step - accuracy: 0.8234 - loss: 0.4412 - val_accuracy: 0.8500 - val_loss: 0.3328\n",
            "Epoch 33/100\n",
            "\u001b[1m3/3\u001b[0m \u001b[32m━━━━━━━━━━━━━━━━━━━━\u001b[0m\u001b[37m\u001b[0m \u001b[1m0s\u001b[0m 37ms/step - accuracy: 0.8586 - loss: 0.4059 - val_accuracy: 0.8500 - val_loss: 0.3272\n",
            "Epoch 34/100\n",
            "\u001b[1m3/3\u001b[0m \u001b[32m━━━━━━━━━━━━━━━━━━━━\u001b[0m\u001b[37m\u001b[0m \u001b[1m0s\u001b[0m 37ms/step - accuracy: 0.8508 - loss: 0.4267 - val_accuracy: 0.8500 - val_loss: 0.3219\n",
            "Epoch 35/100\n",
            "\u001b[1m3/3\u001b[0m \u001b[32m━━━━━━━━━━━━━━━━━━━━\u001b[0m\u001b[37m\u001b[0m \u001b[1m0s\u001b[0m 57ms/step - accuracy: 0.8469 - loss: 0.4144 - val_accuracy: 0.8500 - val_loss: 0.3172\n",
            "Epoch 36/100\n",
            "\u001b[1m3/3\u001b[0m \u001b[32m━━━━━━━━━━━━━━━━━━━━\u001b[0m\u001b[37m\u001b[0m \u001b[1m0s\u001b[0m 34ms/step - accuracy: 0.8664 - loss: 0.3948 - val_accuracy: 0.8500 - val_loss: 0.3130\n",
            "Epoch 37/100\n",
            "\u001b[1m3/3\u001b[0m \u001b[32m━━━━━━━━━━━━━━━━━━━━\u001b[0m\u001b[37m\u001b[0m \u001b[1m0s\u001b[0m 34ms/step - accuracy: 0.8586 - loss: 0.3922 - val_accuracy: 0.8500 - val_loss: 0.3090\n",
            "Epoch 38/100\n",
            "\u001b[1m3/3\u001b[0m \u001b[32m━━━━━━━━━━━━━━━━━━━━\u001b[0m\u001b[37m\u001b[0m \u001b[1m0s\u001b[0m 35ms/step - accuracy: 0.8508 - loss: 0.4055 - val_accuracy: 0.8500 - val_loss: 0.3055\n",
            "Epoch 39/100\n",
            "\u001b[1m3/3\u001b[0m \u001b[32m━━━━━━━━━━━━━━━━━━━━\u001b[0m\u001b[37m\u001b[0m \u001b[1m0s\u001b[0m 33ms/step - accuracy: 0.8508 - loss: 0.3921 - val_accuracy: 0.8500 - val_loss: 0.3025\n",
            "Epoch 40/100\n",
            "\u001b[1m3/3\u001b[0m \u001b[32m━━━━━━━━━━━━━━━━━━━━\u001b[0m\u001b[37m\u001b[0m \u001b[1m0s\u001b[0m 86ms/step - accuracy: 0.8469 - loss: 0.4112 - val_accuracy: 0.8500 - val_loss: 0.3000\n",
            "Epoch 41/100\n",
            "\u001b[1m3/3\u001b[0m \u001b[32m━━━━━━━━━━━━━━━━━━━━\u001b[0m\u001b[37m\u001b[0m \u001b[1m0s\u001b[0m 35ms/step - accuracy: 0.8547 - loss: 0.4057 - val_accuracy: 0.8500 - val_loss: 0.2974\n",
            "Epoch 42/100\n",
            "\u001b[1m3/3\u001b[0m \u001b[32m━━━━━━━━━━━━━━━━━━━━\u001b[0m\u001b[37m\u001b[0m \u001b[1m0s\u001b[0m 33ms/step - accuracy: 0.8547 - loss: 0.3816 - val_accuracy: 0.8500 - val_loss: 0.2951\n",
            "Epoch 43/100\n",
            "\u001b[1m3/3\u001b[0m \u001b[32m━━━━━━━━━━━━━━━━━━━━\u001b[0m\u001b[37m\u001b[0m \u001b[1m0s\u001b[0m 42ms/step - accuracy: 0.8430 - loss: 0.4051 - val_accuracy: 0.8500 - val_loss: 0.2933\n",
            "Epoch 44/100\n",
            "\u001b[1m3/3\u001b[0m \u001b[32m━━━━━━━━━━━━━━━━━━━━\u001b[0m\u001b[37m\u001b[0m \u001b[1m0s\u001b[0m 33ms/step - accuracy: 0.8625 - loss: 0.3607 - val_accuracy: 0.8500 - val_loss: 0.2916\n",
            "Epoch 45/100\n",
            "\u001b[1m3/3\u001b[0m \u001b[32m━━━━━━━━━━━━━━━━━━━━\u001b[0m\u001b[37m\u001b[0m \u001b[1m0s\u001b[0m 36ms/step - accuracy: 0.8469 - loss: 0.3996 - val_accuracy: 0.8500 - val_loss: 0.2907\n",
            "Epoch 46/100\n",
            "\u001b[1m3/3\u001b[0m \u001b[32m━━━━━━━━━━━━━━━━━━━━\u001b[0m\u001b[37m\u001b[0m \u001b[1m0s\u001b[0m 59ms/step - accuracy: 0.8625 - loss: 0.3826 - val_accuracy: 0.8500 - val_loss: 0.2897\n",
            "Epoch 47/100\n",
            "\u001b[1m3/3\u001b[0m \u001b[32m━━━━━━━━━━━━━━━━━━━━\u001b[0m\u001b[37m\u001b[0m \u001b[1m0s\u001b[0m 36ms/step - accuracy: 0.8547 - loss: 0.3734 - val_accuracy: 0.8500 - val_loss: 0.2884\n",
            "Epoch 48/100\n",
            "\u001b[1m3/3\u001b[0m \u001b[32m━━━━━━━━━━━━━━━━━━━━\u001b[0m\u001b[37m\u001b[0m \u001b[1m0s\u001b[0m 84ms/step - accuracy: 0.8703 - loss: 0.3501 - val_accuracy: 0.8500 - val_loss: 0.2867\n",
            "Epoch 49/100\n",
            "\u001b[1m3/3\u001b[0m \u001b[32m━━━━━━━━━━━━━━━━━━━━\u001b[0m\u001b[37m\u001b[0m \u001b[1m0s\u001b[0m 35ms/step - accuracy: 0.8195 - loss: 0.4308 - val_accuracy: 0.8500 - val_loss: 0.2856\n",
            "Epoch 50/100\n",
            "\u001b[1m3/3\u001b[0m \u001b[32m━━━━━━━━━━━━━━━━━━━━\u001b[0m\u001b[37m\u001b[0m \u001b[1m0s\u001b[0m 37ms/step - accuracy: 0.8547 - loss: 0.3810 - val_accuracy: 0.8500 - val_loss: 0.2845\n",
            "Epoch 51/100\n",
            "\u001b[1m3/3\u001b[0m \u001b[32m━━━━━━━━━━━━━━━━━━━━\u001b[0m\u001b[37m\u001b[0m \u001b[1m0s\u001b[0m 34ms/step - accuracy: 0.8234 - loss: 0.4282 - val_accuracy: 0.8500 - val_loss: 0.2833\n",
            "Epoch 52/100\n",
            "\u001b[1m3/3\u001b[0m \u001b[32m━━━━━━━━━━━━━━━━━━━━\u001b[0m\u001b[37m\u001b[0m \u001b[1m0s\u001b[0m 34ms/step - accuracy: 0.8586 - loss: 0.3806 - val_accuracy: 0.8500 - val_loss: 0.2818\n",
            "Epoch 53/100\n",
            "\u001b[1m3/3\u001b[0m \u001b[32m━━━━━━━━━━━━━━━━━━━━\u001b[0m\u001b[37m\u001b[0m \u001b[1m0s\u001b[0m 35ms/step - accuracy: 0.8625 - loss: 0.3685 - val_accuracy: 0.8500 - val_loss: 0.2799\n",
            "Epoch 54/100\n",
            "\u001b[1m3/3\u001b[0m \u001b[32m━━━━━━━━━━━━━━━━━━━━\u001b[0m\u001b[37m\u001b[0m \u001b[1m0s\u001b[0m 36ms/step - accuracy: 0.8586 - loss: 0.3677 - val_accuracy: 0.8500 - val_loss: 0.2787\n",
            "Epoch 55/100\n",
            "\u001b[1m3/3\u001b[0m \u001b[32m━━━━━━━━━━━━━━━━━━━━\u001b[0m\u001b[37m\u001b[0m \u001b[1m0s\u001b[0m 37ms/step - accuracy: 0.8352 - loss: 0.3975 - val_accuracy: 0.8500 - val_loss: 0.2780\n",
            "Epoch 56/100\n",
            "\u001b[1m3/3\u001b[0m \u001b[32m━━━━━━━━━━━━━━━━━━━━\u001b[0m\u001b[37m\u001b[0m \u001b[1m0s\u001b[0m 36ms/step - accuracy: 0.8664 - loss: 0.3501 - val_accuracy: 0.8500 - val_loss: 0.2773\n",
            "Epoch 57/100\n",
            "\u001b[1m3/3\u001b[0m \u001b[32m━━━━━━━━━━━━━━━━━━━━\u001b[0m\u001b[37m\u001b[0m \u001b[1m0s\u001b[0m 35ms/step - accuracy: 0.8586 - loss: 0.3671 - val_accuracy: 0.8500 - val_loss: 0.2763\n",
            "Epoch 58/100\n",
            "\u001b[1m3/3\u001b[0m \u001b[32m━━━━━━━━━━━━━━━━━━━━\u001b[0m\u001b[37m\u001b[0m \u001b[1m0s\u001b[0m 36ms/step - accuracy: 0.8781 - loss: 0.3463 - val_accuracy: 0.8500 - val_loss: 0.2756\n",
            "Epoch 59/100\n",
            "\u001b[1m3/3\u001b[0m \u001b[32m━━━━━━━━━━━━━━━━━━━━\u001b[0m\u001b[37m\u001b[0m \u001b[1m0s\u001b[0m 37ms/step - accuracy: 0.8664 - loss: 0.3804 - val_accuracy: 0.8500 - val_loss: 0.2754\n",
            "Epoch 60/100\n",
            "\u001b[1m3/3\u001b[0m \u001b[32m━━━━━━━━━━━━━━━━━━━━\u001b[0m\u001b[37m\u001b[0m \u001b[1m0s\u001b[0m 56ms/step - accuracy: 0.8703 - loss: 0.3624 - val_accuracy: 0.8500 - val_loss: 0.2753\n",
            "Epoch 61/100\n",
            "\u001b[1m3/3\u001b[0m \u001b[32m━━━━━━━━━━━━━━━━━━━━\u001b[0m\u001b[37m\u001b[0m \u001b[1m0s\u001b[0m 77ms/step - accuracy: 0.8586 - loss: 0.3701 - val_accuracy: 0.8500 - val_loss: 0.2759\n",
            "Epoch 62/100\n",
            "\u001b[1m3/3\u001b[0m \u001b[32m━━━━━━━━━━━━━━━━━━━━\u001b[0m\u001b[37m\u001b[0m \u001b[1m0s\u001b[0m 37ms/step - accuracy: 0.8547 - loss: 0.3840 - val_accuracy: 0.8500 - val_loss: 0.2764\n",
            "Epoch 63/100\n",
            "\u001b[1m3/3\u001b[0m \u001b[32m━━━━━━━━━━━━━━━━━━━━\u001b[0m\u001b[37m\u001b[0m \u001b[1m0s\u001b[0m 34ms/step - accuracy: 0.8547 - loss: 0.3869 - val_accuracy: 0.8500 - val_loss: 0.2764\n",
            "Epoch 64/100\n",
            "\u001b[1m3/3\u001b[0m \u001b[32m━━━━━━━━━━━━━━━━━━━━\u001b[0m\u001b[37m\u001b[0m \u001b[1m0s\u001b[0m 35ms/step - accuracy: 0.8547 - loss: 0.3704 - val_accuracy: 0.8500 - val_loss: 0.2765\n",
            "Epoch 65/100\n",
            "\u001b[1m3/3\u001b[0m \u001b[32m━━━━━━━━━━━━━━━━━━━━\u001b[0m\u001b[37m\u001b[0m \u001b[1m0s\u001b[0m 34ms/step - accuracy: 0.8664 - loss: 0.3612 - val_accuracy: 0.8500 - val_loss: 0.2768\n",
            "Epoch 66/100\n",
            "\u001b[1m3/3\u001b[0m \u001b[32m━━━━━━━━━━━━━━━━━━━━\u001b[0m\u001b[37m\u001b[0m \u001b[1m0s\u001b[0m 56ms/step - accuracy: 0.8742 - loss: 0.3665 - val_accuracy: 0.8500 - val_loss: 0.2768\n",
            "Epoch 67/100\n",
            "\u001b[1m3/3\u001b[0m \u001b[32m━━━━━━━━━━━━━━━━━━━━\u001b[0m\u001b[37m\u001b[0m \u001b[1m0s\u001b[0m 34ms/step - accuracy: 0.8625 - loss: 0.3745 - val_accuracy: 0.8500 - val_loss: 0.2769\n",
            "Epoch 68/100\n",
            "\u001b[1m3/3\u001b[0m \u001b[32m━━━━━━━━━━━━━━━━━━━━\u001b[0m\u001b[37m\u001b[0m \u001b[1m0s\u001b[0m 57ms/step - accuracy: 0.8430 - loss: 0.3919 - val_accuracy: 0.8500 - val_loss: 0.2766\n",
            "Epoch 69/100\n",
            "\u001b[1m3/3\u001b[0m \u001b[32m━━━━━━━━━━━━━━━━━━━━\u001b[0m\u001b[37m\u001b[0m \u001b[1m0s\u001b[0m 37ms/step - accuracy: 0.8391 - loss: 0.4149 - val_accuracy: 0.8500 - val_loss: 0.2761\n",
            "Epoch 70/100\n",
            "\u001b[1m3/3\u001b[0m \u001b[32m━━━━━━━━━━━━━━━━━━━━\u001b[0m\u001b[37m\u001b[0m \u001b[1m0s\u001b[0m 34ms/step - accuracy: 0.8352 - loss: 0.3991 - val_accuracy: 0.8500 - val_loss: 0.2754\n",
            "Epoch 71/100\n",
            "\u001b[1m3/3\u001b[0m \u001b[32m━━━━━━━━━━━━━━━━━━━━\u001b[0m\u001b[37m\u001b[0m \u001b[1m0s\u001b[0m 34ms/step - accuracy: 0.8391 - loss: 0.4006 - val_accuracy: 0.8500 - val_loss: 0.2742\n",
            "Epoch 72/100\n",
            "\u001b[1m3/3\u001b[0m \u001b[32m━━━━━━━━━━━━━━━━━━━━\u001b[0m\u001b[37m\u001b[0m \u001b[1m0s\u001b[0m 33ms/step - accuracy: 0.8547 - loss: 0.3758 - val_accuracy: 0.8500 - val_loss: 0.2734\n",
            "Epoch 73/100\n",
            "\u001b[1m3/3\u001b[0m \u001b[32m━━━━━━━━━━━━━━━━━━━━\u001b[0m\u001b[37m\u001b[0m \u001b[1m0s\u001b[0m 34ms/step - accuracy: 0.8586 - loss: 0.3645 - val_accuracy: 0.8500 - val_loss: 0.2723\n",
            "Epoch 74/100\n",
            "\u001b[1m3/3\u001b[0m \u001b[32m━━━━━━━━━━━━━━━━━━━━\u001b[0m\u001b[37m\u001b[0m \u001b[1m0s\u001b[0m 42ms/step - accuracy: 0.8313 - loss: 0.4033 - val_accuracy: 0.8500 - val_loss: 0.2723\n",
            "Epoch 75/100\n",
            "\u001b[1m3/3\u001b[0m \u001b[32m━━━━━━━━━━━━━━━━━━━━\u001b[0m\u001b[37m\u001b[0m \u001b[1m0s\u001b[0m 33ms/step - accuracy: 0.8547 - loss: 0.3815 - val_accuracy: 0.8500 - val_loss: 0.2717\n",
            "Epoch 76/100\n",
            "\u001b[1m3/3\u001b[0m \u001b[32m━━━━━━━━━━━━━━━━━━━━\u001b[0m\u001b[37m\u001b[0m \u001b[1m0s\u001b[0m 77ms/step - accuracy: 0.8352 - loss: 0.3905 - val_accuracy: 0.8500 - val_loss: 0.2713\n",
            "Epoch 77/100\n",
            "\u001b[1m3/3\u001b[0m \u001b[32m━━━━━━━━━━━━━━━━━━━━\u001b[0m\u001b[37m\u001b[0m \u001b[1m0s\u001b[0m 34ms/step - accuracy: 0.8586 - loss: 0.3608 - val_accuracy: 0.8500 - val_loss: 0.2711\n",
            "Epoch 78/100\n",
            "\u001b[1m3/3\u001b[0m \u001b[32m━━━━━━━━━━━━━━━━━━━━\u001b[0m\u001b[37m\u001b[0m \u001b[1m0s\u001b[0m 54ms/step - accuracy: 0.8273 - loss: 0.4068 - val_accuracy: 0.8500 - val_loss: 0.2712\n",
            "Epoch 79/100\n",
            "\u001b[1m3/3\u001b[0m \u001b[32m━━━━━━━━━━━━━━━━━━━━\u001b[0m\u001b[37m\u001b[0m \u001b[1m0s\u001b[0m 55ms/step - accuracy: 0.8531 - loss: 0.3975 - val_accuracy: 0.9000 - val_loss: 0.2708\n",
            "Epoch 80/100\n",
            "\u001b[1m3/3\u001b[0m \u001b[32m━━━━━━━━━━━━━━━━━━━━\u001b[0m\u001b[37m\u001b[0m \u001b[1m0s\u001b[0m 69ms/step - accuracy: 0.8609 - loss: 0.3824 - val_accuracy: 0.9000 - val_loss: 0.2711\n",
            "Epoch 81/100\n",
            "\u001b[1m3/3\u001b[0m \u001b[32m━━━━━━━━━━━━━━━━━━━━\u001b[0m\u001b[37m\u001b[0m \u001b[1m0s\u001b[0m 106ms/step - accuracy: 0.8336 - loss: 0.4259 - val_accuracy: 0.9000 - val_loss: 0.2706\n",
            "Epoch 82/100\n",
            "\u001b[1m3/3\u001b[0m \u001b[32m━━━━━━━━━━━━━━━━━━━━\u001b[0m\u001b[37m\u001b[0m \u001b[1m0s\u001b[0m 64ms/step - accuracy: 0.8922 - loss: 0.3269 - val_accuracy: 0.9000 - val_loss: 0.2698\n",
            "Epoch 83/100\n",
            "\u001b[1m3/3\u001b[0m \u001b[32m━━━━━━━━━━━━━━━━━━━━\u001b[0m\u001b[37m\u001b[0m \u001b[1m0s\u001b[0m 62ms/step - accuracy: 0.8492 - loss: 0.3883 - val_accuracy: 0.9000 - val_loss: 0.2693\n",
            "Epoch 84/100\n",
            "\u001b[1m3/3\u001b[0m \u001b[32m━━━━━━━━━━━━━━━━━━━━\u001b[0m\u001b[37m\u001b[0m \u001b[1m0s\u001b[0m 66ms/step - accuracy: 0.8453 - loss: 0.3996 - val_accuracy: 0.9000 - val_loss: 0.2685\n",
            "Epoch 85/100\n",
            "\u001b[1m3/3\u001b[0m \u001b[32m━━━━━━━━━━━━━━━━━━━━\u001b[0m\u001b[37m\u001b[0m \u001b[1m0s\u001b[0m 50ms/step - accuracy: 0.8805 - loss: 0.3527 - val_accuracy: 0.9000 - val_loss: 0.2686\n",
            "Epoch 86/100\n",
            "\u001b[1m3/3\u001b[0m \u001b[32m━━━━━━━━━━━━━━━━━━━━\u001b[0m\u001b[37m\u001b[0m \u001b[1m0s\u001b[0m 64ms/step - accuracy: 0.8531 - loss: 0.3859 - val_accuracy: 0.9000 - val_loss: 0.2686\n",
            "Epoch 87/100\n",
            "\u001b[1m3/3\u001b[0m \u001b[32m━━━━━━━━━━━━━━━━━━━━\u001b[0m\u001b[37m\u001b[0m \u001b[1m0s\u001b[0m 83ms/step - accuracy: 0.8492 - loss: 0.3917 - val_accuracy: 0.9000 - val_loss: 0.2679\n",
            "Epoch 88/100\n",
            "\u001b[1m3/3\u001b[0m \u001b[32m━━━━━━━━━━━━━━━━━━━━\u001b[0m\u001b[37m\u001b[0m \u001b[1m0s\u001b[0m 88ms/step - accuracy: 0.8570 - loss: 0.3935 - val_accuracy: 0.9000 - val_loss: 0.2676\n",
            "Epoch 89/100\n",
            "\u001b[1m3/3\u001b[0m \u001b[32m━━━━━━━━━━━━━━━━━━━━\u001b[0m\u001b[37m\u001b[0m \u001b[1m0s\u001b[0m 63ms/step - accuracy: 0.8648 - loss: 0.3754 - val_accuracy: 0.9000 - val_loss: 0.2675\n",
            "Epoch 90/100\n",
            "\u001b[1m3/3\u001b[0m \u001b[32m━━━━━━━━━━━━━━━━━━━━\u001b[0m\u001b[37m\u001b[0m \u001b[1m0s\u001b[0m 71ms/step - accuracy: 0.8453 - loss: 0.4090 - val_accuracy: 0.9000 - val_loss: 0.2667\n",
            "Epoch 91/100\n",
            "\u001b[1m3/3\u001b[0m \u001b[32m━━━━━━━━━━━━━━━━━━━━\u001b[0m\u001b[37m\u001b[0m \u001b[1m0s\u001b[0m 68ms/step - accuracy: 0.8766 - loss: 0.3481 - val_accuracy: 0.9000 - val_loss: 0.2651\n",
            "Epoch 92/100\n",
            "\u001b[1m3/3\u001b[0m \u001b[32m━━━━━━━━━━━━━━━━━━━━\u001b[0m\u001b[37m\u001b[0m \u001b[1m0s\u001b[0m 50ms/step - accuracy: 0.8391 - loss: 0.3884 - val_accuracy: 0.8500 - val_loss: 0.2640\n",
            "Epoch 93/100\n",
            "\u001b[1m3/3\u001b[0m \u001b[32m━━━━━━━━━━━━━━━━━━━━\u001b[0m\u001b[37m\u001b[0m \u001b[1m0s\u001b[0m 72ms/step - accuracy: 0.8547 - loss: 0.3802 - val_accuracy: 0.8500 - val_loss: 0.2637\n",
            "Epoch 94/100\n",
            "\u001b[1m3/3\u001b[0m \u001b[32m━━━━━━━━━━━━━━━━━━━━\u001b[0m\u001b[37m\u001b[0m \u001b[1m0s\u001b[0m 54ms/step - accuracy: 0.8469 - loss: 0.3692 - val_accuracy: 0.8500 - val_loss: 0.2640\n",
            "Epoch 95/100\n",
            "\u001b[1m3/3\u001b[0m \u001b[32m━━━━━━━━━━━━━━━━━━━━\u001b[0m\u001b[37m\u001b[0m \u001b[1m0s\u001b[0m 92ms/step - accuracy: 0.8664 - loss: 0.3381 - val_accuracy: 0.8500 - val_loss: 0.2643\n",
            "Epoch 96/100\n",
            "\u001b[1m3/3\u001b[0m \u001b[32m━━━━━━━━━━━━━━━━━━━━\u001b[0m\u001b[37m\u001b[0m \u001b[1m0s\u001b[0m 37ms/step - accuracy: 0.8414 - loss: 0.3987 - val_accuracy: 0.8500 - val_loss: 0.2644\n",
            "Epoch 97/100\n",
            "\u001b[1m3/3\u001b[0m \u001b[32m━━━━━━━━━━━━━━━━━━━━\u001b[0m\u001b[37m\u001b[0m \u001b[1m0s\u001b[0m 34ms/step - accuracy: 0.8492 - loss: 0.3981 - val_accuracy: 0.8500 - val_loss: 0.2638\n",
            "Epoch 98/100\n",
            "\u001b[1m3/3\u001b[0m \u001b[32m━━━━━━━━━━━━━━━━━━━━\u001b[0m\u001b[37m\u001b[0m \u001b[1m0s\u001b[0m 34ms/step - accuracy: 0.8570 - loss: 0.4001 - val_accuracy: 0.9000 - val_loss: 0.2638\n",
            "Epoch 99/100\n",
            "\u001b[1m3/3\u001b[0m \u001b[32m━━━━━━━━━━━━━━━━━━━━\u001b[0m\u001b[37m\u001b[0m \u001b[1m0s\u001b[0m 33ms/step - accuracy: 0.8727 - loss: 0.3600 - val_accuracy: 0.9000 - val_loss: 0.2630\n",
            "Epoch 100/100\n",
            "\u001b[1m3/3\u001b[0m \u001b[32m━━━━━━━━━━━━━━━━━━━━\u001b[0m\u001b[37m\u001b[0m \u001b[1m0s\u001b[0m 35ms/step - accuracy: 0.8570 - loss: 0.3572 - val_accuracy: 0.9000 - val_loss: 0.2623\n"
          ]
        }
      ]
    },
    {
      "cell_type": "code",
      "source": [
        "# Get the weights of the model after training\n",
        "model.get_weights()"
      ],
      "metadata": {
        "colab": {
          "base_uri": "https://localhost:8080/"
        },
        "id": "LK4RWsWC_XfQ",
        "outputId": "6d9cebea-ed91-41d2-9e74-8c5d36dc5fc4"
      },
      "execution_count": 40,
      "outputs": [
        {
          "output_type": "execute_result",
          "data": {
            "text/plain": [
              "[array([[ 0.76151377, -0.58291966, -0.3606531 , -0.68491507,  0.8412061 ,\n",
              "         -0.7010643 , -0.15465102,  0.80024   , -0.99440604, -0.00230754],\n",
              "        [-1.2377652 , -1.0511975 , -0.16165693,  2.16267   , -1.3876023 ,\n",
              "          1.2744926 , -0.3158487 ,  0.0043159 , -0.40330142,  0.0303804 ]],\n",
              "       dtype=float32),\n",
              " array([ 0.00434804, -0.00462707, -0.09527285,  0.0573898 , -0.13026923,\n",
              "         0.05626001, -0.10977995,  0.09963761, -0.23124133, -0.04174134],\n",
              "       dtype=float32),\n",
              " array([[-0.51899123, -0.11474112, -0.18193841, -0.5643209 ,  0.04929714,\n",
              "         -0.01843106,  0.2742521 , -0.35527223,  0.03217969, -0.20312013],\n",
              "        [ 0.35064858,  0.2525464 , -0.5403671 ,  0.5695027 ,  0.2008324 ,\n",
              "          0.18962894,  0.082256  ,  0.11312144, -0.56949717, -0.3431103 ],\n",
              "        [ 0.43872884, -0.19003238,  0.03175612,  0.237945  , -0.10804172,\n",
              "         -0.33772355,  0.22517847,  0.01425319, -0.3734054 ,  0.11305267],\n",
              "        [-0.10841204, -0.05575546,  0.5711731 , -0.7067327 ,  0.04583752,\n",
              "         -0.40190452, -0.24004403,  0.37524873, -0.17655003,  0.09189004],\n",
              "        [-0.05405807, -0.05688609,  0.5989519 ,  0.1785423 ,  0.1824307 ,\n",
              "          0.5120567 ,  0.57475805, -0.09428911,  0.32080004, -0.13623436],\n",
              "        [-0.2896022 ,  0.12424749,  0.25801864, -0.23039265,  0.4123556 ,\n",
              "         -0.15360384,  0.5169142 , -0.12505448, -0.55487084,  0.09467064],\n",
              "        [ 0.05386056,  0.18255597, -0.05187562,  0.4565069 ,  0.14852643,\n",
              "         -0.17823969, -0.3035046 , -0.3484807 ,  0.16044156, -0.32003322],\n",
              "        [-0.25060636,  0.2817369 , -0.00351395, -0.3144861 ,  0.58643657,\n",
              "         -0.36193094, -0.3087382 ,  0.09667196, -0.40081662,  0.23743965],\n",
              "        [ 0.17876065, -0.26458368,  0.09891061,  0.46281323, -0.5901113 ,\n",
              "          0.02916367,  0.15657832,  0.02792975, -0.2225814 ,  0.43659458],\n",
              "        [ 0.45740297,  0.03451093,  0.1037764 , -0.11962996, -0.4427673 ,\n",
              "         -0.02725607,  0.21991913,  0.07833418, -0.07607897, -0.5502049 ]],\n",
              "       dtype=float32),\n",
              " array([-0.07011959,  0.02088547, -0.0883692 , -0.11671689,  0.18847112,\n",
              "         0.02342696,  0.06288998,  0.00886928, -0.0121337 , -0.0237355 ],\n",
              "       dtype=float32),\n",
              " array([[ 0.092957  , -0.34227437,  0.3273456 , -0.263118  , -0.16174619,\n",
              "          0.21505873, -0.52907956,  0.5875128 , -0.11838897,  0.6683055 ],\n",
              "        [ 0.17345144,  0.07323061,  0.04689073, -0.10459646, -0.3628224 ,\n",
              "          0.19334337,  0.26513574, -0.07174271,  0.00611303,  0.1899869 ],\n",
              "        [-0.14849685,  0.20463338,  0.18353888,  0.13310635,  0.49911574,\n",
              "          0.14027749,  0.51100254,  0.40671852, -0.27023822,  0.5048067 ],\n",
              "        [ 0.37362912, -0.21972436,  0.37188283, -0.00130354, -0.8444154 ,\n",
              "          0.03736645,  0.4737807 , -0.31190076,  0.41143322, -0.12129177],\n",
              "        [ 0.10048807,  0.21835119, -0.46330243, -0.36531836, -0.5587792 ,\n",
              "          0.21911626, -0.24462423,  0.35100627,  0.11910354,  0.41489238],\n",
              "        [ 0.15152891,  0.11733731,  0.1166697 , -0.13591525, -0.2241062 ,\n",
              "         -0.30704644, -0.35504803, -0.23601429, -0.22783308, -0.00247529],\n",
              "        [-0.09262899,  0.0487853 , -0.25874764,  0.3188204 , -0.12206462,\n",
              "         -0.41681203, -0.4860379 ,  0.16787826,  0.35969758, -0.15696849],\n",
              "        [ 0.46508   , -0.18955597,  0.09492151, -0.37155944, -0.0415084 ,\n",
              "          0.9264564 ,  0.01803114, -0.5092626 ,  0.12363962,  0.27801389],\n",
              "        [-0.10131797, -0.5409358 ,  0.01844052, -0.15236863,  0.25570327,\n",
              "         -0.05776558, -0.00916839, -0.14452015,  0.5062358 , -0.32110885],\n",
              "        [-0.03893697,  0.34482044,  0.1035741 ,  0.23963235,  0.15287203,\n",
              "          0.57318014,  0.54171425,  0.03270607,  0.12019331, -0.0488332 ]],\n",
              "       dtype=float32),\n",
              " array([-0.02807778,  0.04247998, -0.04635278, -0.00821322, -0.08501567,\n",
              "         0.0037174 , -0.06301533,  0.02285938, -0.03102189,  0.04032899],\n",
              "       dtype=float32),\n",
              " array([[-0.04297872, -0.2378765 ,  0.13866033,  0.056508  ,  0.442709  ,\n",
              "         -0.45866203,  0.2746835 , -0.19771552,  0.18509492,  0.04685772],\n",
              "        [-0.09083552,  0.34470743, -0.2508614 ,  0.02325056, -0.23006317,\n",
              "          0.12674442,  0.06448351, -0.55286896,  0.08444289,  0.3083256 ],\n",
              "        [ 0.1447329 ,  0.29275993, -0.51153487, -0.41579783,  0.24476291,\n",
              "         -0.35208362,  0.12938571,  0.08833475,  0.02524413, -0.12282435],\n",
              "        [-0.03886409,  0.43214884, -0.32525826,  0.13512251, -0.01920156,\n",
              "          0.16760096,  0.10908036,  0.8143164 , -0.31143048, -0.01426866],\n",
              "        [ 0.02505986, -0.05135316, -0.20407721, -0.5046903 , -0.08289352,\n",
              "         -0.4614973 , -0.18405145,  0.03668807,  0.1559846 , -0.4770706 ],\n",
              "        [-0.8352337 , -0.00984868, -0.2880071 , -0.2271742 ,  0.818152  ,\n",
              "         -0.41964105,  0.02677808,  0.26376146,  0.1472677 ,  0.05734499],\n",
              "        [-0.36330605,  0.21394016, -0.38559   ,  0.15282202,  0.5695499 ,\n",
              "         -0.05296096,  0.47686508,  0.25808978,  0.26733297,  0.23700891],\n",
              "        [-0.10839408,  0.16677234,  0.3198845 , -0.11083986, -0.12613524,\n",
              "         -0.22652897,  0.30683768, -0.04041357, -0.12235874,  0.05060019],\n",
              "        [-0.26894617,  0.09455085,  0.20232391,  0.32975104,  0.31136376,\n",
              "         -0.00646682,  0.01575461, -0.23672938,  0.38754472, -0.04524567],\n",
              "        [-0.15281662,  0.36615774,  0.25634733, -0.46484345,  0.02311588,\n",
              "         -0.18884782,  0.1748781 ,  0.25777787,  0.13711584, -0.1227299 ]],\n",
              "       dtype=float32),\n",
              " array([ 0.01623659,  0.0146867 ,  0.01182887, -0.03628321,  0.0209446 ,\n",
              "        -0.03074819, -0.00035397,  0.0256782 ,  0.00037542,  0.00913941],\n",
              "       dtype=float32),\n",
              " array([[ 0.46212023],\n",
              "        [-0.41081727],\n",
              "        [ 0.16338937],\n",
              "        [ 0.64706707],\n",
              "        [-0.8059238 ],\n",
              "        [ 0.47044435],\n",
              "        [-0.10690496],\n",
              "        [-0.353627  ],\n",
              "        [-0.69899976],\n",
              "        [ 0.29360813]], dtype=float32),\n",
              " array([-0.00327575], dtype=float32)]"
            ]
          },
          "metadata": {},
          "execution_count": 40
        }
      ]
    },
    {
      "cell_type": "code",
      "source": [
        "# Import the plot_decision_regions function from mlxtend\n",
        "from mlxtend.plotting import plot_decision_regions\n",
        "# Plot the decision boundary of the trained model\n",
        "# x: features, y: target variable (converted to integer type), clf: the trained model, legend: display the legend\n",
        "plot_decision_regions(x, y.astype('int') ,clf=model, legend=2)\n",
        "# Show the plot\n",
        "plt.show()"
      ],
      "metadata": {
        "colab": {
          "base_uri": "https://localhost:8080/",
          "height": 448
        },
        "id": "EPPC9Z0v_epV",
        "outputId": "e41a18b7-c33b-4e48-984a-ae10099dd641"
      },
      "execution_count": 41,
      "outputs": [
        {
          "output_type": "stream",
          "name": "stdout",
          "text": [
            "\u001b[1m9600/9600\u001b[0m \u001b[32m━━━━━━━━━━━━━━━━━━━━\u001b[0m\u001b[37m\u001b[0m \u001b[1m12s\u001b[0m 1ms/step\n"
          ]
        },
        {
          "output_type": "display_data",
          "data": {
            "text/plain": [
              "<Figure size 640x480 with 1 Axes>"
            ],
            "image/png": "[encoded data removed]"
          },
          "metadata": {}
        }
      ]
    },
    {
      "cell_type": "code",
      "source": [
        "# Import necessary libraries for building a new neural network model\n",
        "import tensorflow\n",
        "from tensorflow import keras\n",
        "from keras import Sequential\n",
        "from keras.layers import Dense"
      ],
      "metadata": {
        "id": "XMuMsYmG_TJ-"
      },
      "execution_count": 42,
      "outputs": []
    },
    {
      "cell_type": "code",
      "source": [
        "# Create a new Sequential model\n",
        "model = Sequential()\n",
        "\n",
        "# Add Dense layers with 'relu' activation and 'he_normal' kernel initializer\n",
        "# 'he_normal' is a good initializer for layers using 'relu' activation\n",
        "model.add(Dense(10, activation='relu', input_dim=2, kernel_initializer='he_normal')) # 'he_uniform'/'he_normal'\n",
        "model.add(Dense(10, activation='relu', kernel_initializer='he_normal'))\n",
        "model.add(Dense(10, activation='relu', kernel_initializer='he_normal'))\n",
        "model.add(Dense(10, activation='relu', kernel_initializer='he_normal'))\n",
        "\n",
        "# Add the output layer with 1 neuron and 'sigmoid' activation for binary classification\n",
        "model.add(Dense(1, activation='sigmoid'))\n",
        "\n",
        "# Display a summary of the new model's architecture\n",
        "model.summary()"
      ],
      "metadata": {
        "colab": {
          "base_uri": "https://localhost:8080/",
          "height": 345
        },
        "id": "5SVTGC4E-jgD",
        "outputId": "b6249611-71aa-4919-e8a9-8a3b84c1c427"
      },
      "execution_count": 43,
      "outputs": [
        {
          "output_type": "stream",
          "name": "stderr",
          "text": [
            "/usr/local/lib/python3.11/dist-packages/keras/src/layers/core/dense.py:87: UserWarning: Do not pass an `input_shape`/`input_dim` argument to a layer. When using Sequential models, prefer using an `Input(shape)` object as the first layer in the model instead.\n",
            "  super().__init__(activity_regularizer=activity_regularizer, **kwargs)\n"
          ]
        },
        {
          "output_type": "display_data",
          "data": {
            "text/plain": [
              "\u001b[1mModel: \"sequential_3\"\u001b[0m\n"
            ],
            "text/html": [
              "<pre style=\"white-space:pre;overflow-x:auto;line-height:normal;font-family:Menlo,'DejaVu Sans Mono',consolas,'Courier New',monospace\"><span style=\"font-weight: bold\">Model: \"sequential_3\"</span>\n",
              "</pre>\n"
            ]
          },
          "metadata": {}
        },
        {
          "output_type": "display_data",
          "data": {
            "text/plain": [
              "┏━━━━━━━━━━━━━━━━━━━━━━━━━━━━━━━━━┳━━━━━━━━━━━━━━━━━━━━━━━━┳━━━━━━━━━━━━━━━┓\n",
              "┃\u001b[1m \u001b[0m\u001b[1mLayer (type)                   \u001b[0m\u001b[1m \u001b[0m┃\u001b[1m \u001b[0m\u001b[1mOutput Shape          \u001b[0m\u001b[1m \u001b[0m┃\u001b[1m \u001b[0m\u001b[1m      Param #\u001b[0m\u001b[1m \u001b[0m┃\n",
              "┡━━━━━━━━━━━━━━━━━━━━━━━━━━━━━━━━━╇━━━━━━━━━━━━━━━━━━━━━━━━╇━━━━━━━━━━━━━━━┩\n",
              "│ dense_15 (\u001b[38;5;33mDense\u001b[0m)                │ (\u001b[38;5;45mNone\u001b[0m, \u001b[38;5;34m10\u001b[0m)             │            \u001b[38;5;34m30\u001b[0m │\n",
              "├─────────────────────────────────┼────────────────────────┼───────────────┤\n",
              "│ dense_16 (\u001b[38;5;33mDense\u001b[0m)                │ (\u001b[38;5;45mNone\u001b[0m, \u001b[38;5;34m10\u001b[0m)             │           \u001b[38;5;34m110\u001b[0m │\n",
              "├─────────────────────────────────┼────────────────────────┼───────────────┤\n",
              "│ dense_17 (\u001b[38;5;33mDense\u001b[0m)                │ (\u001b[38;5;45mNone\u001b[0m, \u001b[38;5;34m10\u001b[0m)             │           \u001b[38;5;34m110\u001b[0m │\n",
              "├─────────────────────────────────┼────────────────────────┼───────────────┤\n",
              "│ dense_18 (\u001b[38;5;33mDense\u001b[0m)                │ (\u001b[38;5;45mNone\u001b[0m, \u001b[38;5;34m10\u001b[0m)             │           \u001b[38;5;34m110\u001b[0m │\n",
              "├─────────────────────────────────┼────────────────────────┼───────────────┤\n",
              "│ dense_19 (\u001b[38;5;33mDense\u001b[0m)                │ (\u001b[38;5;45mNone\u001b[0m, \u001b[38;5;34m1\u001b[0m)              │            \u001b[38;5;34m11\u001b[0m │\n",
              "└─────────────────────────────────┴────────────────────────┴───────────────┘\n"
            ],
            "text/html": [
              "<pre style=\"white-space:pre;overflow-x:auto;line-height:normal;font-family:Menlo,'DejaVu Sans Mono',consolas,'Courier New',monospace\">┏━━━━━━━━━━━━━━━━━━━━━━━━━━━━━━━━━┳━━━━━━━━━━━━━━━━━━━━━━━━┳━━━━━━━━━━━━━━━┓\n",
              "┃<span style=\"font-weight: bold\"> Layer (type)                    </span>┃<span style=\"font-weight: bold\"> Output Shape           </span>┃<span style=\"font-weight: bold\">       Param # </span>┃\n",
              "┡━━━━━━━━━━━━━━━━━━━━━━━━━━━━━━━━━╇━━━━━━━━━━━━━━━━━━━━━━━━╇━━━━━━━━━━━━━━━┩\n",
              "│ dense_15 (<span style=\"color: #0087ff; text-decoration-color: #0087ff\">Dense</span>)                │ (<span style=\"color: #00d7ff; text-decoration-color: #00d7ff\">None</span>, <span style=\"color: #00af00; text-decoration-color: #00af00\">10</span>)             │            <span style=\"color: #00af00; text-decoration-color: #00af00\">30</span> │\n",
              "├─────────────────────────────────┼────────────────────────┼───────────────┤\n",
              "│ dense_16 (<span style=\"color: #0087ff; text-decoration-color: #0087ff\">Dense</span>)                │ (<span style=\"color: #00d7ff; text-decoration-color: #00d7ff\">None</span>, <span style=\"color: #00af00; text-decoration-color: #00af00\">10</span>)             │           <span style=\"color: #00af00; text-decoration-color: #00af00\">110</span> │\n",
              "├─────────────────────────────────┼────────────────────────┼───────────────┤\n",
              "│ dense_17 (<span style=\"color: #0087ff; text-decoration-color: #0087ff\">Dense</span>)                │ (<span style=\"color: #00d7ff; text-decoration-color: #00d7ff\">None</span>, <span style=\"color: #00af00; text-decoration-color: #00af00\">10</span>)             │           <span style=\"color: #00af00; text-decoration-color: #00af00\">110</span> │\n",
              "├─────────────────────────────────┼────────────────────────┼───────────────┤\n",
              "│ dense_18 (<span style=\"color: #0087ff; text-decoration-color: #0087ff\">Dense</span>)                │ (<span style=\"color: #00d7ff; text-decoration-color: #00d7ff\">None</span>, <span style=\"color: #00af00; text-decoration-color: #00af00\">10</span>)             │           <span style=\"color: #00af00; text-decoration-color: #00af00\">110</span> │\n",
              "├─────────────────────────────────┼────────────────────────┼───────────────┤\n",
              "│ dense_19 (<span style=\"color: #0087ff; text-decoration-color: #0087ff\">Dense</span>)                │ (<span style=\"color: #00d7ff; text-decoration-color: #00d7ff\">None</span>, <span style=\"color: #00af00; text-decoration-color: #00af00\">1</span>)              │            <span style=\"color: #00af00; text-decoration-color: #00af00\">11</span> │\n",
              "└─────────────────────────────────┴────────────────────────┴───────────────┘\n",
              "</pre>\n"
            ]
          },
          "metadata": {}
        },
        {
          "output_type": "display_data",
          "data": {
            "text/plain": [
              "\u001b[1m Total params: \u001b[0m\u001b[38;5;34m371\u001b[0m (1.45 KB)\n"
            ],
            "text/html": [
              "<pre style=\"white-space:pre;overflow-x:auto;line-height:normal;font-family:Menlo,'DejaVu Sans Mono',consolas,'Courier New',monospace\"><span style=\"font-weight: bold\"> Total params: </span><span style=\"color: #00af00; text-decoration-color: #00af00\">371</span> (1.45 KB)\n",
              "</pre>\n"
            ]
          },
          "metadata": {}
        },
        {
          "output_type": "display_data",
          "data": {
            "text/plain": [
              "\u001b[1m Trainable params: \u001b[0m\u001b[38;5;34m371\u001b[0m (1.45 KB)\n"
            ],
            "text/html": [
              "<pre style=\"white-space:pre;overflow-x:auto;line-height:normal;font-family:Menlo,'DejaVu Sans Mono',consolas,'Courier New',monospace\"><span style=\"font-weight: bold\"> Trainable params: </span><span style=\"color: #00af00; text-decoration-color: #00af00\">371</span> (1.45 KB)\n",
              "</pre>\n"
            ]
          },
          "metadata": {}
        },
        {
          "output_type": "display_data",
          "data": {
            "text/plain": [
              "\u001b[1m Non-trainable params: \u001b[0m\u001b[38;5;34m0\u001b[0m (0.00 B)\n"
            ],
            "text/html": [
              "<pre style=\"white-space:pre;overflow-x:auto;line-height:normal;font-family:Menlo,'DejaVu Sans Mono',consolas,'Courier New',monospace\"><span style=\"font-weight: bold\"> Non-trainable params: </span><span style=\"color: #00af00; text-decoration-color: #00af00\">0</span> (0.00 B)\n",
              "</pre>\n"
            ]
          },
          "metadata": {}
        }
      ]
    },
    {
      "cell_type": "code",
      "source": [
        "# Get the initial weights of the new model's layers\n",
        "model.get_weights()"
      ],
      "metadata": {
        "colab": {
          "base_uri": "https://localhost:8080/"
        },
        "id": "rSK6E_LT-p_m",
        "outputId": "f20d82ab-fdba-439b-e764-50d05a3b7f6d"
      },
      "execution_count": 44,
      "outputs": [
        {
          "output_type": "execute_result",
          "data": {
            "text/plain": [
              "[array([[ 0.3619223 , -1.4583393 ,  0.86811656,  0.17106889, -0.6272249 ,\n",
              "         -0.92528975, -0.9089004 , -1.1744927 ,  0.31119642, -0.3346246 ],\n",
              "        [-0.01894847, -0.01098954,  0.58393806, -0.8739393 ,  2.0416484 ,\n",
              "         -0.64592135, -2.1981244 , -0.95801485, -0.45234635, -0.85958606]],\n",
              "       dtype=float32),\n",
              " array([0., 0., 0., 0., 0., 0., 0., 0., 0., 0.], dtype=float32),\n",
              " array([[ 0.47068477, -0.03980139,  0.06477121,  0.4718088 ,  0.52931666,\n",
              "          0.21830083, -0.18904987,  0.70236444,  0.3745935 ,  0.3440217 ],\n",
              "        [ 0.24578844, -0.46562538,  0.3695121 , -0.25788426, -0.40088773,\n",
              "          0.43570536,  0.13774373, -0.21307248,  0.20897955,  0.1077375 ],\n",
              "        [ 0.8206099 ,  0.17941129, -0.6436906 , -0.0042659 ,  0.15746541,\n",
              "          0.06994416, -0.00634162,  0.4358757 ,  0.07422632, -0.33509365],\n",
              "        [ 0.62092775, -0.21569373, -0.34669068,  0.3130298 , -0.02494654,\n",
              "         -1.0142905 ,  0.16746604, -0.38264713, -0.6625224 ,  0.5372772 ],\n",
              "        [ 0.7534454 , -0.1598358 , -0.00563082, -0.23872413, -0.446566  ,\n",
              "          0.38700572, -0.24274196,  0.93863446,  0.7962523 ,  0.51353   ],\n",
              "        [ 0.15441911, -0.6360796 ,  0.612219  ,  0.1608274 ,  0.32993177,\n",
              "          0.56386286,  0.77990574,  0.52119917,  0.46908027,  0.31740615],\n",
              "        [ 0.08604699, -0.8697554 ,  0.5534271 ,  0.49067667,  0.3460241 ,\n",
              "          0.15310043,  0.31164685,  0.78219354, -0.86058915, -0.01183144],\n",
              "        [ 0.18186048,  0.06538511,  0.6455901 ,  0.44532606,  0.11415968,\n",
              "         -0.32699314,  0.77509856,  0.28047433,  0.21893904, -0.67594594],\n",
              "        [ 0.07525165, -0.17678924, -0.28840688, -0.24329758,  0.22607906,\n",
              "         -0.31541744,  0.44009653,  0.30816567, -0.0557529 ,  0.798651  ],\n",
              "        [-0.4096416 ,  0.945117  ,  0.3364832 , -0.24272752,  0.658336  ,\n",
              "          0.5965795 ,  0.00989343,  0.04848209,  0.13111314, -0.97241616]],\n",
              "       dtype=float32),\n",
              " array([0., 0., 0., 0., 0., 0., 0., 0., 0., 0.], dtype=float32),\n",
              " array([[-9.28531408e-01,  3.04376662e-01, -8.33562374e-01,\n",
              "         -8.75059441e-02,  5.85661530e-01, -2.50122100e-01,\n",
              "         -3.45630020e-01,  4.43284772e-02, -5.96314609e-01,\n",
              "         -1.59752712e-01],\n",
              "        [ 1.06014915e-01,  2.13479176e-01, -3.03280503e-01,\n",
              "          2.30263025e-01,  2.01688021e-01, -1.59156412e-01,\n",
              "          1.87614784e-01, -1.40191182e-01,  9.40885365e-01,\n",
              "          8.14409971e-01],\n",
              "        [-2.66311675e-01,  6.51977241e-01, -3.12306017e-01,\n",
              "          1.76124364e-01,  6.88849509e-01, -4.75758046e-01,\n",
              "         -3.17850381e-01, -4.99116302e-01, -1.86241433e-01,\n",
              "          1.43731311e-01],\n",
              "        [-1.04740888e-01, -9.15009901e-03, -4.97765355e-02,\n",
              "          3.98423284e-01, -6.81559920e-01,  9.98370200e-02,\n",
              "         -5.71356574e-03, -5.99296927e-01,  2.57588953e-01,\n",
              "          1.05066657e-01],\n",
              "        [-4.49971706e-01, -7.69148052e-01, -3.65564018e-01,\n",
              "         -1.10042818e-01,  9.40157652e-01, -6.02376521e-01,\n",
              "          3.34574848e-01, -2.97366947e-01, -7.81005831e-04,\n",
              "         -5.11171341e-01],\n",
              "        [ 7.12254167e-01,  7.96359062e-01,  4.99557734e-01,\n",
              "          9.31109428e-01,  2.11918935e-01, -4.51761223e-02,\n",
              "          1.82363197e-01, -1.72510017e-02,  9.90001857e-01,\n",
              "         -3.29207897e-01],\n",
              "        [-4.74158943e-01, -7.47538954e-02,  3.22079062e-01,\n",
              "         -5.86415827e-01,  5.19716859e-01, -5.06189764e-01,\n",
              "          7.33768195e-02,  3.44765425e-01,  1.72723815e-01,\n",
              "          3.21367860e-01],\n",
              "        [-4.30475874e-03, -5.61077297e-01, -4.02701706e-01,\n",
              "          2.84123480e-01,  1.14100836e-01, -1.57188494e-02,\n",
              "         -2.86024306e-02, -1.81901574e-01, -3.77172798e-01,\n",
              "         -3.63920070e-02],\n",
              "        [ 5.72020113e-01,  1.07260495e-01, -3.29194695e-01,\n",
              "         -3.25729966e-01,  7.67315388e-01, -1.51225328e-02,\n",
              "          6.04674876e-01,  5.27823865e-01,  7.60814965e-01,\n",
              "         -8.98057342e-01],\n",
              "        [ 6.15581200e-02,  8.68905187e-01, -1.61458641e-01,\n",
              "         -8.69005173e-02,  1.30473033e-01,  5.39132476e-01,\n",
              "          2.31383726e-01, -3.26058306e-02, -5.35794616e-01,\n",
              "          1.84501648e-01]], dtype=float32),\n",
              " array([0., 0., 0., 0., 0., 0., 0., 0., 0., 0.], dtype=float32),\n",
              " array([[-6.89395010e-01,  5.23032308e-01,  4.45673168e-02,\n",
              "         -9.08655286e-01, -6.32535815e-01, -4.93098795e-01,\n",
              "          8.99573922e-01, -2.85188287e-01, -3.64890903e-01,\n",
              "          3.24954577e-02],\n",
              "        [ 5.30817471e-02, -3.93284202e-01,  3.87601972e-01,\n",
              "          1.64324537e-01, -2.53311098e-01,  2.06215799e-01,\n",
              "         -2.26123735e-01, -7.37398982e-01, -3.48531246e-01,\n",
              "         -5.89076392e-02],\n",
              "        [-1.08369716e-01,  2.57206082e-01,  1.68566614e-01,\n",
              "          1.52626097e-01,  1.80852816e-01,  9.01985168e-01,\n",
              "         -2.93082923e-01,  1.84070081e-01, -4.47183579e-01,\n",
              "         -6.90839589e-01],\n",
              "        [-7.90481120e-02,  1.94943503e-01,  1.57544747e-01,\n",
              "          8.22121739e-01, -2.35007659e-01,  8.69178474e-01,\n",
              "         -9.63823572e-02, -2.64604747e-01, -6.27976060e-02,\n",
              "          8.19212496e-01],\n",
              "        [-6.04169443e-02,  8.42467904e-01,  2.45363832e-01,\n",
              "          5.76435030e-01,  4.34434384e-01, -7.56874204e-01,\n",
              "         -3.91375393e-01, -1.96996361e-01,  1.95405364e-01,\n",
              "          9.66566265e-01],\n",
              "        [-5.07839859e-01,  2.56411195e-01,  1.62903070e-01,\n",
              "         -2.19918475e-01,  1.05291843e-01,  2.45468333e-01,\n",
              "         -5.94436586e-01, -9.90869030e-02, -2.14189112e-01,\n",
              "         -1.00330520e+00],\n",
              "        [ 1.08446628e-01, -2.22081199e-01, -3.60179514e-01,\n",
              "          3.36893834e-02,  2.00471729e-01, -6.26478672e-01,\n",
              "         -7.69046485e-01,  3.45329940e-01, -3.67968380e-01,\n",
              "         -3.61767888e-01],\n",
              "        [ 1.32732168e-01, -2.94634253e-01, -1.41456112e-01,\n",
              "         -3.89624953e-01,  2.43473858e-01, -6.87269032e-01,\n",
              "          2.01617986e-01, -3.19225252e-01, -5.58276832e-01,\n",
              "         -2.72985965e-01],\n",
              "        [ 3.93752635e-01, -7.97885656e-03,  3.25407058e-01,\n",
              "         -8.43230426e-01,  1.75278503e-02, -5.23040593e-01,\n",
              "          3.05770785e-01, -4.78685111e-01, -6.61403000e-01,\n",
              "         -2.32414603e-01],\n",
              "        [-8.42303157e-01,  3.93146455e-01,  3.42280895e-01,\n",
              "         -3.83278268e-04, -8.49150598e-01,  8.70759130e-01,\n",
              "         -4.32347879e-02,  4.54878807e-01,  2.09991671e-02,\n",
              "          6.58526838e-01]], dtype=float32),\n",
              " array([0., 0., 0., 0., 0., 0., 0., 0., 0., 0.], dtype=float32),\n",
              " array([[ 0.0156334 ],\n",
              "        [-0.5363477 ],\n",
              "        [ 0.59533244],\n",
              "        [ 0.37266988],\n",
              "        [-0.18053287],\n",
              "        [-0.03385812],\n",
              "        [ 0.2644543 ],\n",
              "        [-0.46377563],\n",
              "        [-0.65895855],\n",
              "        [ 0.47694653]], dtype=float32),\n",
              " array([0.], dtype=float32)]"
            ]
          },
          "metadata": {},
          "execution_count": 44
        }
      ]
    },
    {
      "cell_type": "code",
      "source": [
        "# Compile the new model\n",
        "# Use 'binary_crossentropy' as the loss function\n",
        "# Use 'Adam' as the optimizer\n",
        "# Track 'accuracy' as a metric\n",
        "model.compile(loss='binary_crossentropy', optimizer='Adam', metrics=['accuracy'])"
      ],
      "metadata": {
        "id": "sIYLM79E_Akt"
      },
      "execution_count": 45,
      "outputs": []
    },
    {
      "cell_type": "code",
      "source": [
        "# Train the new model using the training data (x, y)\n",
        "# Train for 100 epochs\n",
        "# Use 20% of the data for validation\n",
        "history = model.fit(x,y, epochs=100, validation_split=0.2)"
      ],
      "metadata": {
        "colab": {
          "base_uri": "https://localhost:8080/"
        },
        "id": "dv1iGq_m_FLH",
        "outputId": "883c8181-c877-4e23-a203-2ab347bef789"
      },
      "execution_count": 46,
      "outputs": [
        {
          "output_type": "stream",
          "name": "stdout",
          "text": [
            "Epoch 1/100\n",
            "\u001b[1m3/3\u001b[0m \u001b[32m━━━━━━━━━━━━━━━━━━━━\u001b[0m\u001b[37m\u001b[0m \u001b[1m2s\u001b[0m 141ms/step - accuracy: 0.5000 - loss: 1.1004 - val_accuracy: 0.5000 - val_loss: 1.3167\n",
            "Epoch 2/100\n",
            "\u001b[1m3/3\u001b[0m \u001b[32m━━━━━━━━━━━━━━━━━━━━\u001b[0m\u001b[37m\u001b[0m \u001b[1m0s\u001b[0m 45ms/step - accuracy: 0.4805 - loss: 1.0565 - val_accuracy: 0.5000 - val_loss: 1.2431\n",
            "Epoch 3/100\n",
            "\u001b[1m3/3\u001b[0m \u001b[32m━━━━━━━━━━━━━━━━━━━━\u001b[0m\u001b[37m\u001b[0m \u001b[1m0s\u001b[0m 56ms/step - accuracy: 0.5000 - loss: 1.0004 - val_accuracy: 0.5000 - val_loss: 1.1734\n",
            "Epoch 4/100\n",
            "\u001b[1m3/3\u001b[0m \u001b[32m━━━━━━━━━━━━━━━━━━━━\u001b[0m\u001b[37m\u001b[0m \u001b[1m0s\u001b[0m 37ms/step - accuracy: 0.4961 - loss: 0.9304 - val_accuracy: 0.5000 - val_loss: 1.1072\n",
            "Epoch 5/100\n",
            "\u001b[1m3/3\u001b[0m \u001b[32m━━━━━━━━━━━━━━━━━━━━\u001b[0m\u001b[37m\u001b[0m \u001b[1m0s\u001b[0m 37ms/step - accuracy: 0.5000 - loss: 0.9186 - val_accuracy: 0.4500 - val_loss: 1.0443\n",
            "Epoch 6/100\n",
            "\u001b[1m3/3\u001b[0m \u001b[32m━━━━━━━━━━━━━━━━━━━━\u001b[0m\u001b[37m\u001b[0m \u001b[1m0s\u001b[0m 151ms/step - accuracy: 0.5430 - loss: 0.8660 - val_accuracy: 0.4000 - val_loss: 0.9872\n",
            "Epoch 7/100\n",
            "\u001b[1m3/3\u001b[0m \u001b[32m━━━━━━━━━━━━━━━━━━━━\u001b[0m\u001b[37m\u001b[0m \u001b[1m0s\u001b[0m 60ms/step - accuracy: 0.4500 - loss: 0.8759 - val_accuracy: 0.3500 - val_loss: 0.9325\n",
            "Epoch 8/100\n",
            "\u001b[1m3/3\u001b[0m \u001b[32m━━━━━━━━━━━━━━━━━━━━\u001b[0m\u001b[37m\u001b[0m \u001b[1m0s\u001b[0m 41ms/step - accuracy: 0.4141 - loss: 0.8420 - val_accuracy: 0.3500 - val_loss: 0.8843\n",
            "Epoch 9/100\n",
            "\u001b[1m3/3\u001b[0m \u001b[32m━━━━━━━━━━━━━━━━━━━━\u001b[0m\u001b[37m\u001b[0m \u001b[1m0s\u001b[0m 59ms/step - accuracy: 0.4039 - loss: 0.8054 - val_accuracy: 0.4000 - val_loss: 0.8412\n",
            "Epoch 10/100\n",
            "\u001b[1m3/3\u001b[0m \u001b[32m━━━━━━━━━━━━━━━━━━━━\u001b[0m\u001b[37m\u001b[0m \u001b[1m0s\u001b[0m 44ms/step - accuracy: 0.3609 - loss: 0.7754 - val_accuracy: 0.3500 - val_loss: 0.8026\n",
            "Epoch 11/100\n",
            "\u001b[1m3/3\u001b[0m \u001b[32m━━━━━━━━━━━━━━━━━━━━\u001b[0m\u001b[37m\u001b[0m \u001b[1m0s\u001b[0m 44ms/step - accuracy: 0.3195 - loss: 0.7584 - val_accuracy: 0.2500 - val_loss: 0.7689\n",
            "Epoch 12/100\n",
            "\u001b[1m3/3\u001b[0m \u001b[32m━━━━━━━━━━━━━━━━━━━━\u001b[0m\u001b[37m\u001b[0m \u001b[1m0s\u001b[0m 45ms/step - accuracy: 0.3750 - loss: 0.7387 - val_accuracy: 0.2500 - val_loss: 0.7398\n",
            "Epoch 13/100\n",
            "\u001b[1m3/3\u001b[0m \u001b[32m━━━━━━━━━━━━━━━━━━━━\u001b[0m\u001b[37m\u001b[0m \u001b[1m0s\u001b[0m 47ms/step - accuracy: 0.3953 - loss: 0.7172 - val_accuracy: 0.4500 - val_loss: 0.7136\n",
            "Epoch 14/100\n",
            "\u001b[1m3/3\u001b[0m \u001b[32m━━━━━━━━━━━━━━━━━━━━\u001b[0m\u001b[37m\u001b[0m \u001b[1m0s\u001b[0m 61ms/step - accuracy: 0.4727 - loss: 0.6996 - val_accuracy: 0.4500 - val_loss: 0.6906\n",
            "Epoch 15/100\n",
            "\u001b[1m3/3\u001b[0m \u001b[32m━━━━━━━━━━━━━━━━━━━━\u001b[0m\u001b[37m\u001b[0m \u001b[1m0s\u001b[0m 62ms/step - accuracy: 0.5180 - loss: 0.6839 - val_accuracy: 0.5000 - val_loss: 0.6688\n",
            "Epoch 16/100\n",
            "\u001b[1m3/3\u001b[0m \u001b[32m━━━━━━━━━━━━━━━━━━━━\u001b[0m\u001b[37m\u001b[0m \u001b[1m0s\u001b[0m 42ms/step - accuracy: 0.4984 - loss: 0.6749 - val_accuracy: 0.5000 - val_loss: 0.6493\n",
            "Epoch 17/100\n",
            "\u001b[1m3/3\u001b[0m \u001b[32m━━━━━━━━━━━━━━━━━━━━\u001b[0m\u001b[37m\u001b[0m \u001b[1m0s\u001b[0m 62ms/step - accuracy: 0.4906 - loss: 0.6631 - val_accuracy: 0.5000 - val_loss: 0.6310\n",
            "Epoch 18/100\n",
            "\u001b[1m3/3\u001b[0m \u001b[32m━━━━━━━━━━━━━━━━━━━━\u001b[0m\u001b[37m\u001b[0m \u001b[1m0s\u001b[0m 44ms/step - accuracy: 0.5320 - loss: 0.6448 - val_accuracy: 0.6500 - val_loss: 0.6130\n",
            "Epoch 19/100\n",
            "\u001b[1m3/3\u001b[0m \u001b[32m━━━━━━━━━━━━━━━━━━━━\u001b[0m\u001b[37m\u001b[0m \u001b[1m0s\u001b[0m 44ms/step - accuracy: 0.5609 - loss: 0.6335 - val_accuracy: 0.6500 - val_loss: 0.5974\n",
            "Epoch 20/100\n",
            "\u001b[1m3/3\u001b[0m \u001b[32m━━━━━━━━━━━━━━━━━━━━\u001b[0m\u001b[37m\u001b[0m \u001b[1m0s\u001b[0m 147ms/step - accuracy: 0.5477 - loss: 0.6406 - val_accuracy: 0.7000 - val_loss: 0.5829\n",
            "Epoch 21/100\n",
            "\u001b[1m3/3\u001b[0m \u001b[32m━━━━━━━━━━━━━━━━━━━━\u001b[0m\u001b[37m\u001b[0m \u001b[1m0s\u001b[0m 46ms/step - accuracy: 0.6484 - loss: 0.6157 - val_accuracy: 0.7000 - val_loss: 0.5695\n",
            "Epoch 22/100\n",
            "\u001b[1m3/3\u001b[0m \u001b[32m━━━━━━━━━━━━━━━━━━━━\u001b[0m\u001b[37m\u001b[0m \u001b[1m0s\u001b[0m 41ms/step - accuracy: 0.6000 - loss: 0.6213 - val_accuracy: 0.7000 - val_loss: 0.5579\n",
            "Epoch 23/100\n",
            "\u001b[1m3/3\u001b[0m \u001b[32m━━━━━━━━━━━━━━━━━━━━\u001b[0m\u001b[37m\u001b[0m \u001b[1m0s\u001b[0m 59ms/step - accuracy: 0.6984 - loss: 0.5883 - val_accuracy: 0.7000 - val_loss: 0.5471\n",
            "Epoch 24/100\n",
            "\u001b[1m3/3\u001b[0m \u001b[32m━━━━━━━━━━━━━━━━━━━━\u001b[0m\u001b[37m\u001b[0m \u001b[1m0s\u001b[0m 60ms/step - accuracy: 0.6750 - loss: 0.5930 - val_accuracy: 0.7500 - val_loss: 0.5370\n",
            "Epoch 25/100\n",
            "\u001b[1m3/3\u001b[0m \u001b[32m━━━━━━━━━━━━━━━━━━━━\u001b[0m\u001b[37m\u001b[0m \u001b[1m0s\u001b[0m 59ms/step - accuracy: 0.6336 - loss: 0.5920 - val_accuracy: 0.7500 - val_loss: 0.5277\n",
            "Epoch 26/100\n",
            "\u001b[1m3/3\u001b[0m \u001b[32m━━━━━━━━━━━━━━━━━━━━\u001b[0m\u001b[37m\u001b[0m \u001b[1m0s\u001b[0m 61ms/step - accuracy: 0.6945 - loss: 0.5963 - val_accuracy: 0.7500 - val_loss: 0.5190\n",
            "Epoch 27/100\n",
            "\u001b[1m3/3\u001b[0m \u001b[32m━━━━━━━━━━━━━━━━━━━━\u001b[0m\u001b[37m\u001b[0m \u001b[1m0s\u001b[0m 42ms/step - accuracy: 0.6984 - loss: 0.5816 - val_accuracy: 0.7500 - val_loss: 0.5100\n",
            "Epoch 28/100\n",
            "\u001b[1m3/3\u001b[0m \u001b[32m━━━━━━━━━━━━━━━━━━━━\u001b[0m\u001b[37m\u001b[0m \u001b[1m0s\u001b[0m 63ms/step - accuracy: 0.7141 - loss: 0.5593 - val_accuracy: 0.8000 - val_loss: 0.5001\n",
            "Epoch 29/100\n",
            "\u001b[1m3/3\u001b[0m \u001b[32m━━━━━━━━━━━━━━━━━━━━\u001b[0m\u001b[37m\u001b[0m \u001b[1m0s\u001b[0m 41ms/step - accuracy: 0.7641 - loss: 0.5459 - val_accuracy: 0.8500 - val_loss: 0.4902\n",
            "Epoch 30/100\n",
            "\u001b[1m3/3\u001b[0m \u001b[32m━━━━━━━━━━━━━━━━━━━━\u001b[0m\u001b[37m\u001b[0m \u001b[1m0s\u001b[0m 41ms/step - accuracy: 0.7805 - loss: 0.5325 - val_accuracy: 0.9000 - val_loss: 0.4798\n",
            "Epoch 31/100\n",
            "\u001b[1m3/3\u001b[0m \u001b[32m━━━━━━━━━━━━━━━━━━━━\u001b[0m\u001b[37m\u001b[0m \u001b[1m0s\u001b[0m 116ms/step - accuracy: 0.8070 - loss: 0.5251 - val_accuracy: 0.9000 - val_loss: 0.4689\n",
            "Epoch 32/100\n",
            "\u001b[1m3/3\u001b[0m \u001b[32m━━━━━━━━━━━━━━━━━━━━\u001b[0m\u001b[37m\u001b[0m \u001b[1m0s\u001b[0m 65ms/step - accuracy: 0.8344 - loss: 0.5117 - val_accuracy: 0.9000 - val_loss: 0.4574\n",
            "Epoch 33/100\n",
            "\u001b[1m3/3\u001b[0m \u001b[32m━━━━━━━━━━━━━━━━━━━━\u001b[0m\u001b[37m\u001b[0m \u001b[1m0s\u001b[0m 65ms/step - accuracy: 0.8305 - loss: 0.5053 - val_accuracy: 0.9000 - val_loss: 0.4465\n",
            "Epoch 34/100\n",
            "\u001b[1m3/3\u001b[0m \u001b[32m━━━━━━━━━━━━━━━━━━━━\u001b[0m\u001b[37m\u001b[0m \u001b[1m0s\u001b[0m 69ms/step - accuracy: 0.8422 - loss: 0.4938 - val_accuracy: 0.9000 - val_loss: 0.4355\n",
            "Epoch 35/100\n",
            "\u001b[1m3/3\u001b[0m \u001b[32m━━━━━━━━━━━━━━━━━━━━\u001b[0m\u001b[37m\u001b[0m \u001b[1m0s\u001b[0m 67ms/step - accuracy: 0.8148 - loss: 0.5085 - val_accuracy: 0.9000 - val_loss: 0.4252\n",
            "Epoch 36/100\n",
            "\u001b[1m3/3\u001b[0m \u001b[32m━━━━━━━━━━━━━━━━━━━━\u001b[0m\u001b[37m\u001b[0m \u001b[1m0s\u001b[0m 68ms/step - accuracy: 0.8602 - loss: 0.4696 - val_accuracy: 0.9000 - val_loss: 0.4153\n",
            "Epoch 37/100\n",
            "\u001b[1m3/3\u001b[0m \u001b[32m━━━━━━━━━━━━━━━━━━━━\u001b[0m\u001b[37m\u001b[0m \u001b[1m0s\u001b[0m 153ms/step - accuracy: 0.8367 - loss: 0.4690 - val_accuracy: 0.9000 - val_loss: 0.4059\n",
            "Epoch 38/100\n",
            "\u001b[1m3/3\u001b[0m \u001b[32m━━━━━━━━━━━━━━━━━━━━\u001b[0m\u001b[37m\u001b[0m \u001b[1m0s\u001b[0m 67ms/step - accuracy: 0.8570 - loss: 0.4738 - val_accuracy: 0.9000 - val_loss: 0.3969\n",
            "Epoch 39/100\n",
            "\u001b[1m3/3\u001b[0m \u001b[32m━━━━━━━━━━━━━━━━━━━━\u001b[0m\u001b[37m\u001b[0m \u001b[1m0s\u001b[0m 90ms/step - accuracy: 0.8766 - loss: 0.4568 - val_accuracy: 0.9000 - val_loss: 0.3870\n",
            "Epoch 40/100\n",
            "\u001b[1m3/3\u001b[0m \u001b[32m━━━━━━━━━━━━━━━━━━━━\u001b[0m\u001b[37m\u001b[0m \u001b[1m0s\u001b[0m 53ms/step - accuracy: 0.8727 - loss: 0.4499 - val_accuracy: 0.9000 - val_loss: 0.3773\n",
            "Epoch 41/100\n",
            "\u001b[1m3/3\u001b[0m \u001b[32m━━━━━━━━━━━━━━━━━━━━\u001b[0m\u001b[37m\u001b[0m \u001b[1m0s\u001b[0m 55ms/step - accuracy: 0.8648 - loss: 0.4406 - val_accuracy: 0.9000 - val_loss: 0.3670\n",
            "Epoch 42/100\n",
            "\u001b[1m3/3\u001b[0m \u001b[32m━━━━━━━━━━━━━━━━━━━━\u001b[0m\u001b[37m\u001b[0m \u001b[1m0s\u001b[0m 70ms/step - accuracy: 0.9000 - loss: 0.4146 - val_accuracy: 0.9000 - val_loss: 0.3569\n",
            "Epoch 43/100\n",
            "\u001b[1m3/3\u001b[0m \u001b[32m━━━━━━━━━━━━━━━━━━━━\u001b[0m\u001b[37m\u001b[0m \u001b[1m0s\u001b[0m 56ms/step - accuracy: 0.8633 - loss: 0.4351 - val_accuracy: 0.9000 - val_loss: 0.3475\n",
            "Epoch 44/100\n",
            "\u001b[1m3/3\u001b[0m \u001b[32m━━━━━━━━━━━━━━━━━━━━\u001b[0m\u001b[37m\u001b[0m \u001b[1m0s\u001b[0m 72ms/step - accuracy: 0.8633 - loss: 0.4280 - val_accuracy: 0.9000 - val_loss: 0.3382\n",
            "Epoch 45/100\n",
            "\u001b[1m3/3\u001b[0m \u001b[32m━━━━━━━━━━━━━━━━━━━━\u001b[0m\u001b[37m\u001b[0m \u001b[1m0s\u001b[0m 113ms/step - accuracy: 0.8555 - loss: 0.4365 - val_accuracy: 0.9000 - val_loss: 0.3289\n",
            "Epoch 46/100\n",
            "\u001b[1m3/3\u001b[0m \u001b[32m━━━━━━━━━━━━━━━━━━━━\u001b[0m\u001b[37m\u001b[0m \u001b[1m0s\u001b[0m 81ms/step - accuracy: 0.8789 - loss: 0.4045 - val_accuracy: 0.9000 - val_loss: 0.3195\n",
            "Epoch 47/100\n",
            "\u001b[1m3/3\u001b[0m \u001b[32m━━━━━━━━━━━━━━━━━━━━\u001b[0m\u001b[37m\u001b[0m \u001b[1m0s\u001b[0m 71ms/step - accuracy: 0.8633 - loss: 0.4005 - val_accuracy: 0.9000 - val_loss: 0.3109\n",
            "Epoch 48/100\n",
            "\u001b[1m3/3\u001b[0m \u001b[32m━━━━━━━━━━━━━━━━━━━━\u001b[0m\u001b[37m\u001b[0m \u001b[1m0s\u001b[0m 49ms/step - accuracy: 0.8789 - loss: 0.3950 - val_accuracy: 0.8500 - val_loss: 0.3024\n",
            "Epoch 49/100\n",
            "\u001b[1m3/3\u001b[0m \u001b[32m━━━━━━━━━━━━━━━━━━━━\u001b[0m\u001b[37m\u001b[0m \u001b[1m0s\u001b[0m 50ms/step - accuracy: 0.8727 - loss: 0.3844 - val_accuracy: 0.8500 - val_loss: 0.2941\n",
            "Epoch 50/100\n",
            "\u001b[1m3/3\u001b[0m \u001b[32m━━━━━━━━━━━━━━━━━━━━\u001b[0m\u001b[37m\u001b[0m \u001b[1m0s\u001b[0m 68ms/step - accuracy: 0.8414 - loss: 0.4050 - val_accuracy: 0.9000 - val_loss: 0.2860\n",
            "Epoch 51/100\n",
            "\u001b[1m3/3\u001b[0m \u001b[32m━━━━━━━━━━━━━━━━━━━━\u001b[0m\u001b[37m\u001b[0m \u001b[1m0s\u001b[0m 52ms/step - accuracy: 0.8805 - loss: 0.3489 - val_accuracy: 0.9000 - val_loss: 0.2772\n",
            "Epoch 52/100\n",
            "\u001b[1m3/3\u001b[0m \u001b[32m━━━━━━━━━━━━━━━━━━━━\u001b[0m\u001b[37m\u001b[0m \u001b[1m0s\u001b[0m 65ms/step - accuracy: 0.8727 - loss: 0.3480 - val_accuracy: 0.9000 - val_loss: 0.2691\n",
            "Epoch 53/100\n",
            "\u001b[1m3/3\u001b[0m \u001b[32m━━━━━━━━━━━━━━━━━━━━\u001b[0m\u001b[37m\u001b[0m \u001b[1m0s\u001b[0m 104ms/step - accuracy: 0.8609 - loss: 0.3595 - val_accuracy: 0.9000 - val_loss: 0.2617\n",
            "Epoch 54/100\n",
            "\u001b[1m3/3\u001b[0m \u001b[32m━━━━━━━━━━━━━━━━━━━━\u001b[0m\u001b[37m\u001b[0m \u001b[1m0s\u001b[0m 72ms/step - accuracy: 0.8687 - loss: 0.3545 - val_accuracy: 0.9000 - val_loss: 0.2553\n",
            "Epoch 55/100\n",
            "\u001b[1m3/3\u001b[0m \u001b[32m━━━━━━━━━━━━━━━━━━━━\u001b[0m\u001b[37m\u001b[0m \u001b[1m0s\u001b[0m 36ms/step - accuracy: 0.8805 - loss: 0.3406 - val_accuracy: 0.9000 - val_loss: 0.2490\n",
            "Epoch 56/100\n",
            "\u001b[1m3/3\u001b[0m \u001b[32m━━━━━━━━━━━━━━━━━━━━\u001b[0m\u001b[37m\u001b[0m \u001b[1m0s\u001b[0m 38ms/step - accuracy: 0.8922 - loss: 0.3326 - val_accuracy: 0.9000 - val_loss: 0.2437\n",
            "Epoch 57/100\n",
            "\u001b[1m3/3\u001b[0m \u001b[32m━━━━━━━━━━━━━━━━━━━━\u001b[0m\u001b[37m\u001b[0m \u001b[1m0s\u001b[0m 36ms/step - accuracy: 0.8531 - loss: 0.3576 - val_accuracy: 0.9000 - val_loss: 0.2390\n",
            "Epoch 58/100\n",
            "\u001b[1m3/3\u001b[0m \u001b[32m━━━━━━━━━━━━━━━━━━━━\u001b[0m\u001b[37m\u001b[0m \u001b[1m0s\u001b[0m 36ms/step - accuracy: 0.8687 - loss: 0.3415 - val_accuracy: 0.9000 - val_loss: 0.2346\n",
            "Epoch 59/100\n",
            "\u001b[1m3/3\u001b[0m \u001b[32m━━━━━━━━━━━━━━━━━━━━\u001b[0m\u001b[37m\u001b[0m \u001b[1m0s\u001b[0m 37ms/step - accuracy: 0.8531 - loss: 0.3604 - val_accuracy: 0.9000 - val_loss: 0.2305\n",
            "Epoch 60/100\n",
            "\u001b[1m3/3\u001b[0m \u001b[32m━━━━━━━━━━━━━━━━━━━━\u001b[0m\u001b[37m\u001b[0m \u001b[1m0s\u001b[0m 35ms/step - accuracy: 0.8687 - loss: 0.3304 - val_accuracy: 0.9000 - val_loss: 0.2266\n",
            "Epoch 61/100\n",
            "\u001b[1m3/3\u001b[0m \u001b[32m━━━━━━━━━━━━━━━━━━━━\u001b[0m\u001b[37m\u001b[0m \u001b[1m0s\u001b[0m 36ms/step - accuracy: 0.8531 - loss: 0.3518 - val_accuracy: 0.9000 - val_loss: 0.2235\n",
            "Epoch 62/100\n",
            "\u001b[1m3/3\u001b[0m \u001b[32m━━━━━━━━━━━━━━━━━━━━\u001b[0m\u001b[37m\u001b[0m \u001b[1m0s\u001b[0m 36ms/step - accuracy: 0.8570 - loss: 0.3670 - val_accuracy: 0.9000 - val_loss: 0.2200\n",
            "Epoch 63/100\n",
            "\u001b[1m3/3\u001b[0m \u001b[32m━━━━━━━━━━━━━━━━━━━━\u001b[0m\u001b[37m\u001b[0m \u001b[1m0s\u001b[0m 35ms/step - accuracy: 0.8492 - loss: 0.3486 - val_accuracy: 0.9000 - val_loss: 0.2169\n",
            "Epoch 64/100\n",
            "\u001b[1m3/3\u001b[0m \u001b[32m━━━━━━━━━━━━━━━━━━━━\u001b[0m\u001b[37m\u001b[0m \u001b[1m0s\u001b[0m 36ms/step - accuracy: 0.8687 - loss: 0.3327 - val_accuracy: 0.9000 - val_loss: 0.2138\n",
            "Epoch 65/100\n",
            "\u001b[1m3/3\u001b[0m \u001b[32m━━━━━━━━━━━━━━━━━━━━\u001b[0m\u001b[37m\u001b[0m \u001b[1m0s\u001b[0m 100ms/step - accuracy: 0.8492 - loss: 0.3573 - val_accuracy: 0.9000 - val_loss: 0.2110\n",
            "Epoch 66/100\n",
            "\u001b[1m3/3\u001b[0m \u001b[32m━━━━━━━━━━━━━━━━━━━━\u001b[0m\u001b[37m\u001b[0m \u001b[1m0s\u001b[0m 35ms/step - accuracy: 0.8609 - loss: 0.3359 - val_accuracy: 0.9000 - val_loss: 0.2084\n",
            "Epoch 67/100\n",
            "\u001b[1m3/3\u001b[0m \u001b[32m━━━━━━━━━━━━━━━━━━━━\u001b[0m\u001b[37m\u001b[0m \u001b[1m0s\u001b[0m 37ms/step - accuracy: 0.8883 - loss: 0.2963 - val_accuracy: 0.9000 - val_loss: 0.2058\n",
            "Epoch 68/100\n",
            "\u001b[1m3/3\u001b[0m \u001b[32m━━━━━━━━━━━━━━━━━━━━\u001b[0m\u001b[37m\u001b[0m \u001b[1m0s\u001b[0m 35ms/step - accuracy: 0.8766 - loss: 0.3164 - val_accuracy: 0.9000 - val_loss: 0.2037\n",
            "Epoch 69/100\n",
            "\u001b[1m3/3\u001b[0m \u001b[32m━━━━━━━━━━━━━━━━━━━━\u001b[0m\u001b[37m\u001b[0m \u001b[1m0s\u001b[0m 36ms/step - accuracy: 0.8570 - loss: 0.3371 - val_accuracy: 0.9000 - val_loss: 0.2019\n",
            "Epoch 70/100\n",
            "\u001b[1m3/3\u001b[0m \u001b[32m━━━━━━━━━━━━━━━━━━━━\u001b[0m\u001b[37m\u001b[0m \u001b[1m0s\u001b[0m 35ms/step - accuracy: 0.8922 - loss: 0.2790 - val_accuracy: 0.9000 - val_loss: 0.2000\n",
            "Epoch 71/100\n",
            "\u001b[1m3/3\u001b[0m \u001b[32m━━━━━━━━━━━━━━━━━━━━\u001b[0m\u001b[37m\u001b[0m \u001b[1m0s\u001b[0m 37ms/step - accuracy: 0.8648 - loss: 0.3296 - val_accuracy: 0.9000 - val_loss: 0.1986\n",
            "Epoch 72/100\n",
            "\u001b[1m3/3\u001b[0m \u001b[32m━━━━━━━━━━━━━━━━━━━━\u001b[0m\u001b[37m\u001b[0m \u001b[1m0s\u001b[0m 81ms/step - accuracy: 0.8883 - loss: 0.2707 - val_accuracy: 0.9000 - val_loss: 0.1971\n",
            "Epoch 73/100\n",
            "\u001b[1m3/3\u001b[0m \u001b[32m━━━━━━━━━━━━━━━━━━━━\u001b[0m\u001b[37m\u001b[0m \u001b[1m0s\u001b[0m 38ms/step - accuracy: 0.8648 - loss: 0.3331 - val_accuracy: 0.9000 - val_loss: 0.1966\n",
            "Epoch 74/100\n",
            "\u001b[1m3/3\u001b[0m \u001b[32m━━━━━━━━━━━━━━━━━━━━\u001b[0m\u001b[37m\u001b[0m \u001b[1m0s\u001b[0m 36ms/step - accuracy: 0.8648 - loss: 0.3170 - val_accuracy: 0.9000 - val_loss: 0.1959\n",
            "Epoch 75/100\n",
            "\u001b[1m3/3\u001b[0m \u001b[32m━━━━━━━━━━━━━━━━━━━━\u001b[0m\u001b[37m\u001b[0m \u001b[1m0s\u001b[0m 37ms/step - accuracy: 0.8570 - loss: 0.3371 - val_accuracy: 0.9000 - val_loss: 0.1956\n",
            "Epoch 76/100\n",
            "\u001b[1m3/3\u001b[0m \u001b[32m━━━━━━━━━━━━━━━━━━━━\u001b[0m\u001b[37m\u001b[0m \u001b[1m0s\u001b[0m 35ms/step - accuracy: 0.8766 - loss: 0.3051 - val_accuracy: 0.9000 - val_loss: 0.1949\n",
            "Epoch 77/100\n",
            "\u001b[1m3/3\u001b[0m \u001b[32m━━━━━━━━━━━━━━━━━━━━\u001b[0m\u001b[37m\u001b[0m \u001b[1m0s\u001b[0m 38ms/step - accuracy: 0.8805 - loss: 0.2938 - val_accuracy: 0.9000 - val_loss: 0.1947\n",
            "Epoch 78/100\n",
            "\u001b[1m3/3\u001b[0m \u001b[32m━━━━━━━━━━━━━━━━━━━━\u001b[0m\u001b[37m\u001b[0m \u001b[1m0s\u001b[0m 92ms/step - accuracy: 0.8648 - loss: 0.3151 - val_accuracy: 0.9000 - val_loss: 0.1946\n",
            "Epoch 79/100\n",
            "\u001b[1m3/3\u001b[0m \u001b[32m━━━━━━━━━━━━━━━━━━━━\u001b[0m\u001b[37m\u001b[0m \u001b[1m0s\u001b[0m 37ms/step - accuracy: 0.8687 - loss: 0.3209 - val_accuracy: 0.8500 - val_loss: 0.1946\n",
            "Epoch 80/100\n",
            "\u001b[1m3/3\u001b[0m \u001b[32m━━━━━━━━━━━━━━━━━━━━\u001b[0m\u001b[37m\u001b[0m \u001b[1m0s\u001b[0m 39ms/step - accuracy: 0.8766 - loss: 0.2962 - val_accuracy: 0.8500 - val_loss: 0.1945\n",
            "Epoch 81/100\n",
            "\u001b[1m3/3\u001b[0m \u001b[32m━━━━━━━━━━━━━━━━━━━━\u001b[0m\u001b[37m\u001b[0m \u001b[1m0s\u001b[0m 38ms/step - accuracy: 0.8844 - loss: 0.2944 - val_accuracy: 0.8500 - val_loss: 0.1946\n",
            "Epoch 82/100\n",
            "\u001b[1m3/3\u001b[0m \u001b[32m━━━━━━━━━━━━━━━━━━━━\u001b[0m\u001b[37m\u001b[0m \u001b[1m0s\u001b[0m 37ms/step - accuracy: 0.8609 - loss: 0.3288 - val_accuracy: 0.8500 - val_loss: 0.1946\n",
            "Epoch 83/100\n",
            "\u001b[1m3/3\u001b[0m \u001b[32m━━━━━━━━━━━━━━━━━━━━\u001b[0m\u001b[37m\u001b[0m \u001b[1m0s\u001b[0m 36ms/step - accuracy: 0.8687 - loss: 0.3176 - val_accuracy: 0.8500 - val_loss: 0.1945\n",
            "Epoch 84/100\n",
            "\u001b[1m3/3\u001b[0m \u001b[32m━━━━━━━━━━━━━━━━━━━━\u001b[0m\u001b[37m\u001b[0m \u001b[1m0s\u001b[0m 38ms/step - accuracy: 0.8297 - loss: 0.3636 - val_accuracy: 0.8500 - val_loss: 0.1946\n",
            "Epoch 85/100\n",
            "\u001b[1m3/3\u001b[0m \u001b[32m━━━━━━━━━━━━━━━━━━━━\u001b[0m\u001b[37m\u001b[0m \u001b[1m0s\u001b[0m 84ms/step - accuracy: 0.8531 - loss: 0.3302 - val_accuracy: 0.8500 - val_loss: 0.1940\n",
            "Epoch 86/100\n",
            "\u001b[1m3/3\u001b[0m \u001b[32m━━━━━━━━━━━━━━━━━━━━\u001b[0m\u001b[37m\u001b[0m \u001b[1m0s\u001b[0m 38ms/step - accuracy: 0.8570 - loss: 0.3283 - val_accuracy: 0.8500 - val_loss: 0.1933\n",
            "Epoch 87/100\n",
            "\u001b[1m3/3\u001b[0m \u001b[32m━━━━━━━━━━━━━━━━━━━━\u001b[0m\u001b[37m\u001b[0m \u001b[1m0s\u001b[0m 36ms/step - accuracy: 0.8492 - loss: 0.3401 - val_accuracy: 0.8500 - val_loss: 0.1925\n",
            "Epoch 88/100\n",
            "\u001b[1m3/3\u001b[0m \u001b[32m━━━━━━━━━━━━━━━━━━━━\u001b[0m\u001b[37m\u001b[0m \u001b[1m0s\u001b[0m 35ms/step - accuracy: 0.8648 - loss: 0.3202 - val_accuracy: 0.8500 - val_loss: 0.1917\n",
            "Epoch 89/100\n",
            "\u001b[1m3/3\u001b[0m \u001b[32m━━━━━━━━━━━━━━━━━━━━\u001b[0m\u001b[37m\u001b[0m \u001b[1m0s\u001b[0m 35ms/step - accuracy: 0.8492 - loss: 0.3311 - val_accuracy: 0.9000 - val_loss: 0.1905\n",
            "Epoch 90/100\n",
            "\u001b[1m3/3\u001b[0m \u001b[32m━━━━━━━━━━━━━━━━━━━━\u001b[0m\u001b[37m\u001b[0m \u001b[1m0s\u001b[0m 35ms/step - accuracy: 0.8492 - loss: 0.3342 - val_accuracy: 0.9000 - val_loss: 0.1896\n",
            "Epoch 91/100\n",
            "\u001b[1m3/3\u001b[0m \u001b[32m━━━━━━━━━━━━━━━━━━━━\u001b[0m\u001b[37m\u001b[0m \u001b[1m0s\u001b[0m 71ms/step - accuracy: 0.8687 - loss: 0.3165 - val_accuracy: 0.9000 - val_loss: 0.1888\n",
            "Epoch 92/100\n",
            "\u001b[1m3/3\u001b[0m \u001b[32m━━━━━━━━━━━━━━━━━━━━\u001b[0m\u001b[37m\u001b[0m \u001b[1m0s\u001b[0m 36ms/step - accuracy: 0.8648 - loss: 0.3133 - val_accuracy: 0.9000 - val_loss: 0.1878\n",
            "Epoch 93/100\n",
            "\u001b[1m3/3\u001b[0m \u001b[32m━━━━━━━━━━━━━━━━━━━━\u001b[0m\u001b[37m\u001b[0m \u001b[1m0s\u001b[0m 38ms/step - accuracy: 0.8687 - loss: 0.2888 - val_accuracy: 0.9000 - val_loss: 0.1868\n",
            "Epoch 94/100\n",
            "\u001b[1m3/3\u001b[0m \u001b[32m━━━━━━━━━━━━━━━━━━━━\u001b[0m\u001b[37m\u001b[0m \u001b[1m0s\u001b[0m 39ms/step - accuracy: 0.8687 - loss: 0.2992 - val_accuracy: 0.9000 - val_loss: 0.1869\n",
            "Epoch 95/100\n",
            "\u001b[1m3/3\u001b[0m \u001b[32m━━━━━━━━━━━━━━━━━━━━\u001b[0m\u001b[37m\u001b[0m \u001b[1m0s\u001b[0m 37ms/step - accuracy: 0.8570 - loss: 0.3199 - val_accuracy: 0.9000 - val_loss: 0.1872\n",
            "Epoch 96/100\n",
            "\u001b[1m3/3\u001b[0m \u001b[32m━━━━━━━━━━━━━━━━━━━━\u001b[0m\u001b[37m\u001b[0m \u001b[1m0s\u001b[0m 35ms/step - accuracy: 0.8609 - loss: 0.3183 - val_accuracy: 0.9000 - val_loss: 0.1870\n",
            "Epoch 97/100\n",
            "\u001b[1m3/3\u001b[0m \u001b[32m━━━━━━━━━━━━━━━━━━━━\u001b[0m\u001b[37m\u001b[0m \u001b[1m0s\u001b[0m 37ms/step - accuracy: 0.8883 - loss: 0.2862 - val_accuracy: 0.9000 - val_loss: 0.1868\n",
            "Epoch 98/100\n",
            "\u001b[1m3/3\u001b[0m \u001b[32m━━━━━━━━━━━━━━━━━━━━\u001b[0m\u001b[37m\u001b[0m \u001b[1m0s\u001b[0m 120ms/step - accuracy: 0.8844 - loss: 0.2925 - val_accuracy: 0.9000 - val_loss: 0.1868\n",
            "Epoch 99/100\n",
            "\u001b[1m3/3\u001b[0m \u001b[32m━━━━━━━━━━━━━━━━━━━━\u001b[0m\u001b[37m\u001b[0m \u001b[1m0s\u001b[0m 35ms/step - accuracy: 0.8453 - loss: 0.3413 - val_accuracy: 0.9000 - val_loss: 0.1865\n",
            "Epoch 100/100\n",
            "\u001b[1m3/3\u001b[0m \u001b[32m━━━━━━━━━━━━━━━━━━━━\u001b[0m\u001b[37m\u001b[0m \u001b[1m0s\u001b[0m 36ms/step - accuracy: 0.8727 - loss: 0.3022 - val_accuracy: 0.9000 - val_loss: 0.1855\n"
          ]
        }
      ]
    },
    {
      "cell_type": "code",
      "source": [
        "# Get the weights of the new model after training\n",
        "model.get_weights()"
      ],
      "metadata": {
        "colab": {
          "base_uri": "https://localhost:8080/"
        },
        "id": "RpFZGx4M_JB1",
        "outputId": "da123a59-472f-4770-e1fc-5839f73dd525"
      },
      "execution_count": 47,
      "outputs": [
        {
          "output_type": "execute_result",
          "data": {
            "text/plain": [
              "[array([[ 0.375649  , -1.4287022 ,  0.7993689 ,  0.36599812, -0.5188886 ,\n",
              "         -0.9824202 , -0.8192813 , -1.2689661 ,  0.4402534 , -0.477655  ],\n",
              "        [-0.03668225, -0.06425271,  0.56279117, -1.0525223 ,  2.0716484 ,\n",
              "         -0.6763486 , -2.1469667 , -0.894118  , -0.70806205, -0.6930477 ]],\n",
              "       dtype=float32),\n",
              " array([ 0.05225569, -0.07209731, -0.09564346,  0.1466444 , -0.00091374,\n",
              "         0.00727796, -0.04448812, -0.04171486,  0.13154495, -0.11917461],\n",
              "       dtype=float32),\n",
              " array([[ 0.5464484 ,  0.11758596,  0.28141555,  0.56636024,  0.3340182 ,\n",
              "          0.25466692, -0.2371834 ,  0.60884494,  0.4934762 ,  0.48109418],\n",
              "        [ 0.16644484, -0.582014  ,  0.28991535, -0.36892515, -0.28371212,\n",
              "          0.41425323,  0.2239236 , -0.1048535 ,  0.33536574,  0.07701338],\n",
              "        [ 0.7068664 ,  0.3383895 , -0.62396646,  0.05944156, -0.02856441,\n",
              "          0.06846877, -0.07269116,  0.38461155,  0.22999676, -0.3322952 ],\n",
              "        [ 0.8275145 , -0.08874752, -0.13111569,  0.455406  , -0.22560555,\n",
              "         -1.0455116 ,  0.20006154, -0.5522564 , -0.78843164,  0.76396316],\n",
              "        [ 0.6704767 , -0.07654726, -0.06638327, -0.45481917, -0.32560834,\n",
              "          0.3523335 , -0.16342574,  1.0371852 ,  0.9091466 ,  0.43963993],\n",
              "        [ 0.05366454, -0.6360796 ,  0.5300119 ,  0.0617346 ,  0.42927313,\n",
              "          0.55455035,  0.8703453 ,  0.62902147,  0.6291324 ,  0.41037077],\n",
              "        [ 0.06668841, -0.7479525 ,  0.5074663 ,  0.49208838,  0.32179356,\n",
              "          0.14597638,  0.43167728,  0.7110962 , -0.6939456 ,  0.23703198],\n",
              "        [ 0.07650618,  0.06538511,  0.5611768 ,  0.34917212,  0.20977812,\n",
              "         -0.3364952 ,  0.86803883,  0.3859574 ,  0.3796557 , -0.55926645],\n",
              "        [ 0.26704988, -0.0324026 , -0.03908587, -0.0990596 ,  0.01780048,\n",
              "         -0.23420851,  0.4288136 ,  0.15467443, -0.16153544,  1.0091593 ],\n",
              "        [-0.50905013,  0.945117  ,  0.26233393, -0.30681145,  0.68715847,\n",
              "          0.5971406 ,  0.11356817,  0.05328294,  0.31894112, -0.796943  ]],\n",
              "       dtype=float32),\n",
              " array([-0.04191502,  0.06876665, -0.02008471,  0.03589692, -0.15516153,\n",
              "        -0.04171947,  0.07011294, -0.10345322,  0.09173079,  0.08797097],\n",
              "       dtype=float32),\n",
              " array([[-8.2242173e-01,  2.7980426e-01, -8.3356237e-01, -1.4564794e-01,\n",
              "          5.9312135e-01, -3.0439606e-01, -2.7261773e-01,  1.2883769e-01,\n",
              "         -4.4375041e-01,  1.2214375e-03],\n",
              "        [ 3.4906137e-01,  2.0829242e-01, -3.0328050e-01,  2.3982540e-01,\n",
              "          4.1173238e-01, -1.6075049e-01,  2.7775055e-01, -7.9074472e-02,\n",
              "          1.1337390e+00,  8.9948398e-01],\n",
              "        [-1.9092628e-01,  5.7188630e-01, -3.1230602e-01,  1.3792203e-01,\n",
              "          6.6846186e-01, -4.8189208e-01, -1.7187597e-01, -3.5315484e-01,\n",
              "         -5.5710971e-02,  9.3619034e-02],\n",
              "        [ 9.0759680e-02,  1.3292532e-01, -4.9776535e-02,  3.7366545e-01,\n",
              "         -5.0568295e-01,  1.9053292e-02, -2.1794996e-01, -7.2638500e-01,\n",
              "          3.2741231e-01,  2.5439382e-01],\n",
              "        [-2.8563234e-01, -6.6601682e-01, -3.6556402e-01, -9.5705383e-02,\n",
              "          1.0156275e+00, -6.4499825e-01,  2.1147273e-01, -3.9763865e-01,\n",
              "          7.8121766e-02, -4.8551106e-01],\n",
              "        [ 7.9706430e-01,  7.1698469e-01,  4.9955773e-01,  8.7741703e-01,\n",
              "          1.8455540e-01, -5.1484264e-02,  3.0101487e-01,  9.4426036e-02,\n",
              "          1.1278551e+00, -4.4532472e-01],\n",
              "        [-3.7202328e-01, -1.0114941e-01,  3.2207906e-01, -6.2366742e-01,\n",
              "          5.5172640e-01, -5.8492309e-01,  1.3291943e-01,  4.4535583e-01,\n",
              "          3.1148839e-01,  3.8219759e-01],\n",
              "        [ 1.0067293e-01, -6.3379562e-01, -4.0270171e-01,  2.2529751e-01,\n",
              "          9.6176498e-02, -2.2993220e-02,  8.4564604e-02, -6.8836600e-02,\n",
              "         -2.2063521e-01, -1.0403211e-03],\n",
              "        [ 6.6973996e-01,  2.2171767e-02, -3.2919469e-01, -3.8693157e-01,\n",
              "          7.3851043e-01, -2.1431545e-02,  7.2292787e-01,  6.4401358e-01,\n",
              "          9.0600199e-01, -8.7759763e-01],\n",
              "        [ 1.3726246e-01,  9.4831944e-01, -1.6145864e-01, -1.4613037e-01,\n",
              "          1.6176203e-01,  4.6934128e-01,  1.8566012e-01, -2.9766712e-02,\n",
              "         -4.4675815e-01,  4.2170662e-01]], dtype=float32),\n",
              " array([ 0.06774531,  0.01558303,  0.        , -0.05796253, -0.03741331,\n",
              "        -0.06798348,  0.00510667,  0.05044074,  0.10475349,  0.17020403],\n",
              "       dtype=float32),\n",
              " array([[-0.6408858 ,  0.5910453 , -0.05994873, -0.97934276, -0.5646107 ,\n",
              "         -0.4930988 ,  0.8995739 , -0.2851883 , -0.3648909 , -0.03363856],\n",
              "        [ 0.10339872, -0.41179618,  0.40051022,  0.1864957 , -0.21732782,\n",
              "          0.32004896, -0.22612374, -0.737399  , -0.35410002, -0.04565968],\n",
              "        [-0.10836972,  0.25720608,  0.16856661,  0.1526261 ,  0.18085282,\n",
              "          0.90198517, -0.29308292,  0.18407008, -0.44718358, -0.6908396 ],\n",
              "        [-0.03183591,  0.23486179,  0.11887925,  0.78450656, -0.1938622 ,\n",
              "          0.8691785 , -0.09638236, -0.26460475, -0.03968567,  0.7804703 ],\n",
              "        [ 0.14415945,  0.91271234,  0.18913616,  0.5415932 ,  0.5311337 ,\n",
              "         -0.6456285 , -0.3913754 , -0.19699636,  0.12010554,  0.9001885 ],\n",
              "        [-0.533859  ,  0.18820319,  0.2310831 , -0.15230429,  0.06512503,\n",
              "          0.23083434, -0.5944366 , -0.0990869 , -0.21418911, -0.93549025],\n",
              "        [ 0.316504  , -0.10154051, -0.4754426 , -0.05411088,  0.3337998 ,\n",
              "         -0.497577  , -0.7690465 ,  0.34532994, -0.43884164, -0.47704077],\n",
              "        [ 0.3410764 , -0.16787475, -0.25783482, -0.4839016 ,  0.3816723 ,\n",
              "         -0.56493515,  0.20161799, -0.31922525, -0.54494077, -0.3945162 ],\n",
              "        [ 0.61844575,  0.17082484,  0.1363006 , -0.97137016,  0.21139014,\n",
              "         -0.46568182,  0.30577078, -0.4786851 , -0.61546   , -0.40493244],\n",
              "        [-0.9500742 ,  0.2004865 ,  0.5352233 ,  0.18735984, -0.97411895,\n",
              "          0.97607607, -0.04323479,  0.4548788 ,  0.0370791 ,  0.84973025]],\n",
              "       dtype=float32),\n",
              " array([ 0.00393366, -0.06346382,  0.04131052,  0.04341115, -0.02311627,\n",
              "         0.08843162,  0.        ,  0.        , -0.0872583 ,  0.05801011],\n",
              "       dtype=float32),\n",
              " array([[-0.26067296],\n",
              "        [-0.6115271 ],\n",
              "        [ 0.6136187 ],\n",
              "        [ 0.37770247],\n",
              "        [-0.3106674 ],\n",
              "        [ 0.15803188],\n",
              "        [ 0.2644543 ],\n",
              "        [-0.46377563],\n",
              "        [-0.59219843],\n",
              "        [ 0.44639805]], dtype=float32),\n",
              " array([0.05985445], dtype=float32)]"
            ]
          },
          "metadata": {},
          "execution_count": 47
        }
      ]
    },
    {
      "cell_type": "code",
      "source": [
        "# Import the plot_decision_regions function from mlxtend\n",
        "from mlxtend.plotting import plot_decision_regions\n",
        "# Plot the decision boundary of the new trained model\n",
        "# x: features, y: target variable (converted to integer type), clf: the trained model, legend: display the legend\n",
        "plot_decision_regions(x, y.astype('int') ,clf=model, legend=2)\n",
        "# Show the plot\n",
        "plt.show()"
      ],
      "metadata": {
        "colab": {
          "base_uri": "https://localhost:8080/",
          "height": 448
        },
        "id": "ofLBk0jo_L1d",
        "outputId": "ba955af3-9b44-4adb-d5e4-d879b771e30f"
      },
      "execution_count": 48,
      "outputs": [
        {
          "output_type": "stream",
          "name": "stdout",
          "text": [
            "\u001b[1m9600/9600\u001b[0m \u001b[32m━━━━━━━━━━━━━━━━━━━━\u001b[0m\u001b[37m\u001b[0m \u001b[1m13s\u001b[0m 1ms/step\n"
          ]
        },
        {
          "output_type": "display_data",
          "data": {
            "text/plain": [
              "<Figure size 640x480 with 1 Axes>"
            ],
            "image/png": "[encoded data removed]"
          },
          "metadata": {}
        }
      ]
    },
    {
      "cell_type": "markdown",
      "metadata": {
        "id": "87574a8a"
      },
      "source": []
    }
  ]
}