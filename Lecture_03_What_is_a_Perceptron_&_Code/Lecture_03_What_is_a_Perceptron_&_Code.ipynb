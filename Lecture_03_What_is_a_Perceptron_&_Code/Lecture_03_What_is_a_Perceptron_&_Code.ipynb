{
  "nbformat": 4,
  "nbformat_minor": 0,
  "metadata": {
    "colab": {
      "provenance": [],
      "authorship_tag": "ABX9TyPsr9GPZhBHCd83B7XBB8gU",
      "include_colab_link": true
    },
    "kernelspec": {
      "name": "python3",
      "display_name": "Python 3"
    },
    "language_info": {
      "name": "python"
    }
  },
  "cells": [
    {
      "cell_type": "markdown",
      "metadata": {
        "id": "view-in-github",
        "colab_type": "text"
      },
      "source": [
        "<a href=\"https://colab.research.google.com/github/Saifullah785/deep-learning-ai-journey/blob/main/Lecture_03_What_is_a_Perceptron_%26_Code/Lecture_03_What_is_a_Perceptron_%26_Code.ipynb\" target=\"_parent\"><img src=\"https://colab.research.google.com/assets/colab-badge.svg\" alt=\"Open In Colab\"/></a>"
      ]
    },
    {
      "cell_type": "markdown",
      "source": [
        "# **What is a Perceptron? Perceptron Vs Neuron | Perceptron Geometric Intuition**"
      ],
      "metadata": {
        "id": "XzIDzfzBo5Ef"
      }
    },
    {
      "cell_type": "markdown",
      "source": [
        "# **📘 What is a Perceptron?**\n",
        "\n",
        "**🔹 Definition (Simple Way):**\n",
        "\n",
        "A Perceptron is the simplest unit of a neural network — like a single brain cell.\n",
        "\n",
        "It takes inputs, multiplies them with weights, adds a bias, and passes the result through an activation function to produce an output.\n",
        "\n",
        "It’s the building block of neural networks — kind of like the \"atom\" of deep learning."
      ],
      "metadata": {
        "id": "igtcelYCqR9m"
      }
    },
    {
      "cell_type": "markdown",
      "source": [
        "# **💡 Real-Life Analogy:**\n",
        "\n",
        "Imagine a light switch that turns on if:\n",
        "\n",
        "It's dark (input 1),\n",
        "\n",
        "Someone is in the room (input 2),\n",
        "\n",
        "And you flip the switch (input 3).\n",
        "\n",
        "Each of these inputs has a certain importance (weight).\n",
        "\n",
        "The perceptron checks the total importance and decides ON or OFF (1 or 0)"
      ],
      "metadata": {
        "id": "Vt4CsWjUqR6W"
      }
    },
    {
      "cell_type": "markdown",
      "source": [
        "# Output = Activation(w1*x1 + w2*x2 + ... + wn*xn + b)\n",
        "\n",
        "Where:\n",
        "\n",
        "x1, x2,... are inputs (e.g., darkness, motion),\n",
        "\n",
        "w1, w2,... are weights (how important each input is),\n",
        "\n",
        "b is the bias (extra value to shift the result),\n",
        "\n",
        "Activation is usually a step function (0 or 1)."
      ],
      "metadata": {
        "id": "Q0RY6GB_qR3J"
      }
    },
    {
      "cell_type": "markdown",
      "source": [
        "# **🧠 Neuron vs Perceptron**"
      ],
      "metadata": {
        "id": "oMkanuwBqRzu"
      }
    },
    {
      "cell_type": "markdown",
      "source": [
        "| Feature     | **Perceptron**                | **Neuron (in Deep Learning)**           |\n",
        "| ----------- | ----------------------------- | --------------------------------------- |\n",
        "| Activation  | Uses simple **step function** | Uses advanced functions (ReLU, sigmoid) |\n",
        "| Layers      | Single-layer only             | Can form **multi-layer networks**       |\n",
        "| Use Case    | Early, basic ML problems      | Used in **modern Deep Learning**        |\n",
        "| Flexibility | Less flexible                 | Very flexible & powerful                |\n",
        "\n",
        "✅ Perceptron is an early version of a neuron.\n",
        "\n",
        " Neuron is the evolved version used in real DL models."
      ],
      "metadata": {
        "id": "0BiOPI4jqRwQ"
      }
    },
    {
      "cell_type": "markdown",
      "source": [
        "# **📐 Geometric Intuition of Perceptron**\n",
        "\n",
        "**✅ Geometrically:**\n",
        "\n",
        "A perceptron is like a line (or hyperplane) that divides the space into two parts: one side = class 1, other side = class 0.\n",
        "\n",
        "**💡 Think like this:**\n",
        "\n",
        "You want to separate ripe apples vs unripe apples using color and size:\n",
        "\n",
        "Input 1 = color (scale: green to red)\n",
        "\n",
        "Input 2 = size\n",
        "\n",
        "You can draw a line in a 2D graph:\n",
        "\n",
        "One side = ripe apples (output = 1)\n",
        "\n",
        "Other side = unripe apples (output = 0)\n",
        "\n",
        "👉 This decision boundary is created by the perceptron."
      ],
      "metadata": {
        "id": "6GPHNt53qRmT"
      }
    },
    {
      "cell_type": "markdown",
      "source": [
        "**🔁 Memory Tips**\n",
        "\n",
        "Perceptron = Baby neuron\n",
        "\n",
        "Step Function = YES/NO Decision\n",
        "\n",
        "Weights = Importance\n",
        "\n",
        "Bias = Flexibility\n",
        "\n",
        "Line in space = Decision boundary"
      ],
      "metadata": {
        "id": "XcEZrhN0qRik"
      }
    },
    {
      "cell_type": "code",
      "execution_count": null,
      "metadata": {
        "id": "fmfGKc1Wnzh4"
      },
      "outputs": [],
      "source": []
    }
  ]
}